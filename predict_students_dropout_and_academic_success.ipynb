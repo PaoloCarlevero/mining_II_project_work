{
  "cells": [
    {
      "cell_type": "markdown",
      "source": [
        "# INTRODUZIONE\n",
        "\n",
        "## Scopo dell'analisi\n",
        "\n",
        "Il dataset è stato creato in un progetto che mira a contribuire alla riduzione dell'abbandono e del fallimento accademico nell'istruzione superiore, utilizzando tecniche di machine learning per identificare gli studenti a rischio in una fase precoce del loro percorso accademico, in modo che possano essere messe in atto strategie di supporto.\n",
        "\n",
        "Il dataset include informazioni note al momento dell'iscrizione dello studente: percorso accademico, dati demografici e fattori socio-economici.\n",
        "\n",
        "# Fonte\n",
        "\n",
        "UC Irvine Machine Learning Repository - Predict Students' Dropout and Academic Success (Donated on 12/12/2021)\n",
        "\n",
        "https://archive.ics.uci.edu/dataset/697/predict+students+dropout+and+academic+success\n",
        "\n",
        "# Riconoscimenti\n",
        "\n",
        "M.V.Martins, D. Tolledo, J. Machado, L. M.T. Baptista, V.Realinho. (2021) \"Early prediction of student’s performance in higher education: a case study\" Trends and Applications in Information Systems and Technologies, vol.1, in Advances in Intelligent Systems and Computing series. Springer. DOI: 10.1007/978-3-030-72657-7_16\n",
        "\n",
        "## Licenza\n",
        "\n",
        "This dataset is licensed under a Creative Commons Attribution 4.0 International (CC BY 4.0) license.\n",
        "\n",
        "This allows for the sharing and adaptation of the datasets for any purpose, provided that the appropriate credit is given."
      ],
      "metadata": {
        "id": "Dxe9YDX2_oAh"
      }
    },
    {
      "cell_type": "markdown",
      "source": [
        "# Importazione di pacchetti e librerie"
      ],
      "metadata": {
        "id": "W80eUmKlBukO"
      }
    },
    {
      "cell_type": "code",
      "execution_count": 55,
      "metadata": {
        "id": "Y24NYiJ2pI4V"
      },
      "outputs": [],
      "source": [
        "import pandas as pd\n",
        "import numpy as np\n",
        "from matplotlib import pyplot as plt\n",
        "import seaborn as sns\n",
        "\n",
        "import regex as re # Pattern matching\n",
        "\n",
        "from sklearn.model_selection import train_test_split, GridSearchCV,RandomizedSearchCV\n",
        "from sklearn.tree import DecisionTreeClassifier, plot_tree\n",
        "from sklearn.metrics import accuracy_score, f1_score, ConfusionMatrixDisplay, classification_report, make_scorer, RocCurveDisplay, silhouette_score, adjusted_rand_score, f1_score\n",
        "from sklearn.preprocessing import OneHotEncoder, OrdinalEncoder, StandardScaler, LabelEncoder, MinMaxScaler\n",
        "from sklearn.neighbors import KNeighborsClassifier\n",
        "from sklearn.pipeline import make_pipeline\n",
        "from sklearn.compose import ColumnTransformer\n",
        "from sklearn.ensemble import RandomForestClassifier\n",
        "from sklearn.svm import SVC\n",
        "from sklearn.decomposition import PCA\n",
        "from sklearn.cluster import KMeans, DBSCAN\n"
      ]
    },
    {
      "cell_type": "code",
      "execution_count": 56,
      "metadata": {
        "id": "m5Ec_V1pjyo3"
      },
      "outputs": [],
      "source": [
        "sns.set_theme(palette=\"tab10\")"
      ]
    },
    {
      "cell_type": "markdown",
      "metadata": {
        "id": "lNkkB05UgRzs"
      },
      "source": [
        "# Data Ingestion"
      ]
    },
    {
      "cell_type": "code",
      "execution_count": 57,
      "metadata": {
        "id": "Qb3Fz0bZvgTZ"
      },
      "outputs": [],
      "source": [
        "try:\n",
        "\n",
        "  # Importa dataset, salvati come CSV\n",
        "  X = pd.read_csv(\"feature.csv\")\n",
        "  y = pd.read_csv(\"target.csv\")\n",
        "  variables = pd.read_csv(\"variables.csv\")\n",
        "\n",
        "except: # Se i file non sono presenti\n",
        "\n",
        "  # Installa pacchetto necessario per interagire con API di UC Irvine\n",
        "  !pip install ucimlrepo\n",
        "  from ucimlrepo import fetch_ucirepo\n",
        "\n",
        "  # Scarica repository da UC Irvine\n",
        "  predict_students_dropout_and_academic_success = fetch_ucirepo(id=697)\n",
        "\n",
        "  # Estrae dati da repository\n",
        "  X = predict_students_dropout_and_academic_success.data.features\n",
        "  y = predict_students_dropout_and_academic_success.data.targets\n",
        "  variables = predict_students_dropout_and_academic_success.variables\n",
        "\n",
        "  # Salva dataset come CSV\n",
        "  X.to_csv(\"feature.csv\", index=False)\n",
        "  y.to_csv(\"target.csv\", index=False)\n",
        "  variables.to_csv(\"variables.csv\", index=False)"
      ]
    },
    {
      "cell_type": "markdown",
      "source": [
        "# Exploratory analysis"
      ],
      "metadata": {
        "id": "wkG7Ddm4DbNN"
      }
    },
    {
      "cell_type": "markdown",
      "source": [
        "## Feature df"
      ],
      "metadata": {
        "id": "Kduo6qp3DYp5"
      }
    },
    {
      "cell_type": "code",
      "execution_count": 58,
      "metadata": {
        "id": "18hgXfL-8IkB",
        "colab": {
          "base_uri": "https://localhost:8080/",
          "height": 496
        },
        "outputId": "cdbf3d1e-8f1e-4d0c-a5f4-3c5eaf3d247d"
      },
      "outputs": [
        {
          "output_type": "execute_result",
          "data": {
            "text/plain": [
              "      Marital Status  Application mode  Application order  Course  \\\n",
              "0                  1                17                  5     171   \n",
              "1                  1                15                  1    9254   \n",
              "2                  1                 1                  5    9070   \n",
              "3                  1                17                  2    9773   \n",
              "4                  2                39                  1    8014   \n",
              "...              ...               ...                ...     ...   \n",
              "4419               1                 1                  6    9773   \n",
              "4420               1                 1                  2    9773   \n",
              "4421               1                 1                  1    9500   \n",
              "4422               1                 1                  1    9147   \n",
              "4423               1                10                  1    9773   \n",
              "\n",
              "      Daytime/evening attendance  Previous qualification  \\\n",
              "0                              1                       1   \n",
              "1                              1                       1   \n",
              "2                              1                       1   \n",
              "3                              1                       1   \n",
              "4                              0                       1   \n",
              "...                          ...                     ...   \n",
              "4419                           1                       1   \n",
              "4420                           1                       1   \n",
              "4421                           1                       1   \n",
              "4422                           1                       1   \n",
              "4423                           1                       1   \n",
              "\n",
              "      Previous qualification (grade)  Nacionality  Mother's qualification  \\\n",
              "0                              122.0            1                      19   \n",
              "1                              160.0            1                       1   \n",
              "2                              122.0            1                      37   \n",
              "3                              122.0            1                      38   \n",
              "4                              100.0            1                      37   \n",
              "...                              ...          ...                     ...   \n",
              "4419                           125.0            1                       1   \n",
              "4420                           120.0          105                       1   \n",
              "4421                           154.0            1                      37   \n",
              "4422                           180.0            1                      37   \n",
              "4423                           152.0           22                      38   \n",
              "\n",
              "      Father's qualification  ...  \\\n",
              "0                         12  ...   \n",
              "1                          3  ...   \n",
              "2                         37  ...   \n",
              "3                         37  ...   \n",
              "4                         38  ...   \n",
              "...                      ...  ...   \n",
              "4419                       1  ...   \n",
              "4420                       1  ...   \n",
              "4421                      37  ...   \n",
              "4422                      37  ...   \n",
              "4423                      37  ...   \n",
              "\n",
              "      Curricular units 1st sem (without evaluations)  \\\n",
              "0                                                  0   \n",
              "1                                                  0   \n",
              "2                                                  0   \n",
              "3                                                  0   \n",
              "4                                                  0   \n",
              "...                                              ...   \n",
              "4419                                               0   \n",
              "4420                                               0   \n",
              "4421                                               0   \n",
              "4422                                               0   \n",
              "4423                                               0   \n",
              "\n",
              "      Curricular units 2nd sem (credited)  \\\n",
              "0                                       0   \n",
              "1                                       0   \n",
              "2                                       0   \n",
              "3                                       0   \n",
              "4                                       0   \n",
              "...                                   ...   \n",
              "4419                                    0   \n",
              "4420                                    0   \n",
              "4421                                    0   \n",
              "4422                                    0   \n",
              "4423                                    0   \n",
              "\n",
              "      Curricular units 2nd sem (enrolled)  \\\n",
              "0                                       0   \n",
              "1                                       6   \n",
              "2                                       6   \n",
              "3                                       6   \n",
              "4                                       6   \n",
              "...                                   ...   \n",
              "4419                                    6   \n",
              "4420                                    6   \n",
              "4421                                    8   \n",
              "4422                                    5   \n",
              "4423                                    6   \n",
              "\n",
              "      Curricular units 2nd sem (evaluations)  \\\n",
              "0                                          0   \n",
              "1                                          6   \n",
              "2                                          0   \n",
              "3                                         10   \n",
              "4                                          6   \n",
              "...                                      ...   \n",
              "4419                                       8   \n",
              "4420                                       6   \n",
              "4421                                       9   \n",
              "4422                                       6   \n",
              "4423                                       6   \n",
              "\n",
              "      Curricular units 2nd sem (approved)  Curricular units 2nd sem (grade)  \\\n",
              "0                                       0                          0.000000   \n",
              "1                                       6                         13.666667   \n",
              "2                                       0                          0.000000   \n",
              "3                                       5                         12.400000   \n",
              "4                                       6                         13.000000   \n",
              "...                                   ...                               ...   \n",
              "4419                                    5                         12.666667   \n",
              "4420                                    2                         11.000000   \n",
              "4421                                    1                         13.500000   \n",
              "4422                                    5                         12.000000   \n",
              "4423                                    6                         13.000000   \n",
              "\n",
              "      Curricular units 2nd sem (without evaluations)  Unemployment rate  \\\n",
              "0                                                  0               10.8   \n",
              "1                                                  0               13.9   \n",
              "2                                                  0               10.8   \n",
              "3                                                  0                9.4   \n",
              "4                                                  0               13.9   \n",
              "...                                              ...                ...   \n",
              "4419                                               0               15.5   \n",
              "4420                                               0               11.1   \n",
              "4421                                               0               13.9   \n",
              "4422                                               0                9.4   \n",
              "4423                                               0               12.7   \n",
              "\n",
              "      Inflation rate   GDP  \n",
              "0                1.4  1.74  \n",
              "1               -0.3  0.79  \n",
              "2                1.4  1.74  \n",
              "3               -0.8 -3.12  \n",
              "4               -0.3  0.79  \n",
              "...              ...   ...  \n",
              "4419             2.8 -4.06  \n",
              "4420             0.6  2.02  \n",
              "4421            -0.3  0.79  \n",
              "4422            -0.8 -3.12  \n",
              "4423             3.7 -1.70  \n",
              "\n",
              "[4424 rows x 36 columns]"
            ],
            "text/html": [
              "\n",
              "  <div id=\"df-f8d29cd0-bd3f-4c79-a109-271cf7864f92\" class=\"colab-df-container\">\n",
              "    <div>\n",
              "<style scoped>\n",
              "    .dataframe tbody tr th:only-of-type {\n",
              "        vertical-align: middle;\n",
              "    }\n",
              "\n",
              "    .dataframe tbody tr th {\n",
              "        vertical-align: top;\n",
              "    }\n",
              "\n",
              "    .dataframe thead th {\n",
              "        text-align: right;\n",
              "    }\n",
              "</style>\n",
              "<table border=\"1\" class=\"dataframe\">\n",
              "  <thead>\n",
              "    <tr style=\"text-align: right;\">\n",
              "      <th></th>\n",
              "      <th>Marital Status</th>\n",
              "      <th>Application mode</th>\n",
              "      <th>Application order</th>\n",
              "      <th>Course</th>\n",
              "      <th>Daytime/evening attendance</th>\n",
              "      <th>Previous qualification</th>\n",
              "      <th>Previous qualification (grade)</th>\n",
              "      <th>Nacionality</th>\n",
              "      <th>Mother's qualification</th>\n",
              "      <th>Father's qualification</th>\n",
              "      <th>...</th>\n",
              "      <th>Curricular units 1st sem (without evaluations)</th>\n",
              "      <th>Curricular units 2nd sem (credited)</th>\n",
              "      <th>Curricular units 2nd sem (enrolled)</th>\n",
              "      <th>Curricular units 2nd sem (evaluations)</th>\n",
              "      <th>Curricular units 2nd sem (approved)</th>\n",
              "      <th>Curricular units 2nd sem (grade)</th>\n",
              "      <th>Curricular units 2nd sem (without evaluations)</th>\n",
              "      <th>Unemployment rate</th>\n",
              "      <th>Inflation rate</th>\n",
              "      <th>GDP</th>\n",
              "    </tr>\n",
              "  </thead>\n",
              "  <tbody>\n",
              "    <tr>\n",
              "      <th>0</th>\n",
              "      <td>1</td>\n",
              "      <td>17</td>\n",
              "      <td>5</td>\n",
              "      <td>171</td>\n",
              "      <td>1</td>\n",
              "      <td>1</td>\n",
              "      <td>122.0</td>\n",
              "      <td>1</td>\n",
              "      <td>19</td>\n",
              "      <td>12</td>\n",
              "      <td>...</td>\n",
              "      <td>0</td>\n",
              "      <td>0</td>\n",
              "      <td>0</td>\n",
              "      <td>0</td>\n",
              "      <td>0</td>\n",
              "      <td>0.000000</td>\n",
              "      <td>0</td>\n",
              "      <td>10.8</td>\n",
              "      <td>1.4</td>\n",
              "      <td>1.74</td>\n",
              "    </tr>\n",
              "    <tr>\n",
              "      <th>1</th>\n",
              "      <td>1</td>\n",
              "      <td>15</td>\n",
              "      <td>1</td>\n",
              "      <td>9254</td>\n",
              "      <td>1</td>\n",
              "      <td>1</td>\n",
              "      <td>160.0</td>\n",
              "      <td>1</td>\n",
              "      <td>1</td>\n",
              "      <td>3</td>\n",
              "      <td>...</td>\n",
              "      <td>0</td>\n",
              "      <td>0</td>\n",
              "      <td>6</td>\n",
              "      <td>6</td>\n",
              "      <td>6</td>\n",
              "      <td>13.666667</td>\n",
              "      <td>0</td>\n",
              "      <td>13.9</td>\n",
              "      <td>-0.3</td>\n",
              "      <td>0.79</td>\n",
              "    </tr>\n",
              "    <tr>\n",
              "      <th>2</th>\n",
              "      <td>1</td>\n",
              "      <td>1</td>\n",
              "      <td>5</td>\n",
              "      <td>9070</td>\n",
              "      <td>1</td>\n",
              "      <td>1</td>\n",
              "      <td>122.0</td>\n",
              "      <td>1</td>\n",
              "      <td>37</td>\n",
              "      <td>37</td>\n",
              "      <td>...</td>\n",
              "      <td>0</td>\n",
              "      <td>0</td>\n",
              "      <td>6</td>\n",
              "      <td>0</td>\n",
              "      <td>0</td>\n",
              "      <td>0.000000</td>\n",
              "      <td>0</td>\n",
              "      <td>10.8</td>\n",
              "      <td>1.4</td>\n",
              "      <td>1.74</td>\n",
              "    </tr>\n",
              "    <tr>\n",
              "      <th>3</th>\n",
              "      <td>1</td>\n",
              "      <td>17</td>\n",
              "      <td>2</td>\n",
              "      <td>9773</td>\n",
              "      <td>1</td>\n",
              "      <td>1</td>\n",
              "      <td>122.0</td>\n",
              "      <td>1</td>\n",
              "      <td>38</td>\n",
              "      <td>37</td>\n",
              "      <td>...</td>\n",
              "      <td>0</td>\n",
              "      <td>0</td>\n",
              "      <td>6</td>\n",
              "      <td>10</td>\n",
              "      <td>5</td>\n",
              "      <td>12.400000</td>\n",
              "      <td>0</td>\n",
              "      <td>9.4</td>\n",
              "      <td>-0.8</td>\n",
              "      <td>-3.12</td>\n",
              "    </tr>\n",
              "    <tr>\n",
              "      <th>4</th>\n",
              "      <td>2</td>\n",
              "      <td>39</td>\n",
              "      <td>1</td>\n",
              "      <td>8014</td>\n",
              "      <td>0</td>\n",
              "      <td>1</td>\n",
              "      <td>100.0</td>\n",
              "      <td>1</td>\n",
              "      <td>37</td>\n",
              "      <td>38</td>\n",
              "      <td>...</td>\n",
              "      <td>0</td>\n",
              "      <td>0</td>\n",
              "      <td>6</td>\n",
              "      <td>6</td>\n",
              "      <td>6</td>\n",
              "      <td>13.000000</td>\n",
              "      <td>0</td>\n",
              "      <td>13.9</td>\n",
              "      <td>-0.3</td>\n",
              "      <td>0.79</td>\n",
              "    </tr>\n",
              "    <tr>\n",
              "      <th>...</th>\n",
              "      <td>...</td>\n",
              "      <td>...</td>\n",
              "      <td>...</td>\n",
              "      <td>...</td>\n",
              "      <td>...</td>\n",
              "      <td>...</td>\n",
              "      <td>...</td>\n",
              "      <td>...</td>\n",
              "      <td>...</td>\n",
              "      <td>...</td>\n",
              "      <td>...</td>\n",
              "      <td>...</td>\n",
              "      <td>...</td>\n",
              "      <td>...</td>\n",
              "      <td>...</td>\n",
              "      <td>...</td>\n",
              "      <td>...</td>\n",
              "      <td>...</td>\n",
              "      <td>...</td>\n",
              "      <td>...</td>\n",
              "      <td>...</td>\n",
              "    </tr>\n",
              "    <tr>\n",
              "      <th>4419</th>\n",
              "      <td>1</td>\n",
              "      <td>1</td>\n",
              "      <td>6</td>\n",
              "      <td>9773</td>\n",
              "      <td>1</td>\n",
              "      <td>1</td>\n",
              "      <td>125.0</td>\n",
              "      <td>1</td>\n",
              "      <td>1</td>\n",
              "      <td>1</td>\n",
              "      <td>...</td>\n",
              "      <td>0</td>\n",
              "      <td>0</td>\n",
              "      <td>6</td>\n",
              "      <td>8</td>\n",
              "      <td>5</td>\n",
              "      <td>12.666667</td>\n",
              "      <td>0</td>\n",
              "      <td>15.5</td>\n",
              "      <td>2.8</td>\n",
              "      <td>-4.06</td>\n",
              "    </tr>\n",
              "    <tr>\n",
              "      <th>4420</th>\n",
              "      <td>1</td>\n",
              "      <td>1</td>\n",
              "      <td>2</td>\n",
              "      <td>9773</td>\n",
              "      <td>1</td>\n",
              "      <td>1</td>\n",
              "      <td>120.0</td>\n",
              "      <td>105</td>\n",
              "      <td>1</td>\n",
              "      <td>1</td>\n",
              "      <td>...</td>\n",
              "      <td>0</td>\n",
              "      <td>0</td>\n",
              "      <td>6</td>\n",
              "      <td>6</td>\n",
              "      <td>2</td>\n",
              "      <td>11.000000</td>\n",
              "      <td>0</td>\n",
              "      <td>11.1</td>\n",
              "      <td>0.6</td>\n",
              "      <td>2.02</td>\n",
              "    </tr>\n",
              "    <tr>\n",
              "      <th>4421</th>\n",
              "      <td>1</td>\n",
              "      <td>1</td>\n",
              "      <td>1</td>\n",
              "      <td>9500</td>\n",
              "      <td>1</td>\n",
              "      <td>1</td>\n",
              "      <td>154.0</td>\n",
              "      <td>1</td>\n",
              "      <td>37</td>\n",
              "      <td>37</td>\n",
              "      <td>...</td>\n",
              "      <td>0</td>\n",
              "      <td>0</td>\n",
              "      <td>8</td>\n",
              "      <td>9</td>\n",
              "      <td>1</td>\n",
              "      <td>13.500000</td>\n",
              "      <td>0</td>\n",
              "      <td>13.9</td>\n",
              "      <td>-0.3</td>\n",
              "      <td>0.79</td>\n",
              "    </tr>\n",
              "    <tr>\n",
              "      <th>4422</th>\n",
              "      <td>1</td>\n",
              "      <td>1</td>\n",
              "      <td>1</td>\n",
              "      <td>9147</td>\n",
              "      <td>1</td>\n",
              "      <td>1</td>\n",
              "      <td>180.0</td>\n",
              "      <td>1</td>\n",
              "      <td>37</td>\n",
              "      <td>37</td>\n",
              "      <td>...</td>\n",
              "      <td>0</td>\n",
              "      <td>0</td>\n",
              "      <td>5</td>\n",
              "      <td>6</td>\n",
              "      <td>5</td>\n",
              "      <td>12.000000</td>\n",
              "      <td>0</td>\n",
              "      <td>9.4</td>\n",
              "      <td>-0.8</td>\n",
              "      <td>-3.12</td>\n",
              "    </tr>\n",
              "    <tr>\n",
              "      <th>4423</th>\n",
              "      <td>1</td>\n",
              "      <td>10</td>\n",
              "      <td>1</td>\n",
              "      <td>9773</td>\n",
              "      <td>1</td>\n",
              "      <td>1</td>\n",
              "      <td>152.0</td>\n",
              "      <td>22</td>\n",
              "      <td>38</td>\n",
              "      <td>37</td>\n",
              "      <td>...</td>\n",
              "      <td>0</td>\n",
              "      <td>0</td>\n",
              "      <td>6</td>\n",
              "      <td>6</td>\n",
              "      <td>6</td>\n",
              "      <td>13.000000</td>\n",
              "      <td>0</td>\n",
              "      <td>12.7</td>\n",
              "      <td>3.7</td>\n",
              "      <td>-1.70</td>\n",
              "    </tr>\n",
              "  </tbody>\n",
              "</table>\n",
              "<p>4424 rows × 36 columns</p>\n",
              "</div>\n",
              "    <div class=\"colab-df-buttons\">\n",
              "      \n",
              "  <div class=\"colab-df-container\">\n",
              "    <button class=\"colab-df-convert\" onclick=\"convertToInteractive('df-f8d29cd0-bd3f-4c79-a109-271cf7864f92')\"\n",
              "            title=\"Convert this dataframe to an interactive table.\"\n",
              "            style=\"display:none;\">\n",
              "      \n",
              "  <svg xmlns=\"http://www.w3.org/2000/svg\" height=\"24px\" viewBox=\"0 -960 960 960\">\n",
              "    <path d=\"M120-120v-720h720v720H120Zm60-500h600v-160H180v160Zm220 220h160v-160H400v160Zm0 220h160v-160H400v160ZM180-400h160v-160H180v160Zm440 0h160v-160H620v160ZM180-180h160v-160H180v160Zm440 0h160v-160H620v160Z\"/>\n",
              "  </svg>\n",
              "    </button>\n",
              "    \n",
              "  <style>\n",
              "    .colab-df-container {\n",
              "      display:flex;\n",
              "      gap: 12px;\n",
              "    }\n",
              "\n",
              "    .colab-df-convert {\n",
              "      background-color: #E8F0FE;\n",
              "      border: none;\n",
              "      border-radius: 50%;\n",
              "      cursor: pointer;\n",
              "      display: none;\n",
              "      fill: #1967D2;\n",
              "      height: 32px;\n",
              "      padding: 0 0 0 0;\n",
              "      width: 32px;\n",
              "    }\n",
              "\n",
              "    .colab-df-convert:hover {\n",
              "      background-color: #E2EBFA;\n",
              "      box-shadow: 0px 1px 2px rgba(60, 64, 67, 0.3), 0px 1px 3px 1px rgba(60, 64, 67, 0.15);\n",
              "      fill: #174EA6;\n",
              "    }\n",
              "\n",
              "    .colab-df-buttons div {\n",
              "      margin-bottom: 4px;\n",
              "    }\n",
              "\n",
              "    [theme=dark] .colab-df-convert {\n",
              "      background-color: #3B4455;\n",
              "      fill: #D2E3FC;\n",
              "    }\n",
              "\n",
              "    [theme=dark] .colab-df-convert:hover {\n",
              "      background-color: #434B5C;\n",
              "      box-shadow: 0px 1px 3px 1px rgba(0, 0, 0, 0.15);\n",
              "      filter: drop-shadow(0px 1px 2px rgba(0, 0, 0, 0.3));\n",
              "      fill: #FFFFFF;\n",
              "    }\n",
              "  </style>\n",
              "\n",
              "    <script>\n",
              "      const buttonEl =\n",
              "        document.querySelector('#df-f8d29cd0-bd3f-4c79-a109-271cf7864f92 button.colab-df-convert');\n",
              "      buttonEl.style.display =\n",
              "        google.colab.kernel.accessAllowed ? 'block' : 'none';\n",
              "\n",
              "      async function convertToInteractive(key) {\n",
              "        const element = document.querySelector('#df-f8d29cd0-bd3f-4c79-a109-271cf7864f92');\n",
              "        const dataTable =\n",
              "          await google.colab.kernel.invokeFunction('convertToInteractive',\n",
              "                                                    [key], {});\n",
              "        if (!dataTable) return;\n",
              "\n",
              "        const docLinkHtml = 'Like what you see? Visit the ' +\n",
              "          '<a target=\"_blank\" href=https://colab.research.google.com/notebooks/data_table.ipynb>data table notebook</a>'\n",
              "          + ' to learn more about interactive tables.';\n",
              "        element.innerHTML = '';\n",
              "        dataTable['output_type'] = 'display_data';\n",
              "        await google.colab.output.renderOutput(dataTable, element);\n",
              "        const docLink = document.createElement('div');\n",
              "        docLink.innerHTML = docLinkHtml;\n",
              "        element.appendChild(docLink);\n",
              "      }\n",
              "    </script>\n",
              "  </div>\n",
              "  \n",
              "    </div>\n",
              "  </div>\n",
              "  "
            ],
            "application/vnd.google.colaboratory.intrinsic+json": {
              "type": "dataframe",
              "variable_name": "X"
            }
          },
          "metadata": {},
          "execution_count": 58
        }
      ],
      "source": [
        "# Mostra df delle feature\n",
        "X"
      ]
    },
    {
      "cell_type": "code",
      "execution_count": 59,
      "metadata": {
        "id": "DFfQ5O2TpdOb",
        "colab": {
          "base_uri": "https://localhost:8080/"
        },
        "outputId": "a1461330-277d-4906-9ddd-c14b9e5cc896"
      },
      "outputs": [
        {
          "output_type": "stream",
          "name": "stdout",
          "text": [
            "<class 'pandas.core.frame.DataFrame'>\n",
            "RangeIndex: 4424 entries, 0 to 4423\n",
            "Data columns (total 36 columns):\n",
            " #   Column                                          Non-Null Count  Dtype  \n",
            "---  ------                                          --------------  -----  \n",
            " 0   Marital Status                                  4424 non-null   int64  \n",
            " 1   Application mode                                4424 non-null   int64  \n",
            " 2   Application order                               4424 non-null   int64  \n",
            " 3   Course                                          4424 non-null   int64  \n",
            " 4   Daytime/evening attendance                      4424 non-null   int64  \n",
            " 5   Previous qualification                          4424 non-null   int64  \n",
            " 6   Previous qualification (grade)                  4424 non-null   float64\n",
            " 7   Nacionality                                     4424 non-null   int64  \n",
            " 8   Mother's qualification                          4424 non-null   int64  \n",
            " 9   Father's qualification                          4424 non-null   int64  \n",
            " 10  Mother's occupation                             4424 non-null   int64  \n",
            " 11  Father's occupation                             4424 non-null   int64  \n",
            " 12  Admission grade                                 4424 non-null   float64\n",
            " 13  Displaced                                       4424 non-null   int64  \n",
            " 14  Educational special needs                       4424 non-null   int64  \n",
            " 15  Debtor                                          4424 non-null   int64  \n",
            " 16  Tuition fees up to date                         4424 non-null   int64  \n",
            " 17  Gender                                          4424 non-null   int64  \n",
            " 18  Scholarship holder                              4424 non-null   int64  \n",
            " 19  Age at enrollment                               4424 non-null   int64  \n",
            " 20  International                                   4424 non-null   int64  \n",
            " 21  Curricular units 1st sem (credited)             4424 non-null   int64  \n",
            " 22  Curricular units 1st sem (enrolled)             4424 non-null   int64  \n",
            " 23  Curricular units 1st sem (evaluations)          4424 non-null   int64  \n",
            " 24  Curricular units 1st sem (approved)             4424 non-null   int64  \n",
            " 25  Curricular units 1st sem (grade)                4424 non-null   float64\n",
            " 26  Curricular units 1st sem (without evaluations)  4424 non-null   int64  \n",
            " 27  Curricular units 2nd sem (credited)             4424 non-null   int64  \n",
            " 28  Curricular units 2nd sem (enrolled)             4424 non-null   int64  \n",
            " 29  Curricular units 2nd sem (evaluations)          4424 non-null   int64  \n",
            " 30  Curricular units 2nd sem (approved)             4424 non-null   int64  \n",
            " 31  Curricular units 2nd sem (grade)                4424 non-null   float64\n",
            " 32  Curricular units 2nd sem (without evaluations)  4424 non-null   int64  \n",
            " 33  Unemployment rate                               4424 non-null   float64\n",
            " 34  Inflation rate                                  4424 non-null   float64\n",
            " 35  GDP                                             4424 non-null   float64\n",
            "dtypes: float64(7), int64(29)\n",
            "memory usage: 1.2 MB\n"
          ]
        }
      ],
      "source": [
        "# Mostra informazioni relative a df delle feature\n",
        "X.info()"
      ]
    },
    {
      "cell_type": "code",
      "source": [
        "# Analisi descrittiva\n",
        "X.describe()"
      ],
      "metadata": {
        "colab": {
          "base_uri": "https://localhost:8080/",
          "height": 402
        },
        "id": "qq_8aOwPDGj9",
        "outputId": "d2eb69b5-ecd6-45fa-9745-4f590829c0c8"
      },
      "execution_count": 60,
      "outputs": [
        {
          "output_type": "execute_result",
          "data": {
            "text/plain": [
              "       Marital Status  Application mode  Application order       Course  \\\n",
              "count     4424.000000       4424.000000        4424.000000  4424.000000   \n",
              "mean         1.178571         18.669078           1.727848  8856.642631   \n",
              "std          0.605747         17.484682           1.313793  2063.566416   \n",
              "min          1.000000          1.000000           0.000000    33.000000   \n",
              "25%          1.000000          1.000000           1.000000  9085.000000   \n",
              "50%          1.000000         17.000000           1.000000  9238.000000   \n",
              "75%          1.000000         39.000000           2.000000  9556.000000   \n",
              "max          6.000000         57.000000           9.000000  9991.000000   \n",
              "\n",
              "       Daytime/evening attendance  Previous qualification  \\\n",
              "count                 4424.000000             4424.000000   \n",
              "mean                     0.890823                4.577758   \n",
              "std                      0.311897               10.216592   \n",
              "min                      0.000000                1.000000   \n",
              "25%                      1.000000                1.000000   \n",
              "50%                      1.000000                1.000000   \n",
              "75%                      1.000000                1.000000   \n",
              "max                      1.000000               43.000000   \n",
              "\n",
              "       Previous qualification (grade)  Nacionality  Mother's qualification  \\\n",
              "count                     4424.000000  4424.000000             4424.000000   \n",
              "mean                       132.613314     1.873192               19.561935   \n",
              "std                         13.188332     6.914514               15.603186   \n",
              "min                         95.000000     1.000000                1.000000   \n",
              "25%                        125.000000     1.000000                2.000000   \n",
              "50%                        133.100000     1.000000               19.000000   \n",
              "75%                        140.000000     1.000000               37.000000   \n",
              "max                        190.000000   109.000000               44.000000   \n",
              "\n",
              "       Father's qualification  ...  \\\n",
              "count             4424.000000  ...   \n",
              "mean                22.275316  ...   \n",
              "std                 15.343108  ...   \n",
              "min                  1.000000  ...   \n",
              "25%                  3.000000  ...   \n",
              "50%                 19.000000  ...   \n",
              "75%                 37.000000  ...   \n",
              "max                 44.000000  ...   \n",
              "\n",
              "       Curricular units 1st sem (without evaluations)  \\\n",
              "count                                     4424.000000   \n",
              "mean                                         0.137658   \n",
              "std                                          0.690880   \n",
              "min                                          0.000000   \n",
              "25%                                          0.000000   \n",
              "50%                                          0.000000   \n",
              "75%                                          0.000000   \n",
              "max                                         12.000000   \n",
              "\n",
              "       Curricular units 2nd sem (credited)  \\\n",
              "count                          4424.000000   \n",
              "mean                              0.541817   \n",
              "std                               1.918546   \n",
              "min                               0.000000   \n",
              "25%                               0.000000   \n",
              "50%                               0.000000   \n",
              "75%                               0.000000   \n",
              "max                              19.000000   \n",
              "\n",
              "       Curricular units 2nd sem (enrolled)  \\\n",
              "count                          4424.000000   \n",
              "mean                              6.232143   \n",
              "std                               2.195951   \n",
              "min                               0.000000   \n",
              "25%                               5.000000   \n",
              "50%                               6.000000   \n",
              "75%                               7.000000   \n",
              "max                              23.000000   \n",
              "\n",
              "       Curricular units 2nd sem (evaluations)  \\\n",
              "count                             4424.000000   \n",
              "mean                                 8.063291   \n",
              "std                                  3.947951   \n",
              "min                                  0.000000   \n",
              "25%                                  6.000000   \n",
              "50%                                  8.000000   \n",
              "75%                                 10.000000   \n",
              "max                                 33.000000   \n",
              "\n",
              "       Curricular units 2nd sem (approved)  Curricular units 2nd sem (grade)  \\\n",
              "count                          4424.000000                       4424.000000   \n",
              "mean                              4.435805                         10.230206   \n",
              "std                               3.014764                          5.210808   \n",
              "min                               0.000000                          0.000000   \n",
              "25%                               2.000000                         10.750000   \n",
              "50%                               5.000000                         12.200000   \n",
              "75%                               6.000000                         13.333333   \n",
              "max                              20.000000                         18.571429   \n",
              "\n",
              "       Curricular units 2nd sem (without evaluations)  Unemployment rate  \\\n",
              "count                                     4424.000000        4424.000000   \n",
              "mean                                         0.150316          11.566139   \n",
              "std                                          0.753774           2.663850   \n",
              "min                                          0.000000           7.600000   \n",
              "25%                                          0.000000           9.400000   \n",
              "50%                                          0.000000          11.100000   \n",
              "75%                                          0.000000          13.900000   \n",
              "max                                         12.000000          16.200000   \n",
              "\n",
              "       Inflation rate          GDP  \n",
              "count     4424.000000  4424.000000  \n",
              "mean         1.228029     0.001969  \n",
              "std          1.382711     2.269935  \n",
              "min         -0.800000    -4.060000  \n",
              "25%          0.300000    -1.700000  \n",
              "50%          1.400000     0.320000  \n",
              "75%          2.600000     1.790000  \n",
              "max          3.700000     3.510000  \n",
              "\n",
              "[8 rows x 36 columns]"
            ],
            "text/html": [
              "\n",
              "  <div id=\"df-12dcd660-f34a-46c8-9ce4-3291e611bc36\" class=\"colab-df-container\">\n",
              "    <div>\n",
              "<style scoped>\n",
              "    .dataframe tbody tr th:only-of-type {\n",
              "        vertical-align: middle;\n",
              "    }\n",
              "\n",
              "    .dataframe tbody tr th {\n",
              "        vertical-align: top;\n",
              "    }\n",
              "\n",
              "    .dataframe thead th {\n",
              "        text-align: right;\n",
              "    }\n",
              "</style>\n",
              "<table border=\"1\" class=\"dataframe\">\n",
              "  <thead>\n",
              "    <tr style=\"text-align: right;\">\n",
              "      <th></th>\n",
              "      <th>Marital Status</th>\n",
              "      <th>Application mode</th>\n",
              "      <th>Application order</th>\n",
              "      <th>Course</th>\n",
              "      <th>Daytime/evening attendance</th>\n",
              "      <th>Previous qualification</th>\n",
              "      <th>Previous qualification (grade)</th>\n",
              "      <th>Nacionality</th>\n",
              "      <th>Mother's qualification</th>\n",
              "      <th>Father's qualification</th>\n",
              "      <th>...</th>\n",
              "      <th>Curricular units 1st sem (without evaluations)</th>\n",
              "      <th>Curricular units 2nd sem (credited)</th>\n",
              "      <th>Curricular units 2nd sem (enrolled)</th>\n",
              "      <th>Curricular units 2nd sem (evaluations)</th>\n",
              "      <th>Curricular units 2nd sem (approved)</th>\n",
              "      <th>Curricular units 2nd sem (grade)</th>\n",
              "      <th>Curricular units 2nd sem (without evaluations)</th>\n",
              "      <th>Unemployment rate</th>\n",
              "      <th>Inflation rate</th>\n",
              "      <th>GDP</th>\n",
              "    </tr>\n",
              "  </thead>\n",
              "  <tbody>\n",
              "    <tr>\n",
              "      <th>count</th>\n",
              "      <td>4424.000000</td>\n",
              "      <td>4424.000000</td>\n",
              "      <td>4424.000000</td>\n",
              "      <td>4424.000000</td>\n",
              "      <td>4424.000000</td>\n",
              "      <td>4424.000000</td>\n",
              "      <td>4424.000000</td>\n",
              "      <td>4424.000000</td>\n",
              "      <td>4424.000000</td>\n",
              "      <td>4424.000000</td>\n",
              "      <td>...</td>\n",
              "      <td>4424.000000</td>\n",
              "      <td>4424.000000</td>\n",
              "      <td>4424.000000</td>\n",
              "      <td>4424.000000</td>\n",
              "      <td>4424.000000</td>\n",
              "      <td>4424.000000</td>\n",
              "      <td>4424.000000</td>\n",
              "      <td>4424.000000</td>\n",
              "      <td>4424.000000</td>\n",
              "      <td>4424.000000</td>\n",
              "    </tr>\n",
              "    <tr>\n",
              "      <th>mean</th>\n",
              "      <td>1.178571</td>\n",
              "      <td>18.669078</td>\n",
              "      <td>1.727848</td>\n",
              "      <td>8856.642631</td>\n",
              "      <td>0.890823</td>\n",
              "      <td>4.577758</td>\n",
              "      <td>132.613314</td>\n",
              "      <td>1.873192</td>\n",
              "      <td>19.561935</td>\n",
              "      <td>22.275316</td>\n",
              "      <td>...</td>\n",
              "      <td>0.137658</td>\n",
              "      <td>0.541817</td>\n",
              "      <td>6.232143</td>\n",
              "      <td>8.063291</td>\n",
              "      <td>4.435805</td>\n",
              "      <td>10.230206</td>\n",
              "      <td>0.150316</td>\n",
              "      <td>11.566139</td>\n",
              "      <td>1.228029</td>\n",
              "      <td>0.001969</td>\n",
              "    </tr>\n",
              "    <tr>\n",
              "      <th>std</th>\n",
              "      <td>0.605747</td>\n",
              "      <td>17.484682</td>\n",
              "      <td>1.313793</td>\n",
              "      <td>2063.566416</td>\n",
              "      <td>0.311897</td>\n",
              "      <td>10.216592</td>\n",
              "      <td>13.188332</td>\n",
              "      <td>6.914514</td>\n",
              "      <td>15.603186</td>\n",
              "      <td>15.343108</td>\n",
              "      <td>...</td>\n",
              "      <td>0.690880</td>\n",
              "      <td>1.918546</td>\n",
              "      <td>2.195951</td>\n",
              "      <td>3.947951</td>\n",
              "      <td>3.014764</td>\n",
              "      <td>5.210808</td>\n",
              "      <td>0.753774</td>\n",
              "      <td>2.663850</td>\n",
              "      <td>1.382711</td>\n",
              "      <td>2.269935</td>\n",
              "    </tr>\n",
              "    <tr>\n",
              "      <th>min</th>\n",
              "      <td>1.000000</td>\n",
              "      <td>1.000000</td>\n",
              "      <td>0.000000</td>\n",
              "      <td>33.000000</td>\n",
              "      <td>0.000000</td>\n",
              "      <td>1.000000</td>\n",
              "      <td>95.000000</td>\n",
              "      <td>1.000000</td>\n",
              "      <td>1.000000</td>\n",
              "      <td>1.000000</td>\n",
              "      <td>...</td>\n",
              "      <td>0.000000</td>\n",
              "      <td>0.000000</td>\n",
              "      <td>0.000000</td>\n",
              "      <td>0.000000</td>\n",
              "      <td>0.000000</td>\n",
              "      <td>0.000000</td>\n",
              "      <td>0.000000</td>\n",
              "      <td>7.600000</td>\n",
              "      <td>-0.800000</td>\n",
              "      <td>-4.060000</td>\n",
              "    </tr>\n",
              "    <tr>\n",
              "      <th>25%</th>\n",
              "      <td>1.000000</td>\n",
              "      <td>1.000000</td>\n",
              "      <td>1.000000</td>\n",
              "      <td>9085.000000</td>\n",
              "      <td>1.000000</td>\n",
              "      <td>1.000000</td>\n",
              "      <td>125.000000</td>\n",
              "      <td>1.000000</td>\n",
              "      <td>2.000000</td>\n",
              "      <td>3.000000</td>\n",
              "      <td>...</td>\n",
              "      <td>0.000000</td>\n",
              "      <td>0.000000</td>\n",
              "      <td>5.000000</td>\n",
              "      <td>6.000000</td>\n",
              "      <td>2.000000</td>\n",
              "      <td>10.750000</td>\n",
              "      <td>0.000000</td>\n",
              "      <td>9.400000</td>\n",
              "      <td>0.300000</td>\n",
              "      <td>-1.700000</td>\n",
              "    </tr>\n",
              "    <tr>\n",
              "      <th>50%</th>\n",
              "      <td>1.000000</td>\n",
              "      <td>17.000000</td>\n",
              "      <td>1.000000</td>\n",
              "      <td>9238.000000</td>\n",
              "      <td>1.000000</td>\n",
              "      <td>1.000000</td>\n",
              "      <td>133.100000</td>\n",
              "      <td>1.000000</td>\n",
              "      <td>19.000000</td>\n",
              "      <td>19.000000</td>\n",
              "      <td>...</td>\n",
              "      <td>0.000000</td>\n",
              "      <td>0.000000</td>\n",
              "      <td>6.000000</td>\n",
              "      <td>8.000000</td>\n",
              "      <td>5.000000</td>\n",
              "      <td>12.200000</td>\n",
              "      <td>0.000000</td>\n",
              "      <td>11.100000</td>\n",
              "      <td>1.400000</td>\n",
              "      <td>0.320000</td>\n",
              "    </tr>\n",
              "    <tr>\n",
              "      <th>75%</th>\n",
              "      <td>1.000000</td>\n",
              "      <td>39.000000</td>\n",
              "      <td>2.000000</td>\n",
              "      <td>9556.000000</td>\n",
              "      <td>1.000000</td>\n",
              "      <td>1.000000</td>\n",
              "      <td>140.000000</td>\n",
              "      <td>1.000000</td>\n",
              "      <td>37.000000</td>\n",
              "      <td>37.000000</td>\n",
              "      <td>...</td>\n",
              "      <td>0.000000</td>\n",
              "      <td>0.000000</td>\n",
              "      <td>7.000000</td>\n",
              "      <td>10.000000</td>\n",
              "      <td>6.000000</td>\n",
              "      <td>13.333333</td>\n",
              "      <td>0.000000</td>\n",
              "      <td>13.900000</td>\n",
              "      <td>2.600000</td>\n",
              "      <td>1.790000</td>\n",
              "    </tr>\n",
              "    <tr>\n",
              "      <th>max</th>\n",
              "      <td>6.000000</td>\n",
              "      <td>57.000000</td>\n",
              "      <td>9.000000</td>\n",
              "      <td>9991.000000</td>\n",
              "      <td>1.000000</td>\n",
              "      <td>43.000000</td>\n",
              "      <td>190.000000</td>\n",
              "      <td>109.000000</td>\n",
              "      <td>44.000000</td>\n",
              "      <td>44.000000</td>\n",
              "      <td>...</td>\n",
              "      <td>12.000000</td>\n",
              "      <td>19.000000</td>\n",
              "      <td>23.000000</td>\n",
              "      <td>33.000000</td>\n",
              "      <td>20.000000</td>\n",
              "      <td>18.571429</td>\n",
              "      <td>12.000000</td>\n",
              "      <td>16.200000</td>\n",
              "      <td>3.700000</td>\n",
              "      <td>3.510000</td>\n",
              "    </tr>\n",
              "  </tbody>\n",
              "</table>\n",
              "<p>8 rows × 36 columns</p>\n",
              "</div>\n",
              "    <div class=\"colab-df-buttons\">\n",
              "      \n",
              "  <div class=\"colab-df-container\">\n",
              "    <button class=\"colab-df-convert\" onclick=\"convertToInteractive('df-12dcd660-f34a-46c8-9ce4-3291e611bc36')\"\n",
              "            title=\"Convert this dataframe to an interactive table.\"\n",
              "            style=\"display:none;\">\n",
              "      \n",
              "  <svg xmlns=\"http://www.w3.org/2000/svg\" height=\"24px\" viewBox=\"0 -960 960 960\">\n",
              "    <path d=\"M120-120v-720h720v720H120Zm60-500h600v-160H180v160Zm220 220h160v-160H400v160Zm0 220h160v-160H400v160ZM180-400h160v-160H180v160Zm440 0h160v-160H620v160ZM180-180h160v-160H180v160Zm440 0h160v-160H620v160Z\"/>\n",
              "  </svg>\n",
              "    </button>\n",
              "    \n",
              "  <style>\n",
              "    .colab-df-container {\n",
              "      display:flex;\n",
              "      gap: 12px;\n",
              "    }\n",
              "\n",
              "    .colab-df-convert {\n",
              "      background-color: #E8F0FE;\n",
              "      border: none;\n",
              "      border-radius: 50%;\n",
              "      cursor: pointer;\n",
              "      display: none;\n",
              "      fill: #1967D2;\n",
              "      height: 32px;\n",
              "      padding: 0 0 0 0;\n",
              "      width: 32px;\n",
              "    }\n",
              "\n",
              "    .colab-df-convert:hover {\n",
              "      background-color: #E2EBFA;\n",
              "      box-shadow: 0px 1px 2px rgba(60, 64, 67, 0.3), 0px 1px 3px 1px rgba(60, 64, 67, 0.15);\n",
              "      fill: #174EA6;\n",
              "    }\n",
              "\n",
              "    .colab-df-buttons div {\n",
              "      margin-bottom: 4px;\n",
              "    }\n",
              "\n",
              "    [theme=dark] .colab-df-convert {\n",
              "      background-color: #3B4455;\n",
              "      fill: #D2E3FC;\n",
              "    }\n",
              "\n",
              "    [theme=dark] .colab-df-convert:hover {\n",
              "      background-color: #434B5C;\n",
              "      box-shadow: 0px 1px 3px 1px rgba(0, 0, 0, 0.15);\n",
              "      filter: drop-shadow(0px 1px 2px rgba(0, 0, 0, 0.3));\n",
              "      fill: #FFFFFF;\n",
              "    }\n",
              "  </style>\n",
              "\n",
              "    <script>\n",
              "      const buttonEl =\n",
              "        document.querySelector('#df-12dcd660-f34a-46c8-9ce4-3291e611bc36 button.colab-df-convert');\n",
              "      buttonEl.style.display =\n",
              "        google.colab.kernel.accessAllowed ? 'block' : 'none';\n",
              "\n",
              "      async function convertToInteractive(key) {\n",
              "        const element = document.querySelector('#df-12dcd660-f34a-46c8-9ce4-3291e611bc36');\n",
              "        const dataTable =\n",
              "          await google.colab.kernel.invokeFunction('convertToInteractive',\n",
              "                                                    [key], {});\n",
              "        if (!dataTable) return;\n",
              "\n",
              "        const docLinkHtml = 'Like what you see? Visit the ' +\n",
              "          '<a target=\"_blank\" href=https://colab.research.google.com/notebooks/data_table.ipynb>data table notebook</a>'\n",
              "          + ' to learn more about interactive tables.';\n",
              "        element.innerHTML = '';\n",
              "        dataTable['output_type'] = 'display_data';\n",
              "        await google.colab.output.renderOutput(dataTable, element);\n",
              "        const docLink = document.createElement('div');\n",
              "        docLink.innerHTML = docLinkHtml;\n",
              "        element.appendChild(docLink);\n",
              "      }\n",
              "    </script>\n",
              "  </div>\n",
              "  \n",
              "    </div>\n",
              "  </div>\n",
              "  "
            ],
            "application/vnd.google.colaboratory.intrinsic+json": {
              "type": "dataframe"
            }
          },
          "metadata": {},
          "execution_count": 60
        }
      ]
    },
    {
      "cell_type": "markdown",
      "source": [
        "## Target df"
      ],
      "metadata": {
        "id": "k4ckEahJCvny"
      }
    },
    {
      "cell_type": "code",
      "execution_count": 61,
      "metadata": {
        "id": "tFIzeexagI7L",
        "colab": {
          "base_uri": "https://localhost:8080/",
          "height": 424
        },
        "outputId": "b03804e7-7171-4f26-b2eb-983aab632bc6"
      },
      "outputs": [
        {
          "output_type": "execute_result",
          "data": {
            "text/plain": [
              "        Target\n",
              "0      Dropout\n",
              "1     Graduate\n",
              "2      Dropout\n",
              "3     Graduate\n",
              "4     Graduate\n",
              "...        ...\n",
              "4419  Graduate\n",
              "4420   Dropout\n",
              "4421   Dropout\n",
              "4422  Graduate\n",
              "4423  Graduate\n",
              "\n",
              "[4424 rows x 1 columns]"
            ],
            "text/html": [
              "\n",
              "  <div id=\"df-d8638e20-163e-4d2f-a175-1774814f6291\" class=\"colab-df-container\">\n",
              "    <div>\n",
              "<style scoped>\n",
              "    .dataframe tbody tr th:only-of-type {\n",
              "        vertical-align: middle;\n",
              "    }\n",
              "\n",
              "    .dataframe tbody tr th {\n",
              "        vertical-align: top;\n",
              "    }\n",
              "\n",
              "    .dataframe thead th {\n",
              "        text-align: right;\n",
              "    }\n",
              "</style>\n",
              "<table border=\"1\" class=\"dataframe\">\n",
              "  <thead>\n",
              "    <tr style=\"text-align: right;\">\n",
              "      <th></th>\n",
              "      <th>Target</th>\n",
              "    </tr>\n",
              "  </thead>\n",
              "  <tbody>\n",
              "    <tr>\n",
              "      <th>0</th>\n",
              "      <td>Dropout</td>\n",
              "    </tr>\n",
              "    <tr>\n",
              "      <th>1</th>\n",
              "      <td>Graduate</td>\n",
              "    </tr>\n",
              "    <tr>\n",
              "      <th>2</th>\n",
              "      <td>Dropout</td>\n",
              "    </tr>\n",
              "    <tr>\n",
              "      <th>3</th>\n",
              "      <td>Graduate</td>\n",
              "    </tr>\n",
              "    <tr>\n",
              "      <th>4</th>\n",
              "      <td>Graduate</td>\n",
              "    </tr>\n",
              "    <tr>\n",
              "      <th>...</th>\n",
              "      <td>...</td>\n",
              "    </tr>\n",
              "    <tr>\n",
              "      <th>4419</th>\n",
              "      <td>Graduate</td>\n",
              "    </tr>\n",
              "    <tr>\n",
              "      <th>4420</th>\n",
              "      <td>Dropout</td>\n",
              "    </tr>\n",
              "    <tr>\n",
              "      <th>4421</th>\n",
              "      <td>Dropout</td>\n",
              "    </tr>\n",
              "    <tr>\n",
              "      <th>4422</th>\n",
              "      <td>Graduate</td>\n",
              "    </tr>\n",
              "    <tr>\n",
              "      <th>4423</th>\n",
              "      <td>Graduate</td>\n",
              "    </tr>\n",
              "  </tbody>\n",
              "</table>\n",
              "<p>4424 rows × 1 columns</p>\n",
              "</div>\n",
              "    <div class=\"colab-df-buttons\">\n",
              "      \n",
              "  <div class=\"colab-df-container\">\n",
              "    <button class=\"colab-df-convert\" onclick=\"convertToInteractive('df-d8638e20-163e-4d2f-a175-1774814f6291')\"\n",
              "            title=\"Convert this dataframe to an interactive table.\"\n",
              "            style=\"display:none;\">\n",
              "      \n",
              "  <svg xmlns=\"http://www.w3.org/2000/svg\" height=\"24px\" viewBox=\"0 -960 960 960\">\n",
              "    <path d=\"M120-120v-720h720v720H120Zm60-500h600v-160H180v160Zm220 220h160v-160H400v160Zm0 220h160v-160H400v160ZM180-400h160v-160H180v160Zm440 0h160v-160H620v160ZM180-180h160v-160H180v160Zm440 0h160v-160H620v160Z\"/>\n",
              "  </svg>\n",
              "    </button>\n",
              "    \n",
              "  <style>\n",
              "    .colab-df-container {\n",
              "      display:flex;\n",
              "      gap: 12px;\n",
              "    }\n",
              "\n",
              "    .colab-df-convert {\n",
              "      background-color: #E8F0FE;\n",
              "      border: none;\n",
              "      border-radius: 50%;\n",
              "      cursor: pointer;\n",
              "      display: none;\n",
              "      fill: #1967D2;\n",
              "      height: 32px;\n",
              "      padding: 0 0 0 0;\n",
              "      width: 32px;\n",
              "    }\n",
              "\n",
              "    .colab-df-convert:hover {\n",
              "      background-color: #E2EBFA;\n",
              "      box-shadow: 0px 1px 2px rgba(60, 64, 67, 0.3), 0px 1px 3px 1px rgba(60, 64, 67, 0.15);\n",
              "      fill: #174EA6;\n",
              "    }\n",
              "\n",
              "    .colab-df-buttons div {\n",
              "      margin-bottom: 4px;\n",
              "    }\n",
              "\n",
              "    [theme=dark] .colab-df-convert {\n",
              "      background-color: #3B4455;\n",
              "      fill: #D2E3FC;\n",
              "    }\n",
              "\n",
              "    [theme=dark] .colab-df-convert:hover {\n",
              "      background-color: #434B5C;\n",
              "      box-shadow: 0px 1px 3px 1px rgba(0, 0, 0, 0.15);\n",
              "      filter: drop-shadow(0px 1px 2px rgba(0, 0, 0, 0.3));\n",
              "      fill: #FFFFFF;\n",
              "    }\n",
              "  </style>\n",
              "\n",
              "    <script>\n",
              "      const buttonEl =\n",
              "        document.querySelector('#df-d8638e20-163e-4d2f-a175-1774814f6291 button.colab-df-convert');\n",
              "      buttonEl.style.display =\n",
              "        google.colab.kernel.accessAllowed ? 'block' : 'none';\n",
              "\n",
              "      async function convertToInteractive(key) {\n",
              "        const element = document.querySelector('#df-d8638e20-163e-4d2f-a175-1774814f6291');\n",
              "        const dataTable =\n",
              "          await google.colab.kernel.invokeFunction('convertToInteractive',\n",
              "                                                    [key], {});\n",
              "        if (!dataTable) return;\n",
              "\n",
              "        const docLinkHtml = 'Like what you see? Visit the ' +\n",
              "          '<a target=\"_blank\" href=https://colab.research.google.com/notebooks/data_table.ipynb>data table notebook</a>'\n",
              "          + ' to learn more about interactive tables.';\n",
              "        element.innerHTML = '';\n",
              "        dataTable['output_type'] = 'display_data';\n",
              "        await google.colab.output.renderOutput(dataTable, element);\n",
              "        const docLink = document.createElement('div');\n",
              "        docLink.innerHTML = docLinkHtml;\n",
              "        element.appendChild(docLink);\n",
              "      }\n",
              "    </script>\n",
              "  </div>\n",
              "  \n",
              "    </div>\n",
              "  </div>\n",
              "  "
            ],
            "application/vnd.google.colaboratory.intrinsic+json": {
              "type": "dataframe",
              "variable_name": "y",
              "summary": "{\n  \"name\": \"y\",\n  \"rows\": 4424,\n  \"fields\": [\n    {\n      \"column\": \"Target\",\n      \"properties\": {\n        \"dtype\": \"category\",\n        \"num_unique_values\": 3,\n        \"samples\": [\n          \"Dropout\",\n          \"Graduate\",\n          \"Enrolled\"\n        ],\n        \"semantic_type\": \"\",\n        \"description\": \"\"\n      }\n    }\n  ]\n}"
            }
          },
          "metadata": {},
          "execution_count": 61
        }
      ],
      "source": [
        "# Mostra df della variabile target\n",
        "y"
      ]
    },
    {
      "cell_type": "code",
      "execution_count": 62,
      "metadata": {
        "id": "l0ZE-iQ2gsbU",
        "colab": {
          "base_uri": "https://localhost:8080/"
        },
        "outputId": "7eacb29b-79cc-4f81-d4a9-4dd4dd5d6344"
      },
      "outputs": [
        {
          "output_type": "stream",
          "name": "stdout",
          "text": [
            "<class 'pandas.core.frame.DataFrame'>\n",
            "RangeIndex: 4424 entries, 0 to 4423\n",
            "Data columns (total 1 columns):\n",
            " #   Column  Non-Null Count  Dtype \n",
            "---  ------  --------------  ----- \n",
            " 0   Target  4424 non-null   object\n",
            "dtypes: object(1)\n",
            "memory usage: 34.7+ KB\n"
          ]
        }
      ],
      "source": [
        "# Mostra informazioni relative alla variabile target\n",
        "y.info()"
      ]
    },
    {
      "cell_type": "code",
      "execution_count": 63,
      "metadata": {
        "id": "dQihdYTxg0DY",
        "colab": {
          "base_uri": "https://localhost:8080/"
        },
        "outputId": "62529203-1907-4cbf-90ee-a89ee5688551"
      },
      "outputs": [
        {
          "output_type": "execute_result",
          "data": {
            "text/plain": [
              "Target  \n",
              "Graduate    0.499322\n",
              "Dropout     0.321203\n",
              "Enrolled    0.179476\n",
              "Name: proportion, dtype: float64"
            ]
          },
          "metadata": {},
          "execution_count": 63
        }
      ],
      "source": [
        "y.value_counts(normalize = True)"
      ]
    },
    {
      "cell_type": "code",
      "execution_count": 64,
      "metadata": {
        "id": "eaw9GutCs_7g",
        "colab": {
          "base_uri": "https://localhost:8080/",
          "height": 175
        },
        "outputId": "26337e32-0f94-4bb8-a95d-b094472b42b1"
      },
      "outputs": [
        {
          "output_type": "execute_result",
          "data": {
            "text/plain": [
              "          Target\n",
              "count       4424\n",
              "unique         3\n",
              "top     Graduate\n",
              "freq        2209"
            ],
            "text/html": [
              "\n",
              "  <div id=\"df-0ae20b49-b1f8-461f-8a0b-811aca98d982\" class=\"colab-df-container\">\n",
              "    <div>\n",
              "<style scoped>\n",
              "    .dataframe tbody tr th:only-of-type {\n",
              "        vertical-align: middle;\n",
              "    }\n",
              "\n",
              "    .dataframe tbody tr th {\n",
              "        vertical-align: top;\n",
              "    }\n",
              "\n",
              "    .dataframe thead th {\n",
              "        text-align: right;\n",
              "    }\n",
              "</style>\n",
              "<table border=\"1\" class=\"dataframe\">\n",
              "  <thead>\n",
              "    <tr style=\"text-align: right;\">\n",
              "      <th></th>\n",
              "      <th>Target</th>\n",
              "    </tr>\n",
              "  </thead>\n",
              "  <tbody>\n",
              "    <tr>\n",
              "      <th>count</th>\n",
              "      <td>4424</td>\n",
              "    </tr>\n",
              "    <tr>\n",
              "      <th>unique</th>\n",
              "      <td>3</td>\n",
              "    </tr>\n",
              "    <tr>\n",
              "      <th>top</th>\n",
              "      <td>Graduate</td>\n",
              "    </tr>\n",
              "    <tr>\n",
              "      <th>freq</th>\n",
              "      <td>2209</td>\n",
              "    </tr>\n",
              "  </tbody>\n",
              "</table>\n",
              "</div>\n",
              "    <div class=\"colab-df-buttons\">\n",
              "      \n",
              "  <div class=\"colab-df-container\">\n",
              "    <button class=\"colab-df-convert\" onclick=\"convertToInteractive('df-0ae20b49-b1f8-461f-8a0b-811aca98d982')\"\n",
              "            title=\"Convert this dataframe to an interactive table.\"\n",
              "            style=\"display:none;\">\n",
              "      \n",
              "  <svg xmlns=\"http://www.w3.org/2000/svg\" height=\"24px\" viewBox=\"0 -960 960 960\">\n",
              "    <path d=\"M120-120v-720h720v720H120Zm60-500h600v-160H180v160Zm220 220h160v-160H400v160Zm0 220h160v-160H400v160ZM180-400h160v-160H180v160Zm440 0h160v-160H620v160ZM180-180h160v-160H180v160Zm440 0h160v-160H620v160Z\"/>\n",
              "  </svg>\n",
              "    </button>\n",
              "    \n",
              "  <style>\n",
              "    .colab-df-container {\n",
              "      display:flex;\n",
              "      gap: 12px;\n",
              "    }\n",
              "\n",
              "    .colab-df-convert {\n",
              "      background-color: #E8F0FE;\n",
              "      border: none;\n",
              "      border-radius: 50%;\n",
              "      cursor: pointer;\n",
              "      display: none;\n",
              "      fill: #1967D2;\n",
              "      height: 32px;\n",
              "      padding: 0 0 0 0;\n",
              "      width: 32px;\n",
              "    }\n",
              "\n",
              "    .colab-df-convert:hover {\n",
              "      background-color: #E2EBFA;\n",
              "      box-shadow: 0px 1px 2px rgba(60, 64, 67, 0.3), 0px 1px 3px 1px rgba(60, 64, 67, 0.15);\n",
              "      fill: #174EA6;\n",
              "    }\n",
              "\n",
              "    .colab-df-buttons div {\n",
              "      margin-bottom: 4px;\n",
              "    }\n",
              "\n",
              "    [theme=dark] .colab-df-convert {\n",
              "      background-color: #3B4455;\n",
              "      fill: #D2E3FC;\n",
              "    }\n",
              "\n",
              "    [theme=dark] .colab-df-convert:hover {\n",
              "      background-color: #434B5C;\n",
              "      box-shadow: 0px 1px 3px 1px rgba(0, 0, 0, 0.15);\n",
              "      filter: drop-shadow(0px 1px 2px rgba(0, 0, 0, 0.3));\n",
              "      fill: #FFFFFF;\n",
              "    }\n",
              "  </style>\n",
              "\n",
              "    <script>\n",
              "      const buttonEl =\n",
              "        document.querySelector('#df-0ae20b49-b1f8-461f-8a0b-811aca98d982 button.colab-df-convert');\n",
              "      buttonEl.style.display =\n",
              "        google.colab.kernel.accessAllowed ? 'block' : 'none';\n",
              "\n",
              "      async function convertToInteractive(key) {\n",
              "        const element = document.querySelector('#df-0ae20b49-b1f8-461f-8a0b-811aca98d982');\n",
              "        const dataTable =\n",
              "          await google.colab.kernel.invokeFunction('convertToInteractive',\n",
              "                                                    [key], {});\n",
              "        if (!dataTable) return;\n",
              "\n",
              "        const docLinkHtml = 'Like what you see? Visit the ' +\n",
              "          '<a target=\"_blank\" href=https://colab.research.google.com/notebooks/data_table.ipynb>data table notebook</a>'\n",
              "          + ' to learn more about interactive tables.';\n",
              "        element.innerHTML = '';\n",
              "        dataTable['output_type'] = 'display_data';\n",
              "        await google.colab.output.renderOutput(dataTable, element);\n",
              "        const docLink = document.createElement('div');\n",
              "        docLink.innerHTML = docLinkHtml;\n",
              "        element.appendChild(docLink);\n",
              "      }\n",
              "    </script>\n",
              "  </div>\n",
              "  \n",
              "    </div>\n",
              "  </div>\n",
              "  "
            ],
            "application/vnd.google.colaboratory.intrinsic+json": {
              "type": "dataframe",
              "summary": "{\n  \"name\": \"y\",\n  \"rows\": 4,\n  \"fields\": [\n    {\n      \"column\": \"Target\",\n      \"properties\": {\n        \"dtype\": \"string\",\n        \"num_unique_values\": 4,\n        \"samples\": [\n          3,\n          \"2209\",\n          \"4424\"\n        ],\n        \"semantic_type\": \"\",\n        \"description\": \"\"\n      }\n    }\n  ]\n}"
            }
          },
          "metadata": {},
          "execution_count": 64
        }
      ],
      "source": [
        "y.describe()"
      ]
    },
    {
      "cell_type": "code",
      "execution_count": 65,
      "metadata": {
        "id": "jUqq-RTxpq3n",
        "colab": {
          "base_uri": "https://localhost:8080/"
        },
        "outputId": "af447976-b6ec-477b-ee7c-4739ea6b4634"
      },
      "outputs": [
        {
          "output_type": "execute_result",
          "data": {
            "text/plain": [
              "Target      \n",
              "Not graduate    0.500678\n",
              "Graduate        0.499322\n",
              "Name: proportion, dtype: float64"
            ]
          },
          "metadata": {},
          "execution_count": 65
        }
      ],
      "source": [
        "# L'obbiettivo dell'analisi è individuare tutti gli studenti che possono incontrare difficoltà nel loro percorso accademico - indipendentemente se lasciano il percorso o superano la durata normale.\n",
        "# Di conseguenza, possiamo ricodificare \"Enrolled\" e \"Dropout\" come \"Not graduate\"\n",
        "pos_label = \"Not graduate\"\n",
        "\n",
        "y = y.where(y == \"Graduate\", pos_label)\n",
        "\n",
        "y.value_counts(normalize = True)"
      ]
    },
    {
      "cell_type": "markdown",
      "source": [
        "## Variables df"
      ],
      "metadata": {
        "id": "6emCbuEvDrdq"
      }
    },
    {
      "cell_type": "code",
      "execution_count": 66,
      "metadata": {
        "id": "MOCml4NmuJxP",
        "colab": {
          "base_uri": "https://localhost:8080/",
          "height": 1000
        },
        "outputId": "b5506ae9-fe98-4e07-882c-664352eb6947"
      },
      "outputs": [
        {
          "output_type": "execute_result",
          "data": {
            "text/plain": [
              "                                              name     role         type  \\\n",
              "0                                   Marital Status  Feature      Integer   \n",
              "1                                 Application mode  Feature      Integer   \n",
              "2                                Application order  Feature      Integer   \n",
              "3                                           Course  Feature      Integer   \n",
              "4                       Daytime/evening attendance  Feature      Integer   \n",
              "5                           Previous qualification  Feature      Integer   \n",
              "6                   Previous qualification (grade)  Feature   Continuous   \n",
              "7                                      Nacionality  Feature      Integer   \n",
              "8                           Mother's qualification  Feature      Integer   \n",
              "9                           Father's qualification  Feature      Integer   \n",
              "10                             Mother's occupation  Feature      Integer   \n",
              "11                             Father's occupation  Feature      Integer   \n",
              "12                                 Admission grade  Feature   Continuous   \n",
              "13                                       Displaced  Feature      Integer   \n",
              "14                       Educational special needs  Feature      Integer   \n",
              "15                                          Debtor  Feature      Integer   \n",
              "16                         Tuition fees up to date  Feature      Integer   \n",
              "17                                          Gender  Feature      Integer   \n",
              "18                              Scholarship holder  Feature      Integer   \n",
              "19                               Age at enrollment  Feature      Integer   \n",
              "20                                   International  Feature      Integer   \n",
              "21             Curricular units 1st sem (credited)  Feature      Integer   \n",
              "22             Curricular units 1st sem (enrolled)  Feature      Integer   \n",
              "23          Curricular units 1st sem (evaluations)  Feature      Integer   \n",
              "24             Curricular units 1st sem (approved)  Feature      Integer   \n",
              "25                Curricular units 1st sem (grade)  Feature      Integer   \n",
              "26  Curricular units 1st sem (without evaluations)  Feature      Integer   \n",
              "27             Curricular units 2nd sem (credited)  Feature      Integer   \n",
              "28             Curricular units 2nd sem (enrolled)  Feature      Integer   \n",
              "29          Curricular units 2nd sem (evaluations)  Feature      Integer   \n",
              "30             Curricular units 2nd sem (approved)  Feature      Integer   \n",
              "31                Curricular units 2nd sem (grade)  Feature      Integer   \n",
              "32  Curricular units 2nd sem (without evaluations)  Feature      Integer   \n",
              "33                               Unemployment rate  Feature   Continuous   \n",
              "34                                  Inflation rate  Feature   Continuous   \n",
              "35                                             GDP  Feature   Continuous   \n",
              "36                                          Target   Target  Categorical   \n",
              "\n",
              "        demographic                                        description  units  \\\n",
              "0    Marital Status  1 – single 2 – married 3 – widower 4 – divorce...    NaN   \n",
              "1               NaN  1 - 1st phase - general contingent 2 - Ordinan...    NaN   \n",
              "2               NaN  Application order (between 0 - first choice; a...    NaN   \n",
              "3               NaN  33 - Biofuel Production Technologies 171 - Ani...    NaN   \n",
              "4               NaN                            1 – daytime 0 - evening    NaN   \n",
              "5   Education Level  1 - Secondary education 2 - Higher education -...    NaN   \n",
              "6               NaN  Grade of previous qualification (between 0 and...    NaN   \n",
              "7       Nationality  1 - Portuguese; 2 - German; 6 - Spanish; 11 - ...    NaN   \n",
              "8   Education Level  1 - Secondary Education - 12th Year of Schooli...    NaN   \n",
              "9   Education Level  1 - Secondary Education - 12th Year of Schooli...    NaN   \n",
              "10       Occupation  0 - Student 1 - Representatives of the Legisla...    NaN   \n",
              "11       Occupation  0 - Student 1 - Representatives of the Legisla...    NaN   \n",
              "12              NaN                Admission grade (between 0 and 200)    NaN   \n",
              "13              NaN                                     1 – yes 0 – no    NaN   \n",
              "14              NaN                                     1 – yes 0 – no    NaN   \n",
              "15              NaN                                     1 – yes 0 – no    NaN   \n",
              "16              NaN                                     1 – yes 0 – no    NaN   \n",
              "17           Gender                                1 – male 0 – female    NaN   \n",
              "18              NaN                                     1 – yes 0 – no    NaN   \n",
              "19              Age                       Age of studend at enrollment    NaN   \n",
              "20              NaN                                     1 – yes 0 – no    NaN   \n",
              "21              NaN  Number of curricular units credited in the 1st...    NaN   \n",
              "22              NaN  Number of curricular units enrolled in the 1st...    NaN   \n",
              "23              NaN  Number of evaluations to curricular units in t...    NaN   \n",
              "24              NaN  Number of curricular units approved in the 1st...    NaN   \n",
              "25              NaN  Grade average in the 1st semester (between 0 a...    NaN   \n",
              "26              NaN  Number of curricular units without evalutions ...    NaN   \n",
              "27              NaN  Number of curricular units credited in the 2nd...    NaN   \n",
              "28              NaN  Number of curricular units enrolled in the 2nd...    NaN   \n",
              "29              NaN  Number of evaluations to curricular units in t...    NaN   \n",
              "30              NaN  Number of curricular units approved in the 2nd...    NaN   \n",
              "31              NaN  Grade average in the 2nd semester (between 0 a...    NaN   \n",
              "32              NaN  Number of curricular units without evalutions ...    NaN   \n",
              "33              NaN                              Unemployment rate (%)    NaN   \n",
              "34              NaN                                 Inflation rate (%)    NaN   \n",
              "35              NaN                                                GDP    NaN   \n",
              "36              NaN  Target. The problem is formulated as a three c...    NaN   \n",
              "\n",
              "   missing_values  \n",
              "0              no  \n",
              "1              no  \n",
              "2              no  \n",
              "3              no  \n",
              "4              no  \n",
              "5              no  \n",
              "6              no  \n",
              "7              no  \n",
              "8              no  \n",
              "9              no  \n",
              "10             no  \n",
              "11             no  \n",
              "12             no  \n",
              "13             no  \n",
              "14             no  \n",
              "15             no  \n",
              "16             no  \n",
              "17             no  \n",
              "18             no  \n",
              "19             no  \n",
              "20             no  \n",
              "21             no  \n",
              "22             no  \n",
              "23             no  \n",
              "24             no  \n",
              "25             no  \n",
              "26             no  \n",
              "27             no  \n",
              "28             no  \n",
              "29             no  \n",
              "30             no  \n",
              "31             no  \n",
              "32             no  \n",
              "33             no  \n",
              "34             no  \n",
              "35             no  \n",
              "36             no  "
            ],
            "text/html": [
              "\n",
              "  <div id=\"df-5d11baf8-69d0-45fd-a770-14c54e8763d6\" class=\"colab-df-container\">\n",
              "    <div>\n",
              "<style scoped>\n",
              "    .dataframe tbody tr th:only-of-type {\n",
              "        vertical-align: middle;\n",
              "    }\n",
              "\n",
              "    .dataframe tbody tr th {\n",
              "        vertical-align: top;\n",
              "    }\n",
              "\n",
              "    .dataframe thead th {\n",
              "        text-align: right;\n",
              "    }\n",
              "</style>\n",
              "<table border=\"1\" class=\"dataframe\">\n",
              "  <thead>\n",
              "    <tr style=\"text-align: right;\">\n",
              "      <th></th>\n",
              "      <th>name</th>\n",
              "      <th>role</th>\n",
              "      <th>type</th>\n",
              "      <th>demographic</th>\n",
              "      <th>description</th>\n",
              "      <th>units</th>\n",
              "      <th>missing_values</th>\n",
              "    </tr>\n",
              "  </thead>\n",
              "  <tbody>\n",
              "    <tr>\n",
              "      <th>0</th>\n",
              "      <td>Marital Status</td>\n",
              "      <td>Feature</td>\n",
              "      <td>Integer</td>\n",
              "      <td>Marital Status</td>\n",
              "      <td>1 – single 2 – married 3 – widower 4 – divorce...</td>\n",
              "      <td>NaN</td>\n",
              "      <td>no</td>\n",
              "    </tr>\n",
              "    <tr>\n",
              "      <th>1</th>\n",
              "      <td>Application mode</td>\n",
              "      <td>Feature</td>\n",
              "      <td>Integer</td>\n",
              "      <td>NaN</td>\n",
              "      <td>1 - 1st phase - general contingent 2 - Ordinan...</td>\n",
              "      <td>NaN</td>\n",
              "      <td>no</td>\n",
              "    </tr>\n",
              "    <tr>\n",
              "      <th>2</th>\n",
              "      <td>Application order</td>\n",
              "      <td>Feature</td>\n",
              "      <td>Integer</td>\n",
              "      <td>NaN</td>\n",
              "      <td>Application order (between 0 - first choice; a...</td>\n",
              "      <td>NaN</td>\n",
              "      <td>no</td>\n",
              "    </tr>\n",
              "    <tr>\n",
              "      <th>3</th>\n",
              "      <td>Course</td>\n",
              "      <td>Feature</td>\n",
              "      <td>Integer</td>\n",
              "      <td>NaN</td>\n",
              "      <td>33 - Biofuel Production Technologies 171 - Ani...</td>\n",
              "      <td>NaN</td>\n",
              "      <td>no</td>\n",
              "    </tr>\n",
              "    <tr>\n",
              "      <th>4</th>\n",
              "      <td>Daytime/evening attendance</td>\n",
              "      <td>Feature</td>\n",
              "      <td>Integer</td>\n",
              "      <td>NaN</td>\n",
              "      <td>1 – daytime 0 - evening</td>\n",
              "      <td>NaN</td>\n",
              "      <td>no</td>\n",
              "    </tr>\n",
              "    <tr>\n",
              "      <th>5</th>\n",
              "      <td>Previous qualification</td>\n",
              "      <td>Feature</td>\n",
              "      <td>Integer</td>\n",
              "      <td>Education Level</td>\n",
              "      <td>1 - Secondary education 2 - Higher education -...</td>\n",
              "      <td>NaN</td>\n",
              "      <td>no</td>\n",
              "    </tr>\n",
              "    <tr>\n",
              "      <th>6</th>\n",
              "      <td>Previous qualification (grade)</td>\n",
              "      <td>Feature</td>\n",
              "      <td>Continuous</td>\n",
              "      <td>NaN</td>\n",
              "      <td>Grade of previous qualification (between 0 and...</td>\n",
              "      <td>NaN</td>\n",
              "      <td>no</td>\n",
              "    </tr>\n",
              "    <tr>\n",
              "      <th>7</th>\n",
              "      <td>Nacionality</td>\n",
              "      <td>Feature</td>\n",
              "      <td>Integer</td>\n",
              "      <td>Nationality</td>\n",
              "      <td>1 - Portuguese; 2 - German; 6 - Spanish; 11 - ...</td>\n",
              "      <td>NaN</td>\n",
              "      <td>no</td>\n",
              "    </tr>\n",
              "    <tr>\n",
              "      <th>8</th>\n",
              "      <td>Mother's qualification</td>\n",
              "      <td>Feature</td>\n",
              "      <td>Integer</td>\n",
              "      <td>Education Level</td>\n",
              "      <td>1 - Secondary Education - 12th Year of Schooli...</td>\n",
              "      <td>NaN</td>\n",
              "      <td>no</td>\n",
              "    </tr>\n",
              "    <tr>\n",
              "      <th>9</th>\n",
              "      <td>Father's qualification</td>\n",
              "      <td>Feature</td>\n",
              "      <td>Integer</td>\n",
              "      <td>Education Level</td>\n",
              "      <td>1 - Secondary Education - 12th Year of Schooli...</td>\n",
              "      <td>NaN</td>\n",
              "      <td>no</td>\n",
              "    </tr>\n",
              "    <tr>\n",
              "      <th>10</th>\n",
              "      <td>Mother's occupation</td>\n",
              "      <td>Feature</td>\n",
              "      <td>Integer</td>\n",
              "      <td>Occupation</td>\n",
              "      <td>0 - Student 1 - Representatives of the Legisla...</td>\n",
              "      <td>NaN</td>\n",
              "      <td>no</td>\n",
              "    </tr>\n",
              "    <tr>\n",
              "      <th>11</th>\n",
              "      <td>Father's occupation</td>\n",
              "      <td>Feature</td>\n",
              "      <td>Integer</td>\n",
              "      <td>Occupation</td>\n",
              "      <td>0 - Student 1 - Representatives of the Legisla...</td>\n",
              "      <td>NaN</td>\n",
              "      <td>no</td>\n",
              "    </tr>\n",
              "    <tr>\n",
              "      <th>12</th>\n",
              "      <td>Admission grade</td>\n",
              "      <td>Feature</td>\n",
              "      <td>Continuous</td>\n",
              "      <td>NaN</td>\n",
              "      <td>Admission grade (between 0 and 200)</td>\n",
              "      <td>NaN</td>\n",
              "      <td>no</td>\n",
              "    </tr>\n",
              "    <tr>\n",
              "      <th>13</th>\n",
              "      <td>Displaced</td>\n",
              "      <td>Feature</td>\n",
              "      <td>Integer</td>\n",
              "      <td>NaN</td>\n",
              "      <td>1 – yes 0 – no</td>\n",
              "      <td>NaN</td>\n",
              "      <td>no</td>\n",
              "    </tr>\n",
              "    <tr>\n",
              "      <th>14</th>\n",
              "      <td>Educational special needs</td>\n",
              "      <td>Feature</td>\n",
              "      <td>Integer</td>\n",
              "      <td>NaN</td>\n",
              "      <td>1 – yes 0 – no</td>\n",
              "      <td>NaN</td>\n",
              "      <td>no</td>\n",
              "    </tr>\n",
              "    <tr>\n",
              "      <th>15</th>\n",
              "      <td>Debtor</td>\n",
              "      <td>Feature</td>\n",
              "      <td>Integer</td>\n",
              "      <td>NaN</td>\n",
              "      <td>1 – yes 0 – no</td>\n",
              "      <td>NaN</td>\n",
              "      <td>no</td>\n",
              "    </tr>\n",
              "    <tr>\n",
              "      <th>16</th>\n",
              "      <td>Tuition fees up to date</td>\n",
              "      <td>Feature</td>\n",
              "      <td>Integer</td>\n",
              "      <td>NaN</td>\n",
              "      <td>1 – yes 0 – no</td>\n",
              "      <td>NaN</td>\n",
              "      <td>no</td>\n",
              "    </tr>\n",
              "    <tr>\n",
              "      <th>17</th>\n",
              "      <td>Gender</td>\n",
              "      <td>Feature</td>\n",
              "      <td>Integer</td>\n",
              "      <td>Gender</td>\n",
              "      <td>1 – male 0 – female</td>\n",
              "      <td>NaN</td>\n",
              "      <td>no</td>\n",
              "    </tr>\n",
              "    <tr>\n",
              "      <th>18</th>\n",
              "      <td>Scholarship holder</td>\n",
              "      <td>Feature</td>\n",
              "      <td>Integer</td>\n",
              "      <td>NaN</td>\n",
              "      <td>1 – yes 0 – no</td>\n",
              "      <td>NaN</td>\n",
              "      <td>no</td>\n",
              "    </tr>\n",
              "    <tr>\n",
              "      <th>19</th>\n",
              "      <td>Age at enrollment</td>\n",
              "      <td>Feature</td>\n",
              "      <td>Integer</td>\n",
              "      <td>Age</td>\n",
              "      <td>Age of studend at enrollment</td>\n",
              "      <td>NaN</td>\n",
              "      <td>no</td>\n",
              "    </tr>\n",
              "    <tr>\n",
              "      <th>20</th>\n",
              "      <td>International</td>\n",
              "      <td>Feature</td>\n",
              "      <td>Integer</td>\n",
              "      <td>NaN</td>\n",
              "      <td>1 – yes 0 – no</td>\n",
              "      <td>NaN</td>\n",
              "      <td>no</td>\n",
              "    </tr>\n",
              "    <tr>\n",
              "      <th>21</th>\n",
              "      <td>Curricular units 1st sem (credited)</td>\n",
              "      <td>Feature</td>\n",
              "      <td>Integer</td>\n",
              "      <td>NaN</td>\n",
              "      <td>Number of curricular units credited in the 1st...</td>\n",
              "      <td>NaN</td>\n",
              "      <td>no</td>\n",
              "    </tr>\n",
              "    <tr>\n",
              "      <th>22</th>\n",
              "      <td>Curricular units 1st sem (enrolled)</td>\n",
              "      <td>Feature</td>\n",
              "      <td>Integer</td>\n",
              "      <td>NaN</td>\n",
              "      <td>Number of curricular units enrolled in the 1st...</td>\n",
              "      <td>NaN</td>\n",
              "      <td>no</td>\n",
              "    </tr>\n",
              "    <tr>\n",
              "      <th>23</th>\n",
              "      <td>Curricular units 1st sem (evaluations)</td>\n",
              "      <td>Feature</td>\n",
              "      <td>Integer</td>\n",
              "      <td>NaN</td>\n",
              "      <td>Number of evaluations to curricular units in t...</td>\n",
              "      <td>NaN</td>\n",
              "      <td>no</td>\n",
              "    </tr>\n",
              "    <tr>\n",
              "      <th>24</th>\n",
              "      <td>Curricular units 1st sem (approved)</td>\n",
              "      <td>Feature</td>\n",
              "      <td>Integer</td>\n",
              "      <td>NaN</td>\n",
              "      <td>Number of curricular units approved in the 1st...</td>\n",
              "      <td>NaN</td>\n",
              "      <td>no</td>\n",
              "    </tr>\n",
              "    <tr>\n",
              "      <th>25</th>\n",
              "      <td>Curricular units 1st sem (grade)</td>\n",
              "      <td>Feature</td>\n",
              "      <td>Integer</td>\n",
              "      <td>NaN</td>\n",
              "      <td>Grade average in the 1st semester (between 0 a...</td>\n",
              "      <td>NaN</td>\n",
              "      <td>no</td>\n",
              "    </tr>\n",
              "    <tr>\n",
              "      <th>26</th>\n",
              "      <td>Curricular units 1st sem (without evaluations)</td>\n",
              "      <td>Feature</td>\n",
              "      <td>Integer</td>\n",
              "      <td>NaN</td>\n",
              "      <td>Number of curricular units without evalutions ...</td>\n",
              "      <td>NaN</td>\n",
              "      <td>no</td>\n",
              "    </tr>\n",
              "    <tr>\n",
              "      <th>27</th>\n",
              "      <td>Curricular units 2nd sem (credited)</td>\n",
              "      <td>Feature</td>\n",
              "      <td>Integer</td>\n",
              "      <td>NaN</td>\n",
              "      <td>Number of curricular units credited in the 2nd...</td>\n",
              "      <td>NaN</td>\n",
              "      <td>no</td>\n",
              "    </tr>\n",
              "    <tr>\n",
              "      <th>28</th>\n",
              "      <td>Curricular units 2nd sem (enrolled)</td>\n",
              "      <td>Feature</td>\n",
              "      <td>Integer</td>\n",
              "      <td>NaN</td>\n",
              "      <td>Number of curricular units enrolled in the 2nd...</td>\n",
              "      <td>NaN</td>\n",
              "      <td>no</td>\n",
              "    </tr>\n",
              "    <tr>\n",
              "      <th>29</th>\n",
              "      <td>Curricular units 2nd sem (evaluations)</td>\n",
              "      <td>Feature</td>\n",
              "      <td>Integer</td>\n",
              "      <td>NaN</td>\n",
              "      <td>Number of evaluations to curricular units in t...</td>\n",
              "      <td>NaN</td>\n",
              "      <td>no</td>\n",
              "    </tr>\n",
              "    <tr>\n",
              "      <th>30</th>\n",
              "      <td>Curricular units 2nd sem (approved)</td>\n",
              "      <td>Feature</td>\n",
              "      <td>Integer</td>\n",
              "      <td>NaN</td>\n",
              "      <td>Number of curricular units approved in the 2nd...</td>\n",
              "      <td>NaN</td>\n",
              "      <td>no</td>\n",
              "    </tr>\n",
              "    <tr>\n",
              "      <th>31</th>\n",
              "      <td>Curricular units 2nd sem (grade)</td>\n",
              "      <td>Feature</td>\n",
              "      <td>Integer</td>\n",
              "      <td>NaN</td>\n",
              "      <td>Grade average in the 2nd semester (between 0 a...</td>\n",
              "      <td>NaN</td>\n",
              "      <td>no</td>\n",
              "    </tr>\n",
              "    <tr>\n",
              "      <th>32</th>\n",
              "      <td>Curricular units 2nd sem (without evaluations)</td>\n",
              "      <td>Feature</td>\n",
              "      <td>Integer</td>\n",
              "      <td>NaN</td>\n",
              "      <td>Number of curricular units without evalutions ...</td>\n",
              "      <td>NaN</td>\n",
              "      <td>no</td>\n",
              "    </tr>\n",
              "    <tr>\n",
              "      <th>33</th>\n",
              "      <td>Unemployment rate</td>\n",
              "      <td>Feature</td>\n",
              "      <td>Continuous</td>\n",
              "      <td>NaN</td>\n",
              "      <td>Unemployment rate (%)</td>\n",
              "      <td>NaN</td>\n",
              "      <td>no</td>\n",
              "    </tr>\n",
              "    <tr>\n",
              "      <th>34</th>\n",
              "      <td>Inflation rate</td>\n",
              "      <td>Feature</td>\n",
              "      <td>Continuous</td>\n",
              "      <td>NaN</td>\n",
              "      <td>Inflation rate (%)</td>\n",
              "      <td>NaN</td>\n",
              "      <td>no</td>\n",
              "    </tr>\n",
              "    <tr>\n",
              "      <th>35</th>\n",
              "      <td>GDP</td>\n",
              "      <td>Feature</td>\n",
              "      <td>Continuous</td>\n",
              "      <td>NaN</td>\n",
              "      <td>GDP</td>\n",
              "      <td>NaN</td>\n",
              "      <td>no</td>\n",
              "    </tr>\n",
              "    <tr>\n",
              "      <th>36</th>\n",
              "      <td>Target</td>\n",
              "      <td>Target</td>\n",
              "      <td>Categorical</td>\n",
              "      <td>NaN</td>\n",
              "      <td>Target. The problem is formulated as a three c...</td>\n",
              "      <td>NaN</td>\n",
              "      <td>no</td>\n",
              "    </tr>\n",
              "  </tbody>\n",
              "</table>\n",
              "</div>\n",
              "    <div class=\"colab-df-buttons\">\n",
              "      \n",
              "  <div class=\"colab-df-container\">\n",
              "    <button class=\"colab-df-convert\" onclick=\"convertToInteractive('df-5d11baf8-69d0-45fd-a770-14c54e8763d6')\"\n",
              "            title=\"Convert this dataframe to an interactive table.\"\n",
              "            style=\"display:none;\">\n",
              "      \n",
              "  <svg xmlns=\"http://www.w3.org/2000/svg\" height=\"24px\" viewBox=\"0 -960 960 960\">\n",
              "    <path d=\"M120-120v-720h720v720H120Zm60-500h600v-160H180v160Zm220 220h160v-160H400v160Zm0 220h160v-160H400v160ZM180-400h160v-160H180v160Zm440 0h160v-160H620v160ZM180-180h160v-160H180v160Zm440 0h160v-160H620v160Z\"/>\n",
              "  </svg>\n",
              "    </button>\n",
              "    \n",
              "  <style>\n",
              "    .colab-df-container {\n",
              "      display:flex;\n",
              "      gap: 12px;\n",
              "    }\n",
              "\n",
              "    .colab-df-convert {\n",
              "      background-color: #E8F0FE;\n",
              "      border: none;\n",
              "      border-radius: 50%;\n",
              "      cursor: pointer;\n",
              "      display: none;\n",
              "      fill: #1967D2;\n",
              "      height: 32px;\n",
              "      padding: 0 0 0 0;\n",
              "      width: 32px;\n",
              "    }\n",
              "\n",
              "    .colab-df-convert:hover {\n",
              "      background-color: #E2EBFA;\n",
              "      box-shadow: 0px 1px 2px rgba(60, 64, 67, 0.3), 0px 1px 3px 1px rgba(60, 64, 67, 0.15);\n",
              "      fill: #174EA6;\n",
              "    }\n",
              "\n",
              "    .colab-df-buttons div {\n",
              "      margin-bottom: 4px;\n",
              "    }\n",
              "\n",
              "    [theme=dark] .colab-df-convert {\n",
              "      background-color: #3B4455;\n",
              "      fill: #D2E3FC;\n",
              "    }\n",
              "\n",
              "    [theme=dark] .colab-df-convert:hover {\n",
              "      background-color: #434B5C;\n",
              "      box-shadow: 0px 1px 3px 1px rgba(0, 0, 0, 0.15);\n",
              "      filter: drop-shadow(0px 1px 2px rgba(0, 0, 0, 0.3));\n",
              "      fill: #FFFFFF;\n",
              "    }\n",
              "  </style>\n",
              "\n",
              "    <script>\n",
              "      const buttonEl =\n",
              "        document.querySelector('#df-5d11baf8-69d0-45fd-a770-14c54e8763d6 button.colab-df-convert');\n",
              "      buttonEl.style.display =\n",
              "        google.colab.kernel.accessAllowed ? 'block' : 'none';\n",
              "\n",
              "      async function convertToInteractive(key) {\n",
              "        const element = document.querySelector('#df-5d11baf8-69d0-45fd-a770-14c54e8763d6');\n",
              "        const dataTable =\n",
              "          await google.colab.kernel.invokeFunction('convertToInteractive',\n",
              "                                                    [key], {});\n",
              "        if (!dataTable) return;\n",
              "\n",
              "        const docLinkHtml = 'Like what you see? Visit the ' +\n",
              "          '<a target=\"_blank\" href=https://colab.research.google.com/notebooks/data_table.ipynb>data table notebook</a>'\n",
              "          + ' to learn more about interactive tables.';\n",
              "        element.innerHTML = '';\n",
              "        dataTable['output_type'] = 'display_data';\n",
              "        await google.colab.output.renderOutput(dataTable, element);\n",
              "        const docLink = document.createElement('div');\n",
              "        docLink.innerHTML = docLinkHtml;\n",
              "        element.appendChild(docLink);\n",
              "      }\n",
              "    </script>\n",
              "  </div>\n",
              "  \n",
              "    </div>\n",
              "  </div>\n",
              "  "
            ],
            "application/vnd.google.colaboratory.intrinsic+json": {
              "type": "dataframe",
              "variable_name": "variables",
              "summary": "{\n  \"name\": \"variables\",\n  \"rows\": 37,\n  \"fields\": [\n    {\n      \"column\": \"name\",\n      \"properties\": {\n        \"dtype\": \"string\",\n        \"num_unique_values\": 37,\n        \"samples\": [\n          \"Gender\",\n          \"Displaced\",\n          \"Daytime/evening attendance\"\n        ],\n        \"semantic_type\": \"\",\n        \"description\": \"\"\n      }\n    },\n    {\n      \"column\": \"role\",\n      \"properties\": {\n        \"dtype\": \"category\",\n        \"num_unique_values\": 2,\n        \"samples\": [\n          \"Target\",\n          \"Feature\"\n        ],\n        \"semantic_type\": \"\",\n        \"description\": \"\"\n      }\n    },\n    {\n      \"column\": \"type\",\n      \"properties\": {\n        \"dtype\": \"category\",\n        \"num_unique_values\": 3,\n        \"samples\": [\n          \"Integer\",\n          \"Continuous\"\n        ],\n        \"semantic_type\": \"\",\n        \"description\": \"\"\n      }\n    },\n    {\n      \"column\": \"demographic\",\n      \"properties\": {\n        \"dtype\": \"category\",\n        \"num_unique_values\": 6,\n        \"samples\": [\n          \"Marital Status\",\n          \"Education Level\"\n        ],\n        \"semantic_type\": \"\",\n        \"description\": \"\"\n      }\n    },\n    {\n      \"column\": \"description\",\n      \"properties\": {\n        \"dtype\": \"string\",\n        \"num_unique_values\": 31,\n        \"samples\": [\n          \"Unemployment rate (%)\",\n          \"Age of studend at enrollment\"\n        ],\n        \"semantic_type\": \"\",\n        \"description\": \"\"\n      }\n    },\n    {\n      \"column\": \"units\",\n      \"properties\": {\n        \"dtype\": \"number\",\n        \"std\": null,\n        \"min\": null,\n        \"max\": null,\n        \"num_unique_values\": 0,\n        \"samples\": [],\n        \"semantic_type\": \"\",\n        \"description\": \"\"\n      }\n    },\n    {\n      \"column\": \"missing_values\",\n      \"properties\": {\n        \"dtype\": \"category\",\n        \"num_unique_values\": 1,\n        \"samples\": [],\n        \"semantic_type\": \"\",\n        \"description\": \"\"\n      }\n    }\n  ]\n}"
            }
          },
          "metadata": {},
          "execution_count": 66
        }
      ],
      "source": [
        "# Inforamzioni relative alle varaibili\n",
        "variables"
      ]
    },
    {
      "cell_type": "markdown",
      "metadata": {
        "id": "yE64Vxj-hZy8"
      },
      "source": [
        "# Data cleaning"
      ]
    },
    {
      "cell_type": "markdown",
      "metadata": {
        "id": "ZzgTsfXXwdp1"
      },
      "source": [
        "##Decoding encoded columns"
      ]
    },
    {
      "cell_type": "markdown",
      "metadata": {
        "id": "4hKHnGDSh8cf"
      },
      "source": [
        "Some columns are encoded, so they need to be decoded to be analysed more easily.\n",
        "\n",
        "In the \"variables\" tables we have the code-value pairs, so we can automate this process."
      ]
    },
    {
      "cell_type": "code",
      "execution_count": 67,
      "metadata": {
        "id": "Ztql4nC5wB7d"
      },
      "outputs": [],
      "source": [
        "# COlonna delle colonne da decodificare\n",
        "colms_to_decode = [\n",
        "    \"Marital Status\",\n",
        "    \"Application mode\",\n",
        "    \"Course\",\n",
        "    \"Daytime/evening attendance\",\n",
        "    \"Previous qualification\",\n",
        "    \"Nacionality\",\n",
        "    \"Mother's qualification\",\n",
        "    \"Father's qualification\",\n",
        "    \"Mother's occupation\",\n",
        "    \"Mother's qualification\",\n",
        "    \"Father's occupation\",\n",
        "    \"Displaced\",\n",
        "    \"Educational special needs\",\n",
        "    \"Debtor\",\n",
        "    \"Tuition fees up to date\",\n",
        "    \"Gender\",\n",
        "    \"Scholarship holder\",\n",
        "    \"International\"\n",
        "]"
      ]
    },
    {
      "cell_type": "code",
      "execution_count": 68,
      "metadata": {
        "id": "R_SWyy-lpCiB"
      },
      "outputs": [],
      "source": [
        "def get_column_encoding(column_name: str, variables=variables):\n",
        "  \"\"\"\n",
        "  get_column_encoding(column_name: str, variables=variables)\n",
        "    Return a dictionary with key-value pairs corresponding to the encoding of the given column\n",
        "\n",
        "    Parameters\n",
        "    column_name: str\n",
        "      Name of the column to extract encoding from\n",
        "    variables: pd.DataFrame\n",
        "      DataFrame containing the columns encoding\n",
        "\n",
        "    Returns\n",
        "    Dictionary\n",
        "      Code-decode pairs\n",
        "  \"\"\"\n",
        "  # Estrae descrizione dal df variables\n",
        "  description = variables.loc[variables[\"name\"] == column_name, \"description\"].values[0]\n",
        "\n",
        "  # Trova tutti i match al patter che caratterizza il codice\n",
        "  pattern = re.compile(\"\\d+ (–|-) \")\n",
        "  matches = [m.span() for m in re.finditer(pattern, description)]\n",
        "\n",
        "\n",
        "  # Dizionario avente come keys i codici e values le relative decodifiche\n",
        "  encoding = {}\n",
        "\n",
        "  i = 0\n",
        "  while i < len(matches)-1:\n",
        "\n",
        "    # Estrae codice sotto forma di integet\n",
        "    start = matches[i][0]     # Indice dell'inzio dell'attuale match\n",
        "    end =   matches[i][1]-3   # Indice della fine dell'attuale match meno 3 (Rimuove \" - \")\n",
        "    code = int(description[start:end])\n",
        "\n",
        "    # Get decode\n",
        "    start = matches[i][1]      # Indice della fine dell'attuale match\n",
        "    end =   matches[i+1][0]-1  # Indice dell'inizio del match successivo meno 1\n",
        "    decode = description[start:end]\n",
        "\n",
        "    # Salva coppia codice-decodifica\n",
        "    encoding[code] = decode\n",
        "\n",
        "    i += 1\n",
        "\n",
        "  else: # Per evitare out of bound error, l'ultimo match è trattato in modo diverso\n",
        "    code = int(description[matches[i][0]:matches[i][1]-3]) # Stessa cosa del caso normale\n",
        "    decode = description[matches[i][1]:] # Essendo che non si può usare come riferimento il match successivo, si usa la fine della stringa\n",
        "\n",
        "    # Salva coppia codice-decodifica\n",
        "    encoding[code] = decode\n",
        "\n",
        "  return encoding"
      ]
    },
    {
      "cell_type": "code",
      "execution_count": 69,
      "metadata": {
        "id": "Zx1AjwYx3R-Y"
      },
      "outputs": [],
      "source": [
        "# Estrazione della decodifica\n",
        "cols_decode = {}\n",
        "\n",
        "for col in colms_to_decode:\n",
        "\n",
        "  cols_decode[col] = get_column_encoding(col)"
      ]
    },
    {
      "cell_type": "code",
      "execution_count": 70,
      "metadata": {
        "id": "-fbuZWgJqI-o"
      },
      "outputs": [],
      "source": [
        "# Decodificazione delle colonne\n",
        "for column in cols_decode.keys():\n",
        "  map = cols_decode[column]\n",
        "  X.loc[:, column] = X.loc[:,column].map(map)"
      ]
    },
    {
      "cell_type": "markdown",
      "metadata": {
        "id": "_8tlzAbDwytk"
      },
      "source": [
        "##Rimozione \";\" dalla colonna \"Nacinality\""
      ]
    },
    {
      "cell_type": "code",
      "execution_count": 71,
      "metadata": {
        "id": "TKy7fMOl-NVd"
      },
      "outputs": [],
      "source": [
        "X.loc[ : ,\"Nacionality\"] = X.loc[:, \"Nacionality\"].str.replace(\";\", \"\")"
      ]
    },
    {
      "cell_type": "markdown",
      "metadata": {
        "id": "ohhCfw-esKy7"
      },
      "source": [
        "##Rimozione colonne ridondanti"
      ]
    },
    {
      "cell_type": "code",
      "execution_count": 72,
      "metadata": {
        "id": "cuTV1nN-sFnY",
        "colab": {
          "base_uri": "https://localhost:8080/"
        },
        "outputId": "1f553570-fce3-4dfc-c1a5-60cacde8b15d"
      },
      "outputs": [
        {
          "output_type": "execute_result",
          "data": {
            "text/plain": [
              "International  Nacionality          \n",
              "no             Portuguese               4314\n",
              "yes            Brazilian                  38\n",
              "               Santomean                  14\n",
              "               Cape Verdean               13\n",
              "               Spanish                    13\n",
              "               Guinean                     5\n",
              "               Moldova (Republic of)       3\n",
              "               Italian                     3\n",
              "               Ukrainian                   3\n",
              "               German                      2\n",
              "               Angolan                     2\n",
              "               Mexican                     2\n",
              "               Mozambican                  2\n",
              "               Romanian                    2\n",
              "               Russian                     2\n",
              "               English                     1\n",
              "               Lithuanian                  1\n",
              "               Dutch                       1\n",
              "               Cuban                       1\n",
              "               Colombian                   1\n",
              "               Turkish                     1\n",
              "Name: count, dtype: int64"
            ]
          },
          "metadata": {},
          "execution_count": 72
        }
      ],
      "source": [
        "X[[\"International\", \"Nacionality\"]].value_counts()"
      ]
    },
    {
      "cell_type": "code",
      "execution_count": 73,
      "metadata": {
        "id": "PQ01_mFzshIC"
      },
      "outputs": [],
      "source": [
        "# Rimozione colonna \"International\" -> La stessa informazione è già espressa in maniera più accurata da colonna \"Nacionality\"\n",
        "X = X.drop(columns=\"International\")"
      ]
    },
    {
      "cell_type": "markdown",
      "metadata": {
        "id": "6elDIo7Y2FW_"
      },
      "source": [
        "##Riduzione caridnalità\n",
        "\n"
      ]
    },
    {
      "cell_type": "code",
      "execution_count": 74,
      "metadata": {
        "id": "2H1hLhPh2BaY",
        "colab": {
          "base_uri": "https://localhost:8080/"
        },
        "outputId": "62aac774-c3ab-464a-d84e-f1bad2194982"
      },
      "outputs": [
        {
          "output_type": "stream",
          "name": "stdout",
          "text": [
            "Marital Status\n",
            "single               3919\n",
            "married               379\n",
            "divorced               91\n",
            "facto union            25\n",
            "legally separated       6\n",
            "widower                 4\n",
            "Name: count, dtype: int64\n",
            "\n",
            "\n",
            "\n",
            "================================\n",
            "Application mode\n",
            "1st phase - general contingent                         1708\n",
            "2nd phase - general contingent                          872\n",
            "Over 23 years old                                       785\n",
            "Change of course                                        312\n",
            "Technological specialization diploma holders            213\n",
            "Holders of other higher courses                         139\n",
            "3rd phase - general contingent                          124\n",
            "Transfer                                                 77\n",
            "Change of institution/course                             59\n",
            "1st phase - special contingent (Madeira Island)          38\n",
            "Short cycle diploma holders                              35\n",
            "International student (bachelor)                         30\n",
            "1st phase - special contingent (Azores Island)           16\n",
            "Ordinance No. 854-B/99                                   10\n",
            "Ordinance No. 612/93                                      3\n",
            "Change of institution/course (International)              1\n",
            "Ordinance No. 533-A/99, item b2) (Different Plan)         1\n",
            "Ordinance No. 533-A/99, item b3 (Other Institution)       1\n",
            "Name: count, dtype: int64\n",
            "\n",
            "\n",
            "\n",
            "================================\n",
            "Course\n",
            "Nursing                                 766\n",
            "Management                              380\n",
            "Social Service                          355\n",
            "Veterinary Nursing                      337\n",
            "Journalism and Communication            331\n",
            "Advertising and Marketing Management    268\n",
            "Management (evening attendance)         268\n",
            "Tourism                                 252\n",
            "Communication Design                    226\n",
            "Animation and Multimedia Design         215\n",
            "Social Service (evening attendance)     215\n",
            "Agronomy                                210\n",
            "Basic Education                         192\n",
            "Informatics Engineering                 170\n",
            "Equinculture                            141\n",
            "Oral Hygiene                             86\n",
            "Biofuel Production Technologies          12\n",
            "Name: count, dtype: int64\n",
            "\n",
            "\n",
            "\n",
            "================================\n",
            "Daytime/evening attendance\n",
            "daytime    3941\n",
            "evening     483\n",
            "Name: count, dtype: int64\n",
            "\n",
            "\n",
            "\n",
            "================================\n",
            "Previous qualification\n",
            "Secondary education                                         3717\n",
            "Technological specialization course                          219\n",
            "Basic education 3rd cycle (9th/10th/11th year) or equiv.     162\n",
            "Higher education - degree                                    126\n",
            "Other - 11th year of schooling                                45\n",
            "Higher education - degree (1st cycle)                         40\n",
            "Professional higher technical course                          36\n",
            "Higher education - bachelor's degree                          23\n",
            "Frequency of higher education                                 16\n",
            "12th year of schooling - not completed                        11\n",
            "Higher education - master's                                    8\n",
            "Basic education 2nd cycle (6th/7th/8th year) or equiv.         7\n",
            "Higher education - master (2nd cycle)                          6\n",
            "11th year of schooling - not completed                         4\n",
            "10th year of schooling - not completed                         2\n",
            "Higher education - doctorate                                   1\n",
            "10th year of schooling                                         1\n",
            "Name: count, dtype: int64\n",
            "\n",
            "\n",
            "\n",
            "================================\n",
            "Nacionality\n",
            "Portuguese               4314\n",
            "Brazilian                  38\n",
            "Santomean                  14\n",
            "Cape Verdean               13\n",
            "Spanish                    13\n",
            "Guinean                     5\n",
            "Moldova (Republic of)       3\n",
            "Italian                     3\n",
            "Ukrainian                   3\n",
            "Angolan                     2\n",
            "Mexican                     2\n",
            "Romanian                    2\n",
            "Mozambican                  2\n",
            "German                      2\n",
            "Russian                     2\n",
            "Turkish                     1\n",
            "Dutch                       1\n",
            "Colombian                   1\n",
            "Cuban                       1\n",
            "English                     1\n",
            "Lithuanian                  1\n",
            "Name: count, dtype: int64\n",
            "\n",
            "\n",
            "\n",
            "================================\n",
            "Mother's qualification\n",
            "Secondary Education - 12th Year of Schooling or Eq.         1069\n",
            "Basic education 1st cycle (4th/5th year) or equiv.          1009\n",
            "Basic Education 3rd Cycle (9th/10th/11th Year) or Equiv.     953\n",
            "Basic Education 2nd Cycle (6th/7th/8th Year) or Equiv.       562\n",
            "Higher Education - Degree                                    438\n",
            "Unknown                                                      130\n",
            "Higher Education - Bachelor's Degree                          83\n",
            "Higher Education - Master's                                   49\n",
            "Other - 11th Year of Schooling                                42\n",
            "Higher Education - Doctorate                                  21\n",
            "Higher education - degree (1st cycle)                          9\n",
            "12th Year of Schooling - Not Completed                         8\n",
            "Technological specialization course                            8\n",
            "Specialized higher studies course                              6\n",
            "Frequency of Higher Education                                  4\n",
            "Professional higher technical course                           4\n",
            "Higher Education - Master (2nd cycle)                          4\n",
            "9th Year of Schooling - Not Completed                          3\n",
            "11th Year of Schooling - Not Completed                         3\n",
            "7th Year (Old)                                                 3\n",
            "Can read without having a 4th year of schooling                3\n",
            "Can't read or write                                            3\n",
            "8th year of schooling                                          3\n",
            "10th Year of Schooling                                         2\n",
            "General commerce course                                        1\n",
            "Technical-professional course                                  1\n",
            "2nd cycle of the general high school course                    1\n",
            "7th year of schooling                                          1\n",
            "Higher Education - Doctorate (3rd cycle)                       1\n",
            "Name: count, dtype: int64\n",
            "\n",
            "\n",
            "\n",
            "================================\n",
            "Father's qualification\n",
            "Basic education 1st cycle (4th/5th year) or equiv.          1209\n",
            "Basic Education 3rd Cycle (9th/10th/11th Year) or Equiv.     968\n",
            "Secondary Education - 12th Year of Schooling or Eq.          904\n",
            "Basic Education 2nd Cycle (6th/7th/8th Year) or Equiv.       702\n",
            "Higher Education - Degree                                    282\n",
            "Unknown                                                      112\n",
            "Higher Education - Bachelor's Degree                          68\n",
            "Higher Education - Master's                                   39\n",
            "Other - 11th Year of Schooling                                38\n",
            "Technological specialization course                           20\n",
            "Higher Education - Doctorate                                  18\n",
            "7th Year (Old)                                                10\n",
            "Can read without having a 4th year of schooling                8\n",
            "12th Year of Schooling - Not Completed                         5\n",
            "Higher education - degree (1st cycle)                          5\n",
            "Technical-professional course                                  4\n",
            "8th year of schooling                                          4\n",
            "10th Year of Schooling                                         4\n",
            "9th Year of Schooling - Not Completed                          3\n",
            "Can't read or write                                            2\n",
            "Specialized higher studies course                              2\n",
            "Higher Education - Master (2nd cycle)                          2\n",
            "11th Year of Schooling - Not Completed                         2\n",
            "Frequency of Higher Education                                  2\n",
            "7th year of schooling                                          2\n",
            "Complementary High School Course - not concluded               1\n",
            "2nd cycle of the general high school course                    1\n",
            "Supplementary Accounting and Administration                    1\n",
            "Higher Education - Doctorate (3rd cycle)                       1\n",
            "Complementary High School Course                               1\n",
            "Professional higher technical course                           1\n",
            "General commerce course                                        1\n",
            "2nd year complementary high school course                      1\n",
            "General Course of Administration and Commerce                  1\n",
            "Name: count, dtype: int64\n",
            "\n",
            "\n",
            "\n",
            "================================\n",
            "Mother's occupation\n",
            "Unskilled Workers                                                                                             1577\n",
            "Administrative staff                                                                                           817\n",
            "Personal Services, Security and Safety Workers and Sellers                                                     530\n",
            "Intermediate Level Technicians and Professions                                                                 351\n",
            "Specialists in Intellectual and Scientific Activities                                                          318\n",
            "Skilled Workers in Industry, Construction and Craftsmen                                                        272\n",
            "Student                                                                                                        144\n",
            "Representatives of the Legislative Power and Executive Bodies, Directors, Directors and Executive Managers     102\n",
            "Farmers and Skilled Workers in Agriculture, Fisheries and Forestry                                              91\n",
            "Other Situation                                                                                                 70\n",
            "Installation and Machine Operators and Assembly Workers                                                         36\n",
            "cleaning workers                                                                                                26\n",
            "(blank)                                                                                                         17\n",
            "Meal preparation assistants                                                                                     11\n",
            "Office workers, secretaries in general and data processing operators                                             8\n",
            "teachers                                                                                                         7\n",
            "Other administrative support staff                                                                               6\n",
            "Workers in food processing, woodworking, clothing and other industries and crafts                                5\n",
            "Unskilled workers in agriculture, animal production, fisheries and forestry                                      5\n",
            "Unskilled workers in extractive industry, construction, manufacturing and transport                              4\n",
            "Intermediate level technicians from legal, social, sports, cultural and similar services                         4\n",
            "Armed Forces Professions                                                                                         4\n",
            "Data, accounting, statistical, financial services and registry-related operators                                 3\n",
            "personal service workers                                                                                         3\n",
            "Technicians and professionals, of intermediate level of health                                                   3\n",
            "sellers                                                                                                          2\n",
            "Health professionals                                                                                             2\n",
            "Personal care workers and the like                                                                               2\n",
            "Skilled workers in printing, precision instrument manufacturing, jewelers, artisans and the like                 1\n",
            "Specialists in information and communication technologies (ICT)                                                  1\n",
            "Intermediate level science and engineering technicians and professions                                           1\n",
            "Skilled construction workers and the like, except electricians                                                   1\n",
            "Name: count, dtype: int64\n",
            "\n",
            "\n",
            "\n",
            "================================\n",
            "Father's occupation\n",
            "Unskilled Workers                                                                                             1010\n",
            "Skilled Workers in Industry, Construction and Craftsmen                                                        666\n",
            "Personal Services, Security and Safety Workers and Sellers                                                     516\n",
            "Administrative staff                                                                                           386\n",
            "Intermediate Level Technicians and Professions                                                                 384\n",
            "Installation and Machine Operators and Assembly Workers                                                        318\n",
            "Armed Forces Professions                                                                                       266\n",
            "Farmers and Skilled Workers in Agriculture, Fisheries and Forestry                                             242\n",
            "Specialists in Intellectual and Scientific Activities                                                          197\n",
            "Representatives of the Legislative Power and Executive Bodies, Directors, Directors and Executive Managers     134\n",
            "Student                                                                                                        128\n",
            "Other Situation                                                                                                 65\n",
            "(blank)                                                                                                         19\n",
            "Unskilled workers in extractive industry, construction, manufacturing and transport                             15\n",
            "Other administrative support staff                                                                               8\n",
            "Skilled construction workers and the like, except electricians                                                   8\n",
            "Unskilled workers in agriculture, animal production, fisheries and forestry                                      6\n",
            "Farmers, livestock keepers, fishermen, hunters and gatherers, subsistence                                        5\n",
            "Other Armed Forces personnel                                                                                     4\n",
            "Workers in food processing, woodworking, clothing and other industries and crafts                                4\n",
            "Information and communication technology technicians                                                             3\n",
            "Vehicle drivers and mobile equipment operators                                                                   3\n",
            "sellers                                                                                                          3\n",
            "teachers                                                                                                         3\n",
            "Fixed plant and machine operators                                                                                3\n",
            "Meal preparation assistants                                                                                      2\n",
            "assembly workers                                                                                                 2\n",
            "Directors of administrative and commercial services                                                              2\n",
            "personal service workers                                                                                         2\n",
            "Skilled workers in metallurgy, metalworking and similar                                                          2\n",
            "Health professionals                                                                                             2\n",
            "Armed Forces Sergeants                                                                                           2\n",
            "Personal care workers and the like                                                                               1\n",
            "Armed Forces Officers                                                                                            1\n",
            "Hotel, catering, trade and other services directors                                                              1\n",
            "Skilled workers in electricity and electronics                                                                   1\n",
            "Office workers, secretaries in general and data processing operators                                             1\n",
            "Technicians and professionals, of intermediate level of health                                                   1\n",
            "Intermediate level technicians from legal, social, sports, cultural and similar services                         1\n",
            "Data, accounting, statistical, financial services and registry-related operators                                 1\n",
            "Intermediate level science and engineering technicians and professions                                           1\n",
            "Market-oriented farmers and skilled agricultural and animal production workers                                   1\n",
            "Street vendors (except food) and street service providers                                                        1\n",
            "Specialists in the physical sciences, mathematics, engineering and related techniques                            1\n",
            "Specialists in finance, accounting, administrative organization, public and commercial relations                 1\n",
            "Protection and security services personnel                                                                       1\n",
            "Name: count, dtype: int64\n",
            "\n",
            "\n",
            "\n",
            "================================\n",
            "Displaced\n",
            "yes    2426\n",
            "no     1998\n",
            "Name: count, dtype: int64\n",
            "\n",
            "\n",
            "\n",
            "================================\n",
            "Educational special needs\n",
            "no     4373\n",
            "yes      51\n",
            "Name: count, dtype: int64\n",
            "\n",
            "\n",
            "\n",
            "================================\n",
            "Debtor\n",
            "no     3921\n",
            "yes     503\n",
            "Name: count, dtype: int64\n",
            "\n",
            "\n",
            "\n",
            "================================\n",
            "Tuition fees up to date\n",
            "yes    3896\n",
            "no      528\n",
            "Name: count, dtype: int64\n",
            "\n",
            "\n",
            "\n",
            "================================\n",
            "Gender\n",
            "female    2868\n",
            "male      1556\n",
            "Name: count, dtype: int64\n",
            "\n",
            "\n",
            "\n",
            "================================\n",
            "Scholarship holder\n",
            "no     3325\n",
            "yes    1099\n",
            "Name: count, dtype: int64\n",
            "\n",
            "\n",
            "\n",
            "================================\n"
          ]
        }
      ],
      "source": [
        "# Verifica della frequenza dei valori che può assumere ogni colonna\n",
        "for column in X.select_dtypes(\"object\").columns:\n",
        "  print(X[column].value_counts())\n",
        "  print(\"\\n\\n\\n================================\")"
      ]
    },
    {
      "cell_type": "code",
      "execution_count": 75,
      "metadata": {
        "id": "hALWWRCQ5RSZ"
      },
      "outputs": [],
      "source": [
        "# Creazione di una mappa che definisca con cquali valori rimpiazzare i pre-esistenti\n",
        "\n",
        "partents_qualification = {\n",
        "        # No education\n",
        "        \"Can read without having a 4th year of schooling\": \"Can't read or write\",\n",
        "\n",
        "        # Basic education\n",
        "        \"7th Year (Old)\": \"Basic Education 2nd Cycle (6th/7th/8th Year) or Equiv.\",\n",
        "        \"7th year of schooling\": \"Basic Education 2nd Cycle (6th/7th/8th Year) or Equiv.\",\n",
        "        \"8th year of schooling\": \"Basic Education 2nd Cycle (6th/7th/8th Year) or Equiv.\",\n",
        "        \"9th Year of Schooling - Not Completed\": \"Basic Education 3rd Cycle (9th/10th/11th Year) or Equiv.\",\n",
        "        \"10th Year of Schooling\": \"Basic Education 3rd Cycle (9th/10th/11th Year) or Equiv.\",\n",
        "        \"11th Year of Schooling - Not Completed\": \"Basic Education 3rd Cycle (9th/10th/11th Year) or Equiv.\",\n",
        "        \"Other - 11th Year of Schooling\": \"Basic Education 3rd Cycle (9th/10th/11th Year) or Equiv.\",\n",
        "        \"11th Year of Schooling - Not Completed\": \"Basic Education 3rd Cycle (9th/10th/11th Year) or Equiv.\",\n",
        "\n",
        "        # High school\n",
        "        \"12th Year of Schooling - Not Completed\": \"Secondary Education - 12th Year of Schooling or Eq.\",\n",
        "        \"2nd cycle of the general high school course\": \"Secondary Education - 12th Year of Schooling or Eq.\",\n",
        "        \"Frequency of Higher Education\": \"Secondary Education - 12th Year of Schooling or Eq.\",\n",
        "\n",
        "        # Higher education\n",
        "        \"Higher education - degree (1st cycle)\": \"Higher Education - bachelor\",\n",
        "        \"Higher Education - Bachelor's Degree\": \"Higher Education - bachelor\",\n",
        "        \"Higher Education - Master's\": \"Higher Education - master\",\n",
        "        \"Higher Education - Master (2nd cycle)\": \"Higher Education - master\",\n",
        "        \"Higher Education - Doctorate\": \"Higher Education - doctorate\",\n",
        "        \"Higher Education - Doctorate (3rd cycle)\": \"Higher Education - doctorate\",\n",
        "\n",
        "        # Spacialization\n",
        "        \"Specialized higher studies course\": \"Technological specialization course\",\n",
        "        \"Professional higher technical course\": \"Technological specialization course\",\n",
        "        \"Technical-professional course\": \"Technological specialization course\",\n",
        "        \"General commerce course\": \"Technological specialization course\",\n",
        "}\n",
        "\n",
        "parents_occupation = {\n",
        "        '(blank)': \"Unknown_Unknown\",\n",
        "        'Administrative staff': \"Medium_Management\",\n",
        "        'Armed Forces Officers': \"Medium_Armed force\",\n",
        "        'Armed Forces Professions': \"Low_Armed force\",\n",
        "        'Armed Forces Sergeants': \"High_Armded force\",\n",
        "        'Data, accounting, statistical, financial services and registry-related operators': \"High_STEM\",\n",
        "        'Directors of administrative and commercial services': \"High_Managment\",\n",
        "        'Farmers and Skilled Workers in Agriculture, Fisheries and Forestry': \"High_Agricolture\",\n",
        "        'Farmers, livestock keepers, fishermen, hunters and gatherers, subsistence': \"Low_Agticolture\",\n",
        "        'Fixed plant and machine operators': \"Low_Industrial\",\n",
        "        'Health professionals': \"High_Health\",\n",
        "        'Hotel, catering, trade and other services directors': \"High_Service\",\n",
        "        'Information and communication technology technicians': \"Medium_ICT\",\n",
        "        'Installation and Machine Operators and Assembly Workers': \"Medium_Industrial\",\n",
        "        'Intermediate Level Technicians and Professions': \"Medium_ICT\",\n",
        "        'Intermediate level science and engineering technicians and professions': \"Medium_STEM\",\n",
        "        'Intermediate level technicians from legal, social, sports, cultural and similar services': \"Medium_Legal\",\n",
        "        'Market-oriented farmers and skilled agricultural and animal production workers': \"Medium_Agricultural\",\n",
        "        'Meal preparation assistants': \"Low_Food\",\n",
        "        'Office workers, secretaries in general and data processing operators': \"Low_Management\",\n",
        "        'Other Armed Forces personnel': \"Low_Armed Force\",\n",
        "        'Other Situation': \"Unknown_Unknown\",\n",
        "        'Other administrative support staff': \"Low_Management\",\n",
        "        'Personal Services, Security and Safety Workers and Sellers': \"Medium_Service\",\n",
        "        'Personal care workers and the like': \"Medium_Service\",\n",
        "        'Protection and security services personnel': \"Medium_Service\",\n",
        "        'Representatives of the Legislative Power and Executive Bodies, Directors, Directors and Executive Managers': \"Medium_Management\",\n",
        "        'Skilled Workers in Industry, Construction and Craftsmen': \"Medium_Industrial\",\n",
        "        'Skilled construction workers and the like, except electricians': \"Medium_Construction\",\n",
        "        'Skilled workers in electricity and electronics': \"Medium_Construction\",\n",
        "        'Skilled workers in metallurgy, metalworking and similar': \"Medium_Industrial\",\n",
        "        'Skilled workers in printing, precision instrument manufacturing, jewelers, artisans and the like': \"High_Industrial\",\n",
        "        'Specialists in Intellectual and Scientific Activities': \"High_Data\",\n",
        "        'Specialists in finance, accounting, administrative organization, public and commercial relations': \"High_Data\",\n",
        "        'Specialists in information and communication technologies (ICT)': \"High_ICT\",\n",
        "        'Specialists in the physical sciences, mathematics, engineering and related techniques': \"High_STEM\",\n",
        "        'Street vendors (except food) and street service providers': \"Low_Service\",\n",
        "        'Student': \"Unknown_Unknown\",\n",
        "        'Technicians and professionals, of intermediate level of health': \"Medium_Health\",\n",
        "        'Unskilled Workers': \"Low_General\",\n",
        "        'Unskilled workers in agriculture, animal production, fisheries and forestry': \"Low_Agricolture\",\n",
        "        'Unskilled workers in extractive industry, construction, manufacturing and transport': \"Low_Industrial\",\n",
        "        'Vehicle drivers and mobile equipment operators': \"Medium_Service\",\n",
        "        'Workers in food processing, woodworking, clothing and other industries and crafts': \"Low_Food\",\n",
        "        'assembly workers': \"Low_Industrial\",\n",
        "        'cleaning workers': \"Low_Service\",\n",
        "        'personal service workers': \"Low_Service\",\n",
        "        'sellers': \"Medium_Service\",\n",
        "        'teachers': \"High_Service\"\n",
        "}\n",
        "\n",
        "cardinality_reducer = {\n",
        "    \"Application mode\": {\n",
        "\n",
        "        # General contingent\n",
        "        \"1st phase - general contingent\": \"General contingent\",\n",
        "        \"2nd phase - general contingent\": \"General contingent\",\n",
        "        \"3rd phase - general contingent\": \"General contingent\",\n",
        "\n",
        "        # Change of course\n",
        "        \"Change of course\": \"Change of institution/course\",\n",
        "        \"Change of institution/course (International)\": \"Change of institution/course\", # International status is already expressed in the \"Nacionatlity\" column\n",
        "\n",
        "        # Special contingent\n",
        "        \"1st phase - special contingent (Madeira Island)\": \"Special contingent\", # TO DO: check special contingent\n",
        "        \"1st phase - special contingent (Azores Island)\": \"Special contingent\", # TO DO: check special contingent\n",
        "\n",
        "        # Ordinance\n",
        "        \"Ordinance No. 854-B/99\": \"Ordinance\", # TO DO: Check ordinance\n",
        "        \"Ordinance No. 533-A/99, item b2) (Different Plan)\": \"Ordinance\", # TO DO: Check ordinance\n",
        "        \"Ordinance No. 533-A/99, item b3 (Other Institution)\": \"Ordinance\", # TO DO: Check ordinance\n",
        "        \"Ordinance No. 612/93\": \"Ordinance\", # TO DO: Check ordinance\n",
        "\n",
        "    },\n",
        "    \"Previous qualification\": {\n",
        "\n",
        "        # Basic education\n",
        "        \"10th year of schooling - not completed\": \"Basic education 3rd cycle (9th/10th/11th year) or equiv.\",\n",
        "        \"10th year of schooling\": \"Basic education 3rd cycle (9th/10th/11th year) or equiv.\",\n",
        "        \"11th year of schooling\": \"Basic education 3rd cycle (9th/10th/11th year) or equiv.\",\n",
        "        \"11th year of schooling - not completed\": \"Basic education 3rd cycle (9th/10th/11th year) or equiv.\",\n",
        "        \"Other - 11th year of schooling\": \"Basic education 3rd cycle (9th/10th/11th year) or equiv.\",\n",
        "        \"12th year of schooling - not completed\": \"Basic education 3rd cycle (9th/10th/11th year) or equiv.\",\n",
        "\n",
        "        # Higher education\n",
        "        \"Higher education - degree\": \"Higher education - bachelor\",\n",
        "        \"Higher education - degree (1st cycle)\": \"Higher education - bachelor\",\n",
        "        \"Higher education - bachelor's degree\": \"Higher education - bachelor\",\n",
        "        \"Higher education - master (2nd cycle)\": \"Higher education - master\",\n",
        "        \"Higher education - master's\": \"Higher education - master\",\n",
        "\n",
        "        # Specialisation course\n",
        "        \"Technological specialization course\": \"Specialisation course\",\n",
        "        \"Professional higher technical course\": \"Specialisation course\"\n",
        "    },\n",
        "    \"Nacionality\": {\n",
        "        # America\n",
        "        \"Brazilian\": \"America\",\n",
        "        \"Mexican\": \"America\",\n",
        "        \"Colombian\": \"America\",\n",
        "        \"Cuban\": \"America\",\n",
        "\n",
        "        # Africa\n",
        "        \"Santomean\": \"Africa\",\n",
        "        \"Guinean\": \"Africa\",\n",
        "        \"Mozambican\": \"Africa\",\n",
        "        \"Angolan\": \"Africa\",\n",
        "        \"Cape Verdean\": \"Africa\",\n",
        "\n",
        "        # Europe\n",
        "        \"Spanish\": \"Europe\",\n",
        "        \"Italian\": \"Europe\",\n",
        "        \"Ukrainian\": \"Europe\",\n",
        "        \"Moldova (Republic of)\": \"Europe\",\n",
        "        \"German\": \"Europe\",\n",
        "        \"Romanian\": \"Europe\",\n",
        "        \"Dutch\": \"Europe\",\n",
        "        \"English\": \"Europe\",\n",
        "        \"Lithuanian\": \"Europe\",\n",
        "        \"Turkish\": \"Europe\",\n",
        "    },\n",
        "    \"Course\": {\n",
        "\n",
        "       # Design and Communication\n",
        "       \"Animation and Multimedia Design\": \"Design and Communication\",\n",
        "       \"Tourism\": \"Design and Communication\",\n",
        "       \"Communication Design\": \"Design and Communication\",\n",
        "       \"Journalism and Communication\": \"Design and Communication\",\n",
        "       \"Advertising and Marketing Management\": \"Design and Communication\",\n",
        "\n",
        "       # Social care\n",
        "       \"Social Service (evening attendance)\": \"Health science\",\n",
        "       \"Nursing\": \"Health science\",\n",
        "       \"Social Service\": \"Health science\",\n",
        "       \"Oral Hygiene\": \"Health science\",\n",
        "\n",
        "       # Management\n",
        "       \"Management (evening attendance)\": \"Management\",\n",
        "       \"Management\": \"Management\",\n",
        "\n",
        "       # Plant and animal science\n",
        "       \"Agronomy\": \"Plant and animal science\",\n",
        "       \"Veterinary Nursing\": \"Plant and animal science\",\n",
        "       \"Equinculture\": \"Plant and animal science\",\n",
        "\n",
        "       # STEM\n",
        "       \"Biofuel Production Technologies\": \"STEM\",\n",
        "       \"Informatics Engineering\": \"STEM\",\n",
        "\n",
        "       # Basic education\n",
        "       \"Basic Education\": \"Basic Education\",\n",
        "    },\n",
        "    \"Mother's qualification\": partents_qualification,\n",
        "    \"Father's qualification\": partents_qualification,\n",
        "    \"Mother's occupation\": parents_occupation,\n",
        "    \"Father's occupation\": parents_occupation\n",
        "}"
      ]
    },
    {
      "cell_type": "code",
      "execution_count": 76,
      "metadata": {
        "id": "Oy5AAb7L8OXp"
      },
      "outputs": [],
      "source": [
        "# Rimpiazzamento dei valori\n",
        "X = X.replace(cardinality_reducer)"
      ]
    },
    {
      "cell_type": "code",
      "execution_count": 77,
      "metadata": {
        "id": "XZO6wTARLob_"
      },
      "outputs": [],
      "source": [
        "# Le colonne relative all'occupazione sono state ricodificate come \"Skill Level_Settor\", per ci deve essere separata in due colonne distinte: \"Skill level\" e \"Sector\"\n",
        "for parent in (\"Mother's\", \"Father's\"):\n",
        "\n",
        "  source_col = \"\".join(f\"{parent} occupation\")\n",
        "\n",
        "  X[[parent + \" Skill Level\", parent + \" Sector\"]] = X[source_col].str.split(\"_\", expand=True)\n",
        "  X = X.drop(columns=source_col)"
      ]
    },
    {
      "cell_type": "code",
      "execution_count": 78,
      "metadata": {
        "id": "v75P6mK89mk_",
        "colab": {
          "base_uri": "https://localhost:8080/"
        },
        "outputId": "5628f2b7-9a76-4cfa-9d13-039ec1dfe6f4"
      },
      "outputs": [
        {
          "output_type": "stream",
          "name": "stdout",
          "text": [
            "Marital Status\n",
            "single               3919\n",
            "married               379\n",
            "divorced               91\n",
            "facto union            25\n",
            "legally separated       6\n",
            "widower                 4\n",
            "Name: count, dtype: int64\n",
            "================================\n",
            "\n",
            "\n",
            "\n",
            "Application mode\n",
            "General contingent                              2704\n",
            "Over 23 years old                                785\n",
            "Change of institution/course                     372\n",
            "Technological specialization diploma holders     213\n",
            "Holders of other higher courses                  139\n",
            "Transfer                                          77\n",
            "Special contingent                                54\n",
            "Short cycle diploma holders                       35\n",
            "International student (bachelor)                  30\n",
            "Ordinance                                         15\n",
            "Name: count, dtype: int64\n",
            "================================\n",
            "\n",
            "\n",
            "\n",
            "Course\n",
            "Health science              1422\n",
            "Design and Communication    1292\n",
            "Plant and animal science     688\n",
            "Management                   648\n",
            "Basic Education              192\n",
            "STEM                         182\n",
            "Name: count, dtype: int64\n",
            "================================\n",
            "\n",
            "\n",
            "\n",
            "Daytime/evening attendance\n",
            "daytime    3941\n",
            "evening     483\n",
            "Name: count, dtype: int64\n",
            "================================\n",
            "\n",
            "\n",
            "\n",
            "Previous qualification\n",
            "Secondary education                                         3717\n",
            "Specialisation course                                        255\n",
            "Basic education 3rd cycle (9th/10th/11th year) or equiv.     225\n",
            "Higher education - bachelor                                  189\n",
            "Frequency of higher education                                 16\n",
            "Higher education - master                                     14\n",
            "Basic education 2nd cycle (6th/7th/8th year) or equiv.         7\n",
            "Higher education - doctorate                                   1\n",
            "Name: count, dtype: int64\n",
            "================================\n",
            "\n",
            "\n",
            "\n",
            "Nacionality\n",
            "Portuguese    4314\n",
            "America         42\n",
            "Africa          36\n",
            "Europe          30\n",
            "Russian          2\n",
            "Name: count, dtype: int64\n",
            "================================\n",
            "\n",
            "\n",
            "\n",
            "Mother's qualification\n",
            "Secondary Education - 12th Year of Schooling or Eq.         1082\n",
            "Basic education 1st cycle (4th/5th year) or equiv.          1009\n",
            "Basic Education 3rd Cycle (9th/10th/11th Year) or Equiv.    1003\n",
            "Basic Education 2nd Cycle (6th/7th/8th Year) or Equiv.       569\n",
            "Higher Education - Degree                                    438\n",
            "Unknown                                                      130\n",
            "Higher Education - bachelor                                   92\n",
            "Higher Education - master                                     53\n",
            "Higher Education - doctorate                                  22\n",
            "Technological specialization course                           20\n",
            "Can't read or write                                            6\n",
            "Name: count, dtype: int64\n",
            "================================\n",
            "\n",
            "\n",
            "\n",
            "Father's qualification\n",
            "Basic education 1st cycle (4th/5th year) or equiv.          1209\n",
            "Basic Education 3rd Cycle (9th/10th/11th Year) or Equiv.    1015\n",
            "Secondary Education - 12th Year of Schooling or Eq.          912\n",
            "Basic Education 2nd Cycle (6th/7th/8th Year) or Equiv.       718\n",
            "Higher Education - Degree                                    282\n",
            "Unknown                                                      112\n",
            "Higher Education - bachelor                                   73\n",
            "Higher Education - master                                     41\n",
            "Technological specialization course                           28\n",
            "Higher Education - doctorate                                  19\n",
            "Can't read or write                                           10\n",
            "Complementary High School Course                               1\n",
            "2nd year complementary high school course                      1\n",
            "Complementary High School Course - not concluded               1\n",
            "Supplementary Accounting and Administration                    1\n",
            "General Course of Administration and Commerce                  1\n",
            "Name: count, dtype: int64\n",
            "================================\n",
            "\n",
            "\n",
            "\n",
            "Displaced\n",
            "yes    2426\n",
            "no     1998\n",
            "Name: count, dtype: int64\n",
            "================================\n",
            "\n",
            "\n",
            "\n",
            "Educational special needs\n",
            "no     4373\n",
            "yes      51\n",
            "Name: count, dtype: int64\n",
            "================================\n",
            "\n",
            "\n",
            "\n",
            "Debtor\n",
            "no     3921\n",
            "yes     503\n",
            "Name: count, dtype: int64\n",
            "================================\n",
            "\n",
            "\n",
            "\n",
            "Tuition fees up to date\n",
            "yes    3896\n",
            "no      528\n",
            "Name: count, dtype: int64\n",
            "================================\n",
            "\n",
            "\n",
            "\n",
            "Gender\n",
            "female    2868\n",
            "male      1556\n",
            "Name: count, dtype: int64\n",
            "================================\n",
            "\n",
            "\n",
            "\n",
            "Scholarship holder\n",
            "no     3325\n",
            "yes    1099\n",
            "Name: count, dtype: int64\n",
            "================================\n",
            "\n",
            "\n",
            "\n",
            "Mother's Skill Level\n",
            "Medium     2121\n",
            "Low        1649\n",
            "High        423\n",
            "Unknown     231\n",
            "Name: count, dtype: int64\n",
            "================================\n",
            "\n",
            "\n",
            "\n",
            "Mother's Sector\n",
            "General         1577\n",
            "Management       933\n",
            "Service          570\n",
            "ICT              352\n",
            "Data             318\n",
            "Industrial       313\n",
            "Unknown          231\n",
            "Agricolture       96\n",
            "Food              16\n",
            "Health             5\n",
            "Legal              4\n",
            "Armed force        4\n",
            "STEM               4\n",
            "Construction       1\n",
            "Name: count, dtype: int64\n",
            "================================\n",
            "\n",
            "\n",
            "\n",
            "Father's Skill Level\n",
            "Medium     2431\n",
            "Low        1329\n",
            "High        452\n",
            "Unknown     212\n",
            "Name: count, dtype: int64\n",
            "================================\n",
            "\n",
            "\n",
            "\n",
            "Father's Sector\n",
            "General         1010\n",
            "Industrial      1006\n",
            "Service          531\n",
            "Management       529\n",
            "ICT              387\n",
            "Armed force      267\n",
            "Agricolture      248\n",
            "Unknown          212\n",
            "Data             198\n",
            "Construction       9\n",
            "Food               6\n",
            "Agticolture        5\n",
            "Armed Force        4\n",
            "Health             3\n",
            "STEM               3\n",
            "Armded force       2\n",
            "Managment          2\n",
            "Agricultural       1\n",
            "Legal              1\n",
            "Name: count, dtype: int64\n",
            "================================\n",
            "\n",
            "\n",
            "\n"
          ]
        }
      ],
      "source": [
        "# Verifica della frequenza dei valori che può assumere ogni colonna\n",
        "for column in X.select_dtypes(\"object\").columns:\n",
        "  print(X[column].value_counts())\n",
        "  print(\"================================\\n\\n\\n\")"
      ]
    },
    {
      "cell_type": "markdown",
      "metadata": {
        "id": "HLE26hSJUEcD"
      },
      "source": [
        "#Data visualization"
      ]
    },
    {
      "cell_type": "markdown",
      "source": [
        "##Box plots"
      ],
      "metadata": {
        "id": "hQxTMzgW1pgd"
      }
    },
    {
      "cell_type": "code",
      "execution_count": 79,
      "metadata": {
        "id": "DqdrMbOXXDrY",
        "colab": {
          "base_uri": "https://localhost:8080/",
          "height": 424
        },
        "outputId": "36e1288e-04ce-4e88-9438-8c4b53a03e1e"
      },
      "outputs": [
        {
          "output_type": "execute_result",
          "data": {
            "text/plain": [
              "      Previous qualification (grade)  Admission grade  \\\n",
              "0                              122.0            127.3   \n",
              "1                              160.0            142.5   \n",
              "2                              122.0            124.8   \n",
              "3                              122.0            119.6   \n",
              "4                              100.0            141.5   \n",
              "...                              ...              ...   \n",
              "4419                           125.0            122.2   \n",
              "4420                           120.0            119.0   \n",
              "4421                           154.0            149.5   \n",
              "4422                           180.0            153.8   \n",
              "4423                           152.0            152.0   \n",
              "\n",
              "      Curricular units 1st sem (grade)  Curricular units 2nd sem (grade)  \\\n",
              "0                             0.000000                          0.000000   \n",
              "1                            14.000000                         13.666667   \n",
              "2                             0.000000                          0.000000   \n",
              "3                            13.428571                         12.400000   \n",
              "4                            12.333333                         13.000000   \n",
              "...                                ...                               ...   \n",
              "4419                         13.600000                         12.666667   \n",
              "4420                         12.000000                         11.000000   \n",
              "4421                         14.912500                         13.500000   \n",
              "4422                         13.800000                         12.000000   \n",
              "4423                         11.666667                         13.000000   \n",
              "\n",
              "      Unemployment rate  Inflation rate   GDP  \n",
              "0                  10.8             1.4  1.74  \n",
              "1                  13.9            -0.3  0.79  \n",
              "2                  10.8             1.4  1.74  \n",
              "3                   9.4            -0.8 -3.12  \n",
              "4                  13.9            -0.3  0.79  \n",
              "...                 ...             ...   ...  \n",
              "4419               15.5             2.8 -4.06  \n",
              "4420               11.1             0.6  2.02  \n",
              "4421               13.9            -0.3  0.79  \n",
              "4422                9.4            -0.8 -3.12  \n",
              "4423               12.7             3.7 -1.70  \n",
              "\n",
              "[4424 rows x 7 columns]"
            ],
            "text/html": [
              "\n",
              "  <div id=\"df-2940ccc4-ba23-40fd-8145-17f1a5797abf\" class=\"colab-df-container\">\n",
              "    <div>\n",
              "<style scoped>\n",
              "    .dataframe tbody tr th:only-of-type {\n",
              "        vertical-align: middle;\n",
              "    }\n",
              "\n",
              "    .dataframe tbody tr th {\n",
              "        vertical-align: top;\n",
              "    }\n",
              "\n",
              "    .dataframe thead th {\n",
              "        text-align: right;\n",
              "    }\n",
              "</style>\n",
              "<table border=\"1\" class=\"dataframe\">\n",
              "  <thead>\n",
              "    <tr style=\"text-align: right;\">\n",
              "      <th></th>\n",
              "      <th>Previous qualification (grade)</th>\n",
              "      <th>Admission grade</th>\n",
              "      <th>Curricular units 1st sem (grade)</th>\n",
              "      <th>Curricular units 2nd sem (grade)</th>\n",
              "      <th>Unemployment rate</th>\n",
              "      <th>Inflation rate</th>\n",
              "      <th>GDP</th>\n",
              "    </tr>\n",
              "  </thead>\n",
              "  <tbody>\n",
              "    <tr>\n",
              "      <th>0</th>\n",
              "      <td>122.0</td>\n",
              "      <td>127.3</td>\n",
              "      <td>0.000000</td>\n",
              "      <td>0.000000</td>\n",
              "      <td>10.8</td>\n",
              "      <td>1.4</td>\n",
              "      <td>1.74</td>\n",
              "    </tr>\n",
              "    <tr>\n",
              "      <th>1</th>\n",
              "      <td>160.0</td>\n",
              "      <td>142.5</td>\n",
              "      <td>14.000000</td>\n",
              "      <td>13.666667</td>\n",
              "      <td>13.9</td>\n",
              "      <td>-0.3</td>\n",
              "      <td>0.79</td>\n",
              "    </tr>\n",
              "    <tr>\n",
              "      <th>2</th>\n",
              "      <td>122.0</td>\n",
              "      <td>124.8</td>\n",
              "      <td>0.000000</td>\n",
              "      <td>0.000000</td>\n",
              "      <td>10.8</td>\n",
              "      <td>1.4</td>\n",
              "      <td>1.74</td>\n",
              "    </tr>\n",
              "    <tr>\n",
              "      <th>3</th>\n",
              "      <td>122.0</td>\n",
              "      <td>119.6</td>\n",
              "      <td>13.428571</td>\n",
              "      <td>12.400000</td>\n",
              "      <td>9.4</td>\n",
              "      <td>-0.8</td>\n",
              "      <td>-3.12</td>\n",
              "    </tr>\n",
              "    <tr>\n",
              "      <th>4</th>\n",
              "      <td>100.0</td>\n",
              "      <td>141.5</td>\n",
              "      <td>12.333333</td>\n",
              "      <td>13.000000</td>\n",
              "      <td>13.9</td>\n",
              "      <td>-0.3</td>\n",
              "      <td>0.79</td>\n",
              "    </tr>\n",
              "    <tr>\n",
              "      <th>...</th>\n",
              "      <td>...</td>\n",
              "      <td>...</td>\n",
              "      <td>...</td>\n",
              "      <td>...</td>\n",
              "      <td>...</td>\n",
              "      <td>...</td>\n",
              "      <td>...</td>\n",
              "    </tr>\n",
              "    <tr>\n",
              "      <th>4419</th>\n",
              "      <td>125.0</td>\n",
              "      <td>122.2</td>\n",
              "      <td>13.600000</td>\n",
              "      <td>12.666667</td>\n",
              "      <td>15.5</td>\n",
              "      <td>2.8</td>\n",
              "      <td>-4.06</td>\n",
              "    </tr>\n",
              "    <tr>\n",
              "      <th>4420</th>\n",
              "      <td>120.0</td>\n",
              "      <td>119.0</td>\n",
              "      <td>12.000000</td>\n",
              "      <td>11.000000</td>\n",
              "      <td>11.1</td>\n",
              "      <td>0.6</td>\n",
              "      <td>2.02</td>\n",
              "    </tr>\n",
              "    <tr>\n",
              "      <th>4421</th>\n",
              "      <td>154.0</td>\n",
              "      <td>149.5</td>\n",
              "      <td>14.912500</td>\n",
              "      <td>13.500000</td>\n",
              "      <td>13.9</td>\n",
              "      <td>-0.3</td>\n",
              "      <td>0.79</td>\n",
              "    </tr>\n",
              "    <tr>\n",
              "      <th>4422</th>\n",
              "      <td>180.0</td>\n",
              "      <td>153.8</td>\n",
              "      <td>13.800000</td>\n",
              "      <td>12.000000</td>\n",
              "      <td>9.4</td>\n",
              "      <td>-0.8</td>\n",
              "      <td>-3.12</td>\n",
              "    </tr>\n",
              "    <tr>\n",
              "      <th>4423</th>\n",
              "      <td>152.0</td>\n",
              "      <td>152.0</td>\n",
              "      <td>11.666667</td>\n",
              "      <td>13.000000</td>\n",
              "      <td>12.7</td>\n",
              "      <td>3.7</td>\n",
              "      <td>-1.70</td>\n",
              "    </tr>\n",
              "  </tbody>\n",
              "</table>\n",
              "<p>4424 rows × 7 columns</p>\n",
              "</div>\n",
              "    <div class=\"colab-df-buttons\">\n",
              "      \n",
              "  <div class=\"colab-df-container\">\n",
              "    <button class=\"colab-df-convert\" onclick=\"convertToInteractive('df-2940ccc4-ba23-40fd-8145-17f1a5797abf')\"\n",
              "            title=\"Convert this dataframe to an interactive table.\"\n",
              "            style=\"display:none;\">\n",
              "      \n",
              "  <svg xmlns=\"http://www.w3.org/2000/svg\" height=\"24px\" viewBox=\"0 -960 960 960\">\n",
              "    <path d=\"M120-120v-720h720v720H120Zm60-500h600v-160H180v160Zm220 220h160v-160H400v160Zm0 220h160v-160H400v160ZM180-400h160v-160H180v160Zm440 0h160v-160H620v160ZM180-180h160v-160H180v160Zm440 0h160v-160H620v160Z\"/>\n",
              "  </svg>\n",
              "    </button>\n",
              "    \n",
              "  <style>\n",
              "    .colab-df-container {\n",
              "      display:flex;\n",
              "      gap: 12px;\n",
              "    }\n",
              "\n",
              "    .colab-df-convert {\n",
              "      background-color: #E8F0FE;\n",
              "      border: none;\n",
              "      border-radius: 50%;\n",
              "      cursor: pointer;\n",
              "      display: none;\n",
              "      fill: #1967D2;\n",
              "      height: 32px;\n",
              "      padding: 0 0 0 0;\n",
              "      width: 32px;\n",
              "    }\n",
              "\n",
              "    .colab-df-convert:hover {\n",
              "      background-color: #E2EBFA;\n",
              "      box-shadow: 0px 1px 2px rgba(60, 64, 67, 0.3), 0px 1px 3px 1px rgba(60, 64, 67, 0.15);\n",
              "      fill: #174EA6;\n",
              "    }\n",
              "\n",
              "    .colab-df-buttons div {\n",
              "      margin-bottom: 4px;\n",
              "    }\n",
              "\n",
              "    [theme=dark] .colab-df-convert {\n",
              "      background-color: #3B4455;\n",
              "      fill: #D2E3FC;\n",
              "    }\n",
              "\n",
              "    [theme=dark] .colab-df-convert:hover {\n",
              "      background-color: #434B5C;\n",
              "      box-shadow: 0px 1px 3px 1px rgba(0, 0, 0, 0.15);\n",
              "      filter: drop-shadow(0px 1px 2px rgba(0, 0, 0, 0.3));\n",
              "      fill: #FFFFFF;\n",
              "    }\n",
              "  </style>\n",
              "\n",
              "    <script>\n",
              "      const buttonEl =\n",
              "        document.querySelector('#df-2940ccc4-ba23-40fd-8145-17f1a5797abf button.colab-df-convert');\n",
              "      buttonEl.style.display =\n",
              "        google.colab.kernel.accessAllowed ? 'block' : 'none';\n",
              "\n",
              "      async function convertToInteractive(key) {\n",
              "        const element = document.querySelector('#df-2940ccc4-ba23-40fd-8145-17f1a5797abf');\n",
              "        const dataTable =\n",
              "          await google.colab.kernel.invokeFunction('convertToInteractive',\n",
              "                                                    [key], {});\n",
              "        if (!dataTable) return;\n",
              "\n",
              "        const docLinkHtml = 'Like what you see? Visit the ' +\n",
              "          '<a target=\"_blank\" href=https://colab.research.google.com/notebooks/data_table.ipynb>data table notebook</a>'\n",
              "          + ' to learn more about interactive tables.';\n",
              "        element.innerHTML = '';\n",
              "        dataTable['output_type'] = 'display_data';\n",
              "        await google.colab.output.renderOutput(dataTable, element);\n",
              "        const docLink = document.createElement('div');\n",
              "        docLink.innerHTML = docLinkHtml;\n",
              "        element.appendChild(docLink);\n",
              "      }\n",
              "    </script>\n",
              "  </div>\n",
              "  \n",
              "    </div>\n",
              "  </div>\n",
              "  "
            ],
            "application/vnd.google.colaboratory.intrinsic+json": {
              "type": "dataframe",
              "variable_name": "num_cols",
              "summary": "{\n  \"name\": \"num_cols\",\n  \"rows\": 4424,\n  \"fields\": [\n    {\n      \"column\": \"Previous qualification (grade)\",\n      \"properties\": {\n        \"dtype\": \"number\",\n        \"std\": 13.188331685876213,\n        \"min\": 95.0,\n        \"max\": 190.0,\n        \"num_unique_values\": 101,\n        \"samples\": [\n          148.9,\n          156.0,\n          105.0\n        ],\n        \"semantic_type\": \"\",\n        \"description\": \"\"\n      }\n    },\n    {\n      \"column\": \"Admission grade\",\n      \"properties\": {\n        \"dtype\": \"number\",\n        \"std\": 14.482000818849468,\n        \"min\": 95.0,\n        \"max\": 190.0,\n        \"num_unique_values\": 620,\n        \"samples\": [\n          113.5,\n          108.4,\n          124.9\n        ],\n        \"semantic_type\": \"\",\n        \"description\": \"\"\n      }\n    },\n    {\n      \"column\": \"Curricular units 1st sem (grade)\",\n      \"properties\": {\n        \"dtype\": \"number\",\n        \"std\": 4.843663380671798,\n        \"min\": 0.0,\n        \"max\": 18.875,\n        \"num_unique_values\": 797,\n        \"samples\": [\n          11.64285714,\n          13.89428571,\n          11.61666667\n        ],\n        \"semantic_type\": \"\",\n        \"description\": \"\"\n      }\n    },\n    {\n      \"column\": \"Curricular units 2nd sem (grade)\",\n      \"properties\": {\n        \"dtype\": \"number\",\n        \"std\": 5.210807954658554,\n        \"min\": 0.0,\n        \"max\": 18.57142857,\n        \"num_unique_values\": 782,\n        \"samples\": [\n          12.75714286,\n          16.6,\n          12.61428571\n        ],\n        \"semantic_type\": \"\",\n        \"description\": \"\"\n      }\n    },\n    {\n      \"column\": \"Unemployment rate\",\n      \"properties\": {\n        \"dtype\": \"number\",\n        \"std\": 2.6638504843026354,\n        \"min\": 7.6,\n        \"max\": 16.2,\n        \"num_unique_values\": 10,\n        \"samples\": [\n          7.6,\n          13.9,\n          8.9\n        ],\n        \"semantic_type\": \"\",\n        \"description\": \"\"\n      }\n    },\n    {\n      \"column\": \"Inflation rate\",\n      \"properties\": {\n        \"dtype\": \"number\",\n        \"std\": 1.3827106915401126,\n        \"min\": -0.8,\n        \"max\": 3.7,\n        \"num_unique_values\": 9,\n        \"samples\": [\n          2.6,\n          -0.3,\n          3.7\n        ],\n        \"semantic_type\": \"\",\n        \"description\": \"\"\n      }\n    },\n    {\n      \"column\": \"GDP\",\n      \"properties\": {\n        \"dtype\": \"number\",\n        \"std\": 2.2699354412537676,\n        \"min\": -4.06,\n        \"max\": 3.51,\n        \"num_unique_values\": 10,\n        \"samples\": [\n          0.32,\n          0.79,\n          3.51\n        ],\n        \"semantic_type\": \"\",\n        \"description\": \"\"\n      }\n    }\n  ]\n}"
            }
          },
          "metadata": {},
          "execution_count": 79
        }
      ],
      "source": [
        "# Seleziona colonne della tipologia \"float\"\n",
        "num_cols = X.select_dtypes('float')\n",
        "\n",
        "num_cols"
      ]
    },
    {
      "cell_type": "code",
      "execution_count": 80,
      "metadata": {
        "id": "IbUEgrKGi1L_"
      },
      "outputs": [],
      "source": [
        "# Standardizza colonne selezionate\n",
        "scaler = StandardScaler()\n",
        "\n",
        "scaled_array = scaler.fit_transform(num_cols)"
      ]
    },
    {
      "cell_type": "code",
      "execution_count": 81,
      "metadata": {
        "id": "0GOZ9X8jUWjD"
      },
      "outputs": [],
      "source": [
        "# Trasforma np.ndarray in pd.DataFrame\n",
        "scaled_df = pd.DataFrame( data = scaled_array, columns = num_cols.columns )"
      ]
    },
    {
      "cell_type": "code",
      "execution_count": 82,
      "metadata": {
        "id": "gn4uGS0nUTTM",
        "colab": {
          "base_uri": "https://localhost:8080/",
          "height": 434
        },
        "outputId": "d0948579-e917-4fb3-9e01-979271ade7f6"
      },
      "outputs": [
        {
          "output_type": "display_data",
          "data": {
            "text/plain": [
              "<Figure size 640x480 with 1 Axes>"
            ],
            "image/png": "[encoded data removed]"
          },
          "metadata": {}
        }
      ],
      "source": [
        "# Plot boxplot\n",
        "plt.figure()\n",
        "sns.boxplot(data = scaled_df, orient = \"h\")\n",
        "plt.show()"
      ]
    },
    {
      "cell_type": "markdown",
      "source": [
        "##Countplots"
      ],
      "metadata": {
        "id": "bvGYH4ym1tK_"
      }
    },
    {
      "cell_type": "code",
      "source": [
        "# Seziona colonne della tipologia \"Integer\"\n",
        "int_cols = X.select_dtypes(\"int\").columns\n",
        "\n",
        "int_cols"
      ],
      "metadata": {
        "colab": {
          "base_uri": "https://localhost:8080/"
        },
        "id": "2QtmiHCS2CfR",
        "outputId": "5199073e-b782-47ed-9179-9d887ddac733"
      },
      "execution_count": 83,
      "outputs": [
        {
          "output_type": "execute_result",
          "data": {
            "text/plain": [
              "Index(['Application order', 'Age at enrollment',\n",
              "       'Curricular units 1st sem (credited)',\n",
              "       'Curricular units 1st sem (enrolled)',\n",
              "       'Curricular units 1st sem (evaluations)',\n",
              "       'Curricular units 1st sem (approved)',\n",
              "       'Curricular units 1st sem (without evaluations)',\n",
              "       'Curricular units 2nd sem (credited)',\n",
              "       'Curricular units 2nd sem (enrolled)',\n",
              "       'Curricular units 2nd sem (evaluations)',\n",
              "       'Curricular units 2nd sem (approved)',\n",
              "       'Curricular units 2nd sem (without evaluations)'],\n",
              "      dtype='object')"
            ]
          },
          "metadata": {},
          "execution_count": 83
        }
      ]
    },
    {
      "cell_type": "code",
      "source": [
        "# Crea figura diviso in un numero diì sotto-figure uguale al numero di colonne di tipologia \"integer\"\n",
        "fig, axs = plt.subplots(\n",
        "    nrows = len(int_cols),\n",
        "    sharex = True,\n",
        "    figsize=(10, 75)\n",
        ")\n",
        "\n",
        "\n",
        "# Per ogni colonna, crea un countplt in una sotto-figura distinta\n",
        "for i, col in enumerate(int_cols):\n",
        "\n",
        "  axs[i].set_title(col)\n",
        "\n",
        "  sns.countplot(\n",
        "      y=X[col].values,\n",
        "      hue=y['Target'].values,\n",
        "      stat='percent',\n",
        "      ax = axs[i],\n",
        "  )"
      ],
      "metadata": {
        "colab": {
          "base_uri": "https://localhost:8080/",
          "height": 1000
        },
        "id": "C2Ip0Zlh1S72",
        "outputId": "d4fcee92-93f5-4e71-a4a8-fe09d38305c9"
      },
      "execution_count": 84,
      "outputs": [
        {
          "output_type": "display_data",
          "data": {
            "text/plain": [
              "<Figure size 1000x7500 with 12 Axes>"
            ],
            "image/png": "[encoded data removed]"
          },
          "metadata": {}
        }
      ]
    },
    {
      "cell_type": "markdown",
      "metadata": {
        "id": "wz5fqXw1Dpmm"
      },
      "source": [
        "#Column preprocessing"
      ]
    },
    {
      "cell_type": "code",
      "execution_count": 85,
      "metadata": {
        "id": "mR7iYXyeR757"
      },
      "outputs": [],
      "source": [
        "# Seleziona tutte le colonne\n",
        "X_cols = X.columns\n",
        "\n",
        "# Seleziona solo le colonne categoriche\n",
        "X_cat = X.select_dtypes(\"object\")\n",
        "\n",
        "# Seleziona solo le colonne numeriche\n",
        "X_num = X.select_dtypes(exclude = \"object\")"
      ]
    },
    {
      "cell_type": "code",
      "execution_count": 86,
      "metadata": {
        "id": "dZXM-JNQDqB_"
      },
      "outputs": [],
      "source": [
        "# Colonne categoriche da pre-processare tramite OneHotEncoder\n",
        "ohe_cols = [\n",
        " 'Marital Status',\n",
        " 'Application mode',\n",
        " 'Course',\n",
        " 'Daytime/evening attendance',\n",
        " 'Nacionality',\n",
        " 'Displaced',\n",
        " 'Educational special needs',\n",
        " 'Debtor',\n",
        " 'Tuition fees up to date',\n",
        " 'Gender',\n",
        " 'Scholarship holder'\n",
        "]\n",
        "\n",
        "# Colonne categoriche da preprocessare tramite OrdinalEncoder\n",
        "ord_cols = [col for col in X_cols if col not in ohe_cols]"
      ]
    },
    {
      "cell_type": "code",
      "execution_count": 87,
      "metadata": {
        "id": "svfDAAmmBITI"
      },
      "outputs": [],
      "source": [
        "# Trasformazione delle colonne\n",
        "column_transformer = ColumnTransformer([\n",
        "    (\"ohe_encoder\", OneHotEncoder(), ohe_cols),\n",
        "    (\"ord_encoder\", OrdinalEncoder(), ord_cols)\n",
        "])\n",
        "\n",
        "X = column_transformer.fit_transform(X)"
      ]
    },
    {
      "cell_type": "code",
      "execution_count": 88,
      "metadata": {
        "id": "nK2RZXIX8ncH",
        "colab": {
          "base_uri": "https://localhost:8080/"
        },
        "outputId": "6ad3dd9c-a3b7-44b7-f632-6ad787ab54dd"
      },
      "outputs": [
        {
          "output_type": "execute_result",
          "data": {
            "text/plain": [
              "array([[ 0.,  0.,  0., ..., 12.,  1.,  9.],\n",
              "       [ 0.,  0.,  0., ...,  7.,  2., 11.],\n",
              "       [ 0.,  0.,  0., ...,  5.,  1.,  9.],\n",
              "       ...,\n",
              "       [ 0.,  0.,  0., ...,  5.,  1.,  9.],\n",
              "       [ 0.,  0.,  0., ...,  8.,  2., 14.],\n",
              "       [ 0.,  0.,  0., ..., 12.,  1.,  9.]])"
            ]
          },
          "metadata": {},
          "execution_count": 88
        }
      ],
      "source": [
        "X"
      ]
    },
    {
      "cell_type": "code",
      "execution_count": 89,
      "metadata": {
        "id": "fNjA7WAt8qYm",
        "colab": {
          "base_uri": "https://localhost:8080/"
        },
        "outputId": "1eec36c7-6ca0-443b-823c-91a22c085c75"
      },
      "outputs": [
        {
          "output_type": "execute_result",
          "data": {
            "text/plain": [
              "numpy.ndarray"
            ]
          },
          "metadata": {},
          "execution_count": 89
        }
      ],
      "source": [
        "type(X)"
      ]
    },
    {
      "cell_type": "markdown",
      "metadata": {
        "id": "HXH0_eLAfrzv"
      },
      "source": [
        "#Split"
      ]
    },
    {
      "cell_type": "code",
      "execution_count": 90,
      "metadata": {
        "id": "lnsYGBbJW3Fi"
      },
      "outputs": [],
      "source": [
        "# Divisione del dataset in test e train\n",
        "X_train, X_test, y_train, y_test = train_test_split(\n",
        "    X,\n",
        "    y,\n",
        "    test_size = 0.2,\n",
        "    random_state = 42\n",
        ")"
      ]
    },
    {
      "cell_type": "markdown",
      "metadata": {
        "id": "d6l6RZ2hexRi"
      },
      "source": [
        "#Baseline Accuracy"
      ]
    },
    {
      "cell_type": "code",
      "execution_count": 91,
      "metadata": {
        "id": "4O3QFM2Myqfs",
        "colab": {
          "base_uri": "https://localhost:8080/"
        },
        "outputId": "bc9c9fe2-57ec-44ae-c835-e502a0115b6c"
      },
      "outputs": [
        {
          "output_type": "stream",
          "name": "stdout",
          "text": [
            "Moda: ('Graduate',)\n",
            "Baseline accuracy: 0.5060751624752755\n"
          ]
        }
      ],
      "source": [
        "# Baseline accuracy è ottenuta associando a tutti gli elementi del test set, la moda del training set\n",
        "baseline_acc = y_train.value_counts(normalize = True)\n",
        "\n",
        "print(f\"Moda: {baseline_acc.idxmax()}\")\n",
        "print(f\"Baseline accuracy: {baseline_acc.max()}\")"
      ]
    },
    {
      "cell_type": "markdown",
      "metadata": {
        "id": "rPF35ZMuHbF2"
      },
      "source": [
        "#Decision Tree Classifier"
      ]
    },
    {
      "cell_type": "markdown",
      "metadata": {
        "id": "2C4QiSHvcxIh"
      },
      "source": [
        "## Default model"
      ]
    },
    {
      "cell_type": "code",
      "execution_count": 92,
      "metadata": {
        "colab": {
          "base_uri": "https://localhost:8080/",
          "height": 75
        },
        "id": "jM_aJPb00W4S",
        "outputId": "0fd89517-65eb-48da-bad1-513394d5211a"
      },
      "outputs": [
        {
          "output_type": "execute_result",
          "data": {
            "text/plain": [
              "DecisionTreeClassifier(random_state=42)"
            ],
            "text/html": [
              "<style>#sk-container-id-4 {color: black;background-color: white;}#sk-container-id-4 pre{padding: 0;}#sk-container-id-4 div.sk-toggleable {background-color: white;}#sk-container-id-4 label.sk-toggleable__label {cursor: pointer;display: block;width: 100%;margin-bottom: 0;padding: 0.3em;box-sizing: border-box;text-align: center;}#sk-container-id-4 label.sk-toggleable__label-arrow:before {content: \"▸\";float: left;margin-right: 0.25em;color: #696969;}#sk-container-id-4 label.sk-toggleable__label-arrow:hover:before {color: black;}#sk-container-id-4 div.sk-estimator:hover label.sk-toggleable__label-arrow:before {color: black;}#sk-container-id-4 div.sk-toggleable__content {max-height: 0;max-width: 0;overflow: hidden;text-align: left;background-color: #f0f8ff;}#sk-container-id-4 div.sk-toggleable__content pre {margin: 0.2em;color: black;border-radius: 0.25em;background-color: #f0f8ff;}#sk-container-id-4 input.sk-toggleable__control:checked~div.sk-toggleable__content {max-height: 200px;max-width: 100%;overflow: auto;}#sk-container-id-4 input.sk-toggleable__control:checked~label.sk-toggleable__label-arrow:before {content: \"▾\";}#sk-container-id-4 div.sk-estimator input.sk-toggleable__control:checked~label.sk-toggleable__label {background-color: #d4ebff;}#sk-container-id-4 div.sk-label input.sk-toggleable__control:checked~label.sk-toggleable__label {background-color: #d4ebff;}#sk-container-id-4 input.sk-hidden--visually {border: 0;clip: rect(1px 1px 1px 1px);clip: rect(1px, 1px, 1px, 1px);height: 1px;margin: -1px;overflow: hidden;padding: 0;position: absolute;width: 1px;}#sk-container-id-4 div.sk-estimator {font-family: monospace;background-color: #f0f8ff;border: 1px dotted black;border-radius: 0.25em;box-sizing: border-box;margin-bottom: 0.5em;}#sk-container-id-4 div.sk-estimator:hover {background-color: #d4ebff;}#sk-container-id-4 div.sk-parallel-item::after {content: \"\";width: 100%;border-bottom: 1px solid gray;flex-grow: 1;}#sk-container-id-4 div.sk-label:hover label.sk-toggleable__label {background-color: #d4ebff;}#sk-container-id-4 div.sk-serial::before {content: \"\";position: absolute;border-left: 1px solid gray;box-sizing: border-box;top: 0;bottom: 0;left: 50%;z-index: 0;}#sk-container-id-4 div.sk-serial {display: flex;flex-direction: column;align-items: center;background-color: white;padding-right: 0.2em;padding-left: 0.2em;position: relative;}#sk-container-id-4 div.sk-item {position: relative;z-index: 1;}#sk-container-id-4 div.sk-parallel {display: flex;align-items: stretch;justify-content: center;background-color: white;position: relative;}#sk-container-id-4 div.sk-item::before, #sk-container-id-4 div.sk-parallel-item::before {content: \"\";position: absolute;border-left: 1px solid gray;box-sizing: border-box;top: 0;bottom: 0;left: 50%;z-index: -1;}#sk-container-id-4 div.sk-parallel-item {display: flex;flex-direction: column;z-index: 1;position: relative;background-color: white;}#sk-container-id-4 div.sk-parallel-item:first-child::after {align-self: flex-end;width: 50%;}#sk-container-id-4 div.sk-parallel-item:last-child::after {align-self: flex-start;width: 50%;}#sk-container-id-4 div.sk-parallel-item:only-child::after {width: 0;}#sk-container-id-4 div.sk-dashed-wrapped {border: 1px dashed gray;margin: 0 0.4em 0.5em 0.4em;box-sizing: border-box;padding-bottom: 0.4em;background-color: white;}#sk-container-id-4 div.sk-label label {font-family: monospace;font-weight: bold;display: inline-block;line-height: 1.2em;}#sk-container-id-4 div.sk-label-container {text-align: center;}#sk-container-id-4 div.sk-container {/* jupyter's `normalize.less` sets `[hidden] { display: none; }` but bootstrap.min.css set `[hidden] { display: none !important; }` so we also need the `!important` here to be able to override the default hidden behavior on the sphinx rendered scikit-learn.org. See: https://github.com/scikit-learn/scikit-learn/issues/21755 */display: inline-block !important;position: relative;}#sk-container-id-4 div.sk-text-repr-fallback {display: none;}</style><div id=\"sk-container-id-4\" class=\"sk-top-container\"><div class=\"sk-text-repr-fallback\"><pre>DecisionTreeClassifier(random_state=42)</pre><b>In a Jupyter environment, please rerun this cell to show the HTML representation or trust the notebook. <br />On GitHub, the HTML representation is unable to render, please try loading this page with nbviewer.org.</b></div><div class=\"sk-container\" hidden><div class=\"sk-item\"><div class=\"sk-estimator sk-toggleable\"><input class=\"sk-toggleable__control sk-hidden--visually\" id=\"sk-estimator-id-6\" type=\"checkbox\" checked><label for=\"sk-estimator-id-6\" class=\"sk-toggleable__label sk-toggleable__label-arrow\">DecisionTreeClassifier</label><div class=\"sk-toggleable__content\"><pre>DecisionTreeClassifier(random_state=42)</pre></div></div></div></div></div>"
            ]
          },
          "metadata": {},
          "execution_count": 92
        }
      ],
      "source": [
        "dtc = DecisionTreeClassifier(random_state = 42)\n",
        "\n",
        "dtc.fit(X_train, y_train)"
      ]
    },
    {
      "cell_type": "code",
      "execution_count": 93,
      "metadata": {
        "colab": {
          "base_uri": "https://localhost:8080/",
          "height": 493
        },
        "id": "BBzbf4goyUg2",
        "outputId": "a789aae4-54d4-45a8-907f-af98219bee27"
      },
      "outputs": [
        {
          "output_type": "stream",
          "name": "stdout",
          "text": [
            "[[314 104]\n",
            " [100 367]]\n"
          ]
        },
        {
          "output_type": "display_data",
          "data": {
            "text/plain": [
              "<Figure size 640x480 with 2 Axes>"
            ],
            "image/png": "[encoded data removed]"
          },
          "metadata": {}
        }
      ],
      "source": [
        "disp = ConfusionMatrixDisplay.from_estimator(\n",
        "    dtc,\n",
        "    X_test,\n",
        "    y_test,\n",
        "    cmap = plt.cm.Blues\n",
        ")\n",
        "\n",
        "print(disp.confusion_matrix)\n",
        "plt.grid(False)\n",
        "plt.show()"
      ]
    },
    {
      "cell_type": "code",
      "execution_count": 94,
      "metadata": {
        "colab": {
          "base_uri": "https://localhost:8080/"
        },
        "id": "UXc4cP1XtLYk",
        "outputId": "be8aed83-f48d-4702-e33e-59a965dac1ab"
      },
      "outputs": [
        {
          "output_type": "stream",
          "name": "stdout",
          "text": [
            "              precision    recall  f1-score   support\n",
            "\n",
            "    Graduate       0.76      0.75      0.75       418\n",
            "Not graduate       0.78      0.79      0.78       467\n",
            "\n",
            "    accuracy                           0.77       885\n",
            "   macro avg       0.77      0.77      0.77       885\n",
            "weighted avg       0.77      0.77      0.77       885\n",
            "\n"
          ]
        }
      ],
      "source": [
        "y_test_pred = dtc.predict(X_test)\n",
        "\n",
        "print(classification_report(y_test, y_test_pred))"
      ]
    },
    {
      "cell_type": "markdown",
      "metadata": {
        "id": "rcFumIBGpGvo"
      },
      "source": [
        "## (Hyper)Parameter Tuning"
      ]
    },
    {
      "cell_type": "code",
      "execution_count": 95,
      "metadata": {
        "id": "22GxhBMUpeYn"
      },
      "outputs": [],
      "source": [
        "dtc_params = {\n",
        "    \"criterion\": ['gini', 'entropy'],\n",
        "    \"max_depth\": range(1 ,102, 2),\n",
        "    \"min_samples_leaf\": range(1, 26, 3),\n",
        "}"
      ]
    },
    {
      "cell_type": "code",
      "execution_count": 96,
      "metadata": {
        "id": "CwJeZ91ipizO"
      },
      "outputs": [],
      "source": [
        "scorer = make_scorer(f1_score, pos_label=pos_label)\n",
        "\n",
        "dtc_grid_search = GridSearchCV(\n",
        "    estimator = DecisionTreeClassifier(random_state=42),\n",
        "    param_grid = dtc_params,\n",
        "    cv = 2,\n",
        "    n_jobs = 1,\n",
        "    scoring = scorer,\n",
        ")"
      ]
    },
    {
      "cell_type": "code",
      "execution_count": 97,
      "metadata": {
        "colab": {
          "base_uri": "https://localhost:8080/",
          "height": 153
        },
        "id": "9okq58yWqL-i",
        "outputId": "281942a7-0462-4da3-b044-5bc32102d5dc"
      },
      "outputs": [
        {
          "output_type": "stream",
          "name": "stdout",
          "text": [
            "CPU times: user 1min 9s, sys: 315 ms, total: 1min 10s\n",
            "Wall time: 1min 17s\n"
          ]
        },
        {
          "output_type": "execute_result",
          "data": {
            "text/plain": [
              "GridSearchCV(cv=2, estimator=DecisionTreeClassifier(random_state=42), n_jobs=1,\n",
              "             param_grid={'criterion': ['gini', 'entropy'],\n",
              "                         'max_depth': range(1, 102, 2),\n",
              "                         'min_samples_leaf': range(1, 26, 3)},\n",
              "             scoring=make_scorer(f1_score, pos_label=Not graduate))"
            ],
            "text/html": [
              "<style>#sk-container-id-5 {color: black;background-color: white;}#sk-container-id-5 pre{padding: 0;}#sk-container-id-5 div.sk-toggleable {background-color: white;}#sk-container-id-5 label.sk-toggleable__label {cursor: pointer;display: block;width: 100%;margin-bottom: 0;padding: 0.3em;box-sizing: border-box;text-align: center;}#sk-container-id-5 label.sk-toggleable__label-arrow:before {content: \"▸\";float: left;margin-right: 0.25em;color: #696969;}#sk-container-id-5 label.sk-toggleable__label-arrow:hover:before {color: black;}#sk-container-id-5 div.sk-estimator:hover label.sk-toggleable__label-arrow:before {color: black;}#sk-container-id-5 div.sk-toggleable__content {max-height: 0;max-width: 0;overflow: hidden;text-align: left;background-color: #f0f8ff;}#sk-container-id-5 div.sk-toggleable__content pre {margin: 0.2em;color: black;border-radius: 0.25em;background-color: #f0f8ff;}#sk-container-id-5 input.sk-toggleable__control:checked~div.sk-toggleable__content {max-height: 200px;max-width: 100%;overflow: auto;}#sk-container-id-5 input.sk-toggleable__control:checked~label.sk-toggleable__label-arrow:before {content: \"▾\";}#sk-container-id-5 div.sk-estimator input.sk-toggleable__control:checked~label.sk-toggleable__label {background-color: #d4ebff;}#sk-container-id-5 div.sk-label input.sk-toggleable__control:checked~label.sk-toggleable__label {background-color: #d4ebff;}#sk-container-id-5 input.sk-hidden--visually {border: 0;clip: rect(1px 1px 1px 1px);clip: rect(1px, 1px, 1px, 1px);height: 1px;margin: -1px;overflow: hidden;padding: 0;position: absolute;width: 1px;}#sk-container-id-5 div.sk-estimator {font-family: monospace;background-color: #f0f8ff;border: 1px dotted black;border-radius: 0.25em;box-sizing: border-box;margin-bottom: 0.5em;}#sk-container-id-5 div.sk-estimator:hover {background-color: #d4ebff;}#sk-container-id-5 div.sk-parallel-item::after {content: \"\";width: 100%;border-bottom: 1px solid gray;flex-grow: 1;}#sk-container-id-5 div.sk-label:hover label.sk-toggleable__label {background-color: #d4ebff;}#sk-container-id-5 div.sk-serial::before {content: \"\";position: absolute;border-left: 1px solid gray;box-sizing: border-box;top: 0;bottom: 0;left: 50%;z-index: 0;}#sk-container-id-5 div.sk-serial {display: flex;flex-direction: column;align-items: center;background-color: white;padding-right: 0.2em;padding-left: 0.2em;position: relative;}#sk-container-id-5 div.sk-item {position: relative;z-index: 1;}#sk-container-id-5 div.sk-parallel {display: flex;align-items: stretch;justify-content: center;background-color: white;position: relative;}#sk-container-id-5 div.sk-item::before, #sk-container-id-5 div.sk-parallel-item::before {content: \"\";position: absolute;border-left: 1px solid gray;box-sizing: border-box;top: 0;bottom: 0;left: 50%;z-index: -1;}#sk-container-id-5 div.sk-parallel-item {display: flex;flex-direction: column;z-index: 1;position: relative;background-color: white;}#sk-container-id-5 div.sk-parallel-item:first-child::after {align-self: flex-end;width: 50%;}#sk-container-id-5 div.sk-parallel-item:last-child::after {align-self: flex-start;width: 50%;}#sk-container-id-5 div.sk-parallel-item:only-child::after {width: 0;}#sk-container-id-5 div.sk-dashed-wrapped {border: 1px dashed gray;margin: 0 0.4em 0.5em 0.4em;box-sizing: border-box;padding-bottom: 0.4em;background-color: white;}#sk-container-id-5 div.sk-label label {font-family: monospace;font-weight: bold;display: inline-block;line-height: 1.2em;}#sk-container-id-5 div.sk-label-container {text-align: center;}#sk-container-id-5 div.sk-container {/* jupyter's `normalize.less` sets `[hidden] { display: none; }` but bootstrap.min.css set `[hidden] { display: none !important; }` so we also need the `!important` here to be able to override the default hidden behavior on the sphinx rendered scikit-learn.org. See: https://github.com/scikit-learn/scikit-learn/issues/21755 */display: inline-block !important;position: relative;}#sk-container-id-5 div.sk-text-repr-fallback {display: none;}</style><div id=\"sk-container-id-5\" class=\"sk-top-container\"><div class=\"sk-text-repr-fallback\"><pre>GridSearchCV(cv=2, estimator=DecisionTreeClassifier(random_state=42), n_jobs=1,\n",
              "             param_grid={&#x27;criterion&#x27;: [&#x27;gini&#x27;, &#x27;entropy&#x27;],\n",
              "                         &#x27;max_depth&#x27;: range(1, 102, 2),\n",
              "                         &#x27;min_samples_leaf&#x27;: range(1, 26, 3)},\n",
              "             scoring=make_scorer(f1_score, pos_label=Not graduate))</pre><b>In a Jupyter environment, please rerun this cell to show the HTML representation or trust the notebook. <br />On GitHub, the HTML representation is unable to render, please try loading this page with nbviewer.org.</b></div><div class=\"sk-container\" hidden><div class=\"sk-item sk-dashed-wrapped\"><div class=\"sk-label-container\"><div class=\"sk-label sk-toggleable\"><input class=\"sk-toggleable__control sk-hidden--visually\" id=\"sk-estimator-id-7\" type=\"checkbox\" ><label for=\"sk-estimator-id-7\" class=\"sk-toggleable__label sk-toggleable__label-arrow\">GridSearchCV</label><div class=\"sk-toggleable__content\"><pre>GridSearchCV(cv=2, estimator=DecisionTreeClassifier(random_state=42), n_jobs=1,\n",
              "             param_grid={&#x27;criterion&#x27;: [&#x27;gini&#x27;, &#x27;entropy&#x27;],\n",
              "                         &#x27;max_depth&#x27;: range(1, 102, 2),\n",
              "                         &#x27;min_samples_leaf&#x27;: range(1, 26, 3)},\n",
              "             scoring=make_scorer(f1_score, pos_label=Not graduate))</pre></div></div></div><div class=\"sk-parallel\"><div class=\"sk-parallel-item\"><div class=\"sk-item\"><div class=\"sk-label-container\"><div class=\"sk-label sk-toggleable\"><input class=\"sk-toggleable__control sk-hidden--visually\" id=\"sk-estimator-id-8\" type=\"checkbox\" ><label for=\"sk-estimator-id-8\" class=\"sk-toggleable__label sk-toggleable__label-arrow\">estimator: DecisionTreeClassifier</label><div class=\"sk-toggleable__content\"><pre>DecisionTreeClassifier(random_state=42)</pre></div></div></div><div class=\"sk-serial\"><div class=\"sk-item\"><div class=\"sk-estimator sk-toggleable\"><input class=\"sk-toggleable__control sk-hidden--visually\" id=\"sk-estimator-id-9\" type=\"checkbox\" ><label for=\"sk-estimator-id-9\" class=\"sk-toggleable__label sk-toggleable__label-arrow\">DecisionTreeClassifier</label><div class=\"sk-toggleable__content\"><pre>DecisionTreeClassifier(random_state=42)</pre></div></div></div></div></div></div></div></div></div></div>"
            ]
          },
          "metadata": {},
          "execution_count": 97
        }
      ],
      "source": [
        "%%time\n",
        "\n",
        "dtc_grid_search.fit(X_train, y_train)"
      ]
    },
    {
      "cell_type": "code",
      "execution_count": 98,
      "metadata": {
        "colab": {
          "base_uri": "https://localhost:8080/",
          "height": 424
        },
        "id": "z4F7BwBlsM6O",
        "outputId": "333c2924-b42a-4ff7-ca5c-c060f65dd663"
      },
      "outputs": [
        {
          "output_type": "execute_result",
          "data": {
            "text/plain": [
              "    param_criterion param_max_depth param_min_samples_leaf  mean_test_score  \\\n",
              "494         entropy               7                     25         0.808466   \n",
              "917         entropy             101                     25         0.807804   \n",
              "773         entropy              69                     25         0.807804   \n",
              "602         entropy              31                     25         0.807804   \n",
              "530         entropy              15                     25         0.807804   \n",
              "..              ...             ...                    ...              ...   \n",
              "693         entropy              53                      1         0.768868   \n",
              "864         entropy              91                      1         0.768868   \n",
              "720         entropy              59                      1         0.768868   \n",
              "837         entropy              85                      1         0.768868   \n",
              "540         entropy              19                      1         0.767716   \n",
              "\n",
              "     std_test_score  rank_test_score  \n",
              "494        0.010593                1  \n",
              "917        0.009197                2  \n",
              "773        0.009197                2  \n",
              "602        0.009197                2  \n",
              "530        0.009197                2  \n",
              "..              ...              ...  \n",
              "693        0.003729              877  \n",
              "864        0.003729              877  \n",
              "720        0.003729              877  \n",
              "837        0.003729              877  \n",
              "540        0.002577              918  \n",
              "\n",
              "[918 rows x 6 columns]"
            ],
            "text/html": [
              "\n",
              "  <div id=\"df-c9b60cd4-045a-40e4-8d69-066af5b7be17\" class=\"colab-df-container\">\n",
              "    <div>\n",
              "<style scoped>\n",
              "    .dataframe tbody tr th:only-of-type {\n",
              "        vertical-align: middle;\n",
              "    }\n",
              "\n",
              "    .dataframe tbody tr th {\n",
              "        vertical-align: top;\n",
              "    }\n",
              "\n",
              "    .dataframe thead th {\n",
              "        text-align: right;\n",
              "    }\n",
              "</style>\n",
              "<table border=\"1\" class=\"dataframe\">\n",
              "  <thead>\n",
              "    <tr style=\"text-align: right;\">\n",
              "      <th></th>\n",
              "      <th>param_criterion</th>\n",
              "      <th>param_max_depth</th>\n",
              "      <th>param_min_samples_leaf</th>\n",
              "      <th>mean_test_score</th>\n",
              "      <th>std_test_score</th>\n",
              "      <th>rank_test_score</th>\n",
              "    </tr>\n",
              "  </thead>\n",
              "  <tbody>\n",
              "    <tr>\n",
              "      <th>494</th>\n",
              "      <td>entropy</td>\n",
              "      <td>7</td>\n",
              "      <td>25</td>\n",
              "      <td>0.808466</td>\n",
              "      <td>0.010593</td>\n",
              "      <td>1</td>\n",
              "    </tr>\n",
              "    <tr>\n",
              "      <th>917</th>\n",
              "      <td>entropy</td>\n",
              "      <td>101</td>\n",
              "      <td>25</td>\n",
              "      <td>0.807804</td>\n",
              "      <td>0.009197</td>\n",
              "      <td>2</td>\n",
              "    </tr>\n",
              "    <tr>\n",
              "      <th>773</th>\n",
              "      <td>entropy</td>\n",
              "      <td>69</td>\n",
              "      <td>25</td>\n",
              "      <td>0.807804</td>\n",
              "      <td>0.009197</td>\n",
              "      <td>2</td>\n",
              "    </tr>\n",
              "    <tr>\n",
              "      <th>602</th>\n",
              "      <td>entropy</td>\n",
              "      <td>31</td>\n",
              "      <td>25</td>\n",
              "      <td>0.807804</td>\n",
              "      <td>0.009197</td>\n",
              "      <td>2</td>\n",
              "    </tr>\n",
              "    <tr>\n",
              "      <th>530</th>\n",
              "      <td>entropy</td>\n",
              "      <td>15</td>\n",
              "      <td>25</td>\n",
              "      <td>0.807804</td>\n",
              "      <td>0.009197</td>\n",
              "      <td>2</td>\n",
              "    </tr>\n",
              "    <tr>\n",
              "      <th>...</th>\n",
              "      <td>...</td>\n",
              "      <td>...</td>\n",
              "      <td>...</td>\n",
              "      <td>...</td>\n",
              "      <td>...</td>\n",
              "      <td>...</td>\n",
              "    </tr>\n",
              "    <tr>\n",
              "      <th>693</th>\n",
              "      <td>entropy</td>\n",
              "      <td>53</td>\n",
              "      <td>1</td>\n",
              "      <td>0.768868</td>\n",
              "      <td>0.003729</td>\n",
              "      <td>877</td>\n",
              "    </tr>\n",
              "    <tr>\n",
              "      <th>864</th>\n",
              "      <td>entropy</td>\n",
              "      <td>91</td>\n",
              "      <td>1</td>\n",
              "      <td>0.768868</td>\n",
              "      <td>0.003729</td>\n",
              "      <td>877</td>\n",
              "    </tr>\n",
              "    <tr>\n",
              "      <th>720</th>\n",
              "      <td>entropy</td>\n",
              "      <td>59</td>\n",
              "      <td>1</td>\n",
              "      <td>0.768868</td>\n",
              "      <td>0.003729</td>\n",
              "      <td>877</td>\n",
              "    </tr>\n",
              "    <tr>\n",
              "      <th>837</th>\n",
              "      <td>entropy</td>\n",
              "      <td>85</td>\n",
              "      <td>1</td>\n",
              "      <td>0.768868</td>\n",
              "      <td>0.003729</td>\n",
              "      <td>877</td>\n",
              "    </tr>\n",
              "    <tr>\n",
              "      <th>540</th>\n",
              "      <td>entropy</td>\n",
              "      <td>19</td>\n",
              "      <td>1</td>\n",
              "      <td>0.767716</td>\n",
              "      <td>0.002577</td>\n",
              "      <td>918</td>\n",
              "    </tr>\n",
              "  </tbody>\n",
              "</table>\n",
              "<p>918 rows × 6 columns</p>\n",
              "</div>\n",
              "    <div class=\"colab-df-buttons\">\n",
              "      \n",
              "  <div class=\"colab-df-container\">\n",
              "    <button class=\"colab-df-convert\" onclick=\"convertToInteractive('df-c9b60cd4-045a-40e4-8d69-066af5b7be17')\"\n",
              "            title=\"Convert this dataframe to an interactive table.\"\n",
              "            style=\"display:none;\">\n",
              "      \n",
              "  <svg xmlns=\"http://www.w3.org/2000/svg\" height=\"24px\" viewBox=\"0 -960 960 960\">\n",
              "    <path d=\"M120-120v-720h720v720H120Zm60-500h600v-160H180v160Zm220 220h160v-160H400v160Zm0 220h160v-160H400v160ZM180-400h160v-160H180v160Zm440 0h160v-160H620v160ZM180-180h160v-160H180v160Zm440 0h160v-160H620v160Z\"/>\n",
              "  </svg>\n",
              "    </button>\n",
              "    \n",
              "  <style>\n",
              "    .colab-df-container {\n",
              "      display:flex;\n",
              "      gap: 12px;\n",
              "    }\n",
              "\n",
              "    .colab-df-convert {\n",
              "      background-color: #E8F0FE;\n",
              "      border: none;\n",
              "      border-radius: 50%;\n",
              "      cursor: pointer;\n",
              "      display: none;\n",
              "      fill: #1967D2;\n",
              "      height: 32px;\n",
              "      padding: 0 0 0 0;\n",
              "      width: 32px;\n",
              "    }\n",
              "\n",
              "    .colab-df-convert:hover {\n",
              "      background-color: #E2EBFA;\n",
              "      box-shadow: 0px 1px 2px rgba(60, 64, 67, 0.3), 0px 1px 3px 1px rgba(60, 64, 67, 0.15);\n",
              "      fill: #174EA6;\n",
              "    }\n",
              "\n",
              "    .colab-df-buttons div {\n",
              "      margin-bottom: 4px;\n",
              "    }\n",
              "\n",
              "    [theme=dark] .colab-df-convert {\n",
              "      background-color: #3B4455;\n",
              "      fill: #D2E3FC;\n",
              "    }\n",
              "\n",
              "    [theme=dark] .colab-df-convert:hover {\n",
              "      background-color: #434B5C;\n",
              "      box-shadow: 0px 1px 3px 1px rgba(0, 0, 0, 0.15);\n",
              "      filter: drop-shadow(0px 1px 2px rgba(0, 0, 0, 0.3));\n",
              "      fill: #FFFFFF;\n",
              "    }\n",
              "  </style>\n",
              "\n",
              "    <script>\n",
              "      const buttonEl =\n",
              "        document.querySelector('#df-c9b60cd4-045a-40e4-8d69-066af5b7be17 button.colab-df-convert');\n",
              "      buttonEl.style.display =\n",
              "        google.colab.kernel.accessAllowed ? 'block' : 'none';\n",
              "\n",
              "      async function convertToInteractive(key) {\n",
              "        const element = document.querySelector('#df-c9b60cd4-045a-40e4-8d69-066af5b7be17');\n",
              "        const dataTable =\n",
              "          await google.colab.kernel.invokeFunction('convertToInteractive',\n",
              "                                                    [key], {});\n",
              "        if (!dataTable) return;\n",
              "\n",
              "        const docLinkHtml = 'Like what you see? Visit the ' +\n",
              "          '<a target=\"_blank\" href=https://colab.research.google.com/notebooks/data_table.ipynb>data table notebook</a>'\n",
              "          + ' to learn more about interactive tables.';\n",
              "        element.innerHTML = '';\n",
              "        dataTable['output_type'] = 'display_data';\n",
              "        await google.colab.output.renderOutput(dataTable, element);\n",
              "        const docLink = document.createElement('div');\n",
              "        docLink.innerHTML = docLinkHtml;\n",
              "        element.appendChild(docLink);\n",
              "      }\n",
              "    </script>\n",
              "  </div>\n",
              "  \n",
              "    </div>\n",
              "  </div>\n",
              "  "
            ],
            "application/vnd.google.colaboratory.intrinsic+json": {
              "type": "dataframe",
              "summary": "{\n  \"name\": \"score_df\",\n  \"rows\": 918,\n  \"fields\": [\n    {\n      \"column\": \"param_criterion\",\n      \"properties\": {\n        \"dtype\": \"category\",\n        \"num_unique_values\": 2,\n        \"samples\": [\n          \"gini\",\n          \"entropy\"\n        ],\n        \"semantic_type\": \"\",\n        \"description\": \"\"\n      }\n    },\n    {\n      \"column\": \"param_max_depth\",\n      \"properties\": {\n        \"dtype\": \"date\",\n        \"min\": 1,\n        \"max\": 101,\n        \"num_unique_values\": 51,\n        \"samples\": [\n          79,\n          83\n        ],\n        \"semantic_type\": \"\",\n        \"description\": \"\"\n      }\n    },\n    {\n      \"column\": \"param_min_samples_leaf\",\n      \"properties\": {\n        \"dtype\": \"date\",\n        \"min\": 1,\n        \"max\": 25,\n        \"num_unique_values\": 9,\n        \"samples\": [\n          7,\n          13\n        ],\n        \"semantic_type\": \"\",\n        \"description\": \"\"\n      }\n    },\n    {\n      \"column\": \"mean_test_score\",\n      \"properties\": {\n        \"dtype\": \"number\",\n        \"std\": 0.011211663678768692,\n        \"min\": 0.7677161313780859,\n        \"max\": 0.8084657238918974,\n        \"num_unique_values\": 101,\n        \"samples\": [\n          0.7769409427806581,\n          0.7911658102279528\n        ],\n        \"semantic_type\": \"\",\n        \"description\": \"\"\n      }\n    },\n    {\n      \"column\": \"std_test_score\",\n      \"properties\": {\n        \"dtype\": \"number\",\n        \"std\": 0.004647539887964097,\n        \"min\": 7.069388522906728e-07,\n        \"max\": 0.01822986425858608,\n        \"num_unique_values\": 101,\n        \"samples\": [\n          0.004836335059611896,\n          0.005494893409494994\n        ],\n        \"semantic_type\": \"\",\n        \"description\": \"\"\n      }\n    },\n    {\n      \"column\": \"rank_test_score\",\n      \"properties\": {\n        \"dtype\": \"int32\",\n        \"num_unique_values\": 101,\n        \"samples\": [\n          741,\n          627\n        ],\n        \"semantic_type\": \"\",\n        \"description\": \"\"\n      }\n    }\n  ]\n}"
            }
          },
          "metadata": {},
          "execution_count": 98
        }
      ],
      "source": [
        "score_df = pd.DataFrame(dtc_grid_search.cv_results_)\n",
        "\n",
        "score_df.loc[:, [\"param_criterion\", \"param_max_depth\", \"param_min_samples_leaf\", \"mean_test_score\", \"std_test_score\", \"rank_test_score\"]].sort_values(by=\"rank_test_score\")"
      ]
    },
    {
      "cell_type": "markdown",
      "metadata": {
        "id": "GX5f9tQwc4ku"
      },
      "source": [
        "##Best model"
      ]
    },
    {
      "cell_type": "code",
      "execution_count": 99,
      "metadata": {
        "colab": {
          "base_uri": "https://localhost:8080/"
        },
        "id": "OieTT_hfsaMU",
        "outputId": "b586a58d-d78a-48b8-ce7f-501c3275f12f"
      },
      "outputs": [
        {
          "output_type": "execute_result",
          "data": {
            "text/plain": [
              "{'ccp_alpha': 0.0,\n",
              " 'class_weight': None,\n",
              " 'criterion': 'entropy',\n",
              " 'max_depth': 7,\n",
              " 'max_features': None,\n",
              " 'max_leaf_nodes': None,\n",
              " 'min_impurity_decrease': 0.0,\n",
              " 'min_samples_leaf': 25,\n",
              " 'min_samples_split': 2,\n",
              " 'min_weight_fraction_leaf': 0.0,\n",
              " 'random_state': 42,\n",
              " 'splitter': 'best'}"
            ]
          },
          "metadata": {},
          "execution_count": 99
        }
      ],
      "source": [
        "dtc_best = dtc_grid_search.best_estimator_\n",
        "dtc_best.get_params()"
      ]
    },
    {
      "cell_type": "code",
      "execution_count": 100,
      "metadata": {
        "colab": {
          "base_uri": "https://localhost:8080/",
          "height": 493
        },
        "id": "tVP7u1B7zJIr",
        "outputId": "05a7fc7d-542e-4af3-816c-8b6c9981a8b6"
      },
      "outputs": [
        {
          "output_type": "stream",
          "name": "stdout",
          "text": [
            "[[357  61]\n",
            " [ 97 370]]\n"
          ]
        },
        {
          "output_type": "display_data",
          "data": {
            "text/plain": [
              "<Figure size 640x480 with 2 Axes>"
            ],
            "image/png": "[encoded data removed]"
          },
          "metadata": {}
        }
      ],
      "source": [
        "disp = ConfusionMatrixDisplay.from_estimator(\n",
        "    dtc_best,\n",
        "    X_test,\n",
        "    y_test,\n",
        "    cmap = plt.cm.Blues\n",
        ")\n",
        "\n",
        "print(disp.confusion_matrix)\n",
        "plt.grid(False)\n",
        "plt.show()"
      ]
    },
    {
      "cell_type": "code",
      "execution_count": 101,
      "metadata": {
        "colab": {
          "base_uri": "https://localhost:8080/"
        },
        "id": "YPZFQB1gttjn",
        "outputId": "0903897c-212c-4e82-9a17-3626759e668f"
      },
      "outputs": [
        {
          "output_type": "stream",
          "name": "stdout",
          "text": [
            "              precision    recall  f1-score   support\n",
            "\n",
            "    Graduate       0.79      0.85      0.82       418\n",
            "Not graduate       0.86      0.79      0.82       467\n",
            "\n",
            "    accuracy                           0.82       885\n",
            "   macro avg       0.82      0.82      0.82       885\n",
            "weighted avg       0.82      0.82      0.82       885\n",
            "\n"
          ]
        }
      ],
      "source": [
        "y_test_pred = dtc_best.predict(X_test)\n",
        "\n",
        "print(classification_report(y_test, y_test_pred))"
      ]
    },
    {
      "cell_type": "markdown",
      "metadata": {
        "id": "u19f1tlP6s54"
      },
      "source": [
        "#Random Forest Classifier"
      ]
    },
    {
      "cell_type": "markdown",
      "metadata": {
        "id": "DTKUuExec908"
      },
      "source": [
        "##Default model"
      ]
    },
    {
      "cell_type": "code",
      "execution_count": 102,
      "metadata": {
        "colab": {
          "base_uri": "https://localhost:8080/",
          "height": 75
        },
        "id": "Hv_nTMPE9gZG",
        "outputId": "90e5e54c-8ac9-483b-db03-e9a4adb34a1b"
      },
      "outputs": [
        {
          "output_type": "execute_result",
          "data": {
            "text/plain": [
              "RandomForestClassifier(random_state=42)"
            ],
            "text/html": [
              "<style>#sk-container-id-6 {color: black;background-color: white;}#sk-container-id-6 pre{padding: 0;}#sk-container-id-6 div.sk-toggleable {background-color: white;}#sk-container-id-6 label.sk-toggleable__label {cursor: pointer;display: block;width: 100%;margin-bottom: 0;padding: 0.3em;box-sizing: border-box;text-align: center;}#sk-container-id-6 label.sk-toggleable__label-arrow:before {content: \"▸\";float: left;margin-right: 0.25em;color: #696969;}#sk-container-id-6 label.sk-toggleable__label-arrow:hover:before {color: black;}#sk-container-id-6 div.sk-estimator:hover label.sk-toggleable__label-arrow:before {color: black;}#sk-container-id-6 div.sk-toggleable__content {max-height: 0;max-width: 0;overflow: hidden;text-align: left;background-color: #f0f8ff;}#sk-container-id-6 div.sk-toggleable__content pre {margin: 0.2em;color: black;border-radius: 0.25em;background-color: #f0f8ff;}#sk-container-id-6 input.sk-toggleable__control:checked~div.sk-toggleable__content {max-height: 200px;max-width: 100%;overflow: auto;}#sk-container-id-6 input.sk-toggleable__control:checked~label.sk-toggleable__label-arrow:before {content: \"▾\";}#sk-container-id-6 div.sk-estimator input.sk-toggleable__control:checked~label.sk-toggleable__label {background-color: #d4ebff;}#sk-container-id-6 div.sk-label input.sk-toggleable__control:checked~label.sk-toggleable__label {background-color: #d4ebff;}#sk-container-id-6 input.sk-hidden--visually {border: 0;clip: rect(1px 1px 1px 1px);clip: rect(1px, 1px, 1px, 1px);height: 1px;margin: -1px;overflow: hidden;padding: 0;position: absolute;width: 1px;}#sk-container-id-6 div.sk-estimator {font-family: monospace;background-color: #f0f8ff;border: 1px dotted black;border-radius: 0.25em;box-sizing: border-box;margin-bottom: 0.5em;}#sk-container-id-6 div.sk-estimator:hover {background-color: #d4ebff;}#sk-container-id-6 div.sk-parallel-item::after {content: \"\";width: 100%;border-bottom: 1px solid gray;flex-grow: 1;}#sk-container-id-6 div.sk-label:hover label.sk-toggleable__label {background-color: #d4ebff;}#sk-container-id-6 div.sk-serial::before {content: \"\";position: absolute;border-left: 1px solid gray;box-sizing: border-box;top: 0;bottom: 0;left: 50%;z-index: 0;}#sk-container-id-6 div.sk-serial {display: flex;flex-direction: column;align-items: center;background-color: white;padding-right: 0.2em;padding-left: 0.2em;position: relative;}#sk-container-id-6 div.sk-item {position: relative;z-index: 1;}#sk-container-id-6 div.sk-parallel {display: flex;align-items: stretch;justify-content: center;background-color: white;position: relative;}#sk-container-id-6 div.sk-item::before, #sk-container-id-6 div.sk-parallel-item::before {content: \"\";position: absolute;border-left: 1px solid gray;box-sizing: border-box;top: 0;bottom: 0;left: 50%;z-index: -1;}#sk-container-id-6 div.sk-parallel-item {display: flex;flex-direction: column;z-index: 1;position: relative;background-color: white;}#sk-container-id-6 div.sk-parallel-item:first-child::after {align-self: flex-end;width: 50%;}#sk-container-id-6 div.sk-parallel-item:last-child::after {align-self: flex-start;width: 50%;}#sk-container-id-6 div.sk-parallel-item:only-child::after {width: 0;}#sk-container-id-6 div.sk-dashed-wrapped {border: 1px dashed gray;margin: 0 0.4em 0.5em 0.4em;box-sizing: border-box;padding-bottom: 0.4em;background-color: white;}#sk-container-id-6 div.sk-label label {font-family: monospace;font-weight: bold;display: inline-block;line-height: 1.2em;}#sk-container-id-6 div.sk-label-container {text-align: center;}#sk-container-id-6 div.sk-container {/* jupyter's `normalize.less` sets `[hidden] { display: none; }` but bootstrap.min.css set `[hidden] { display: none !important; }` so we also need the `!important` here to be able to override the default hidden behavior on the sphinx rendered scikit-learn.org. See: https://github.com/scikit-learn/scikit-learn/issues/21755 */display: inline-block !important;position: relative;}#sk-container-id-6 div.sk-text-repr-fallback {display: none;}</style><div id=\"sk-container-id-6\" class=\"sk-top-container\"><div class=\"sk-text-repr-fallback\"><pre>RandomForestClassifier(random_state=42)</pre><b>In a Jupyter environment, please rerun this cell to show the HTML representation or trust the notebook. <br />On GitHub, the HTML representation is unable to render, please try loading this page with nbviewer.org.</b></div><div class=\"sk-container\" hidden><div class=\"sk-item\"><div class=\"sk-estimator sk-toggleable\"><input class=\"sk-toggleable__control sk-hidden--visually\" id=\"sk-estimator-id-10\" type=\"checkbox\" checked><label for=\"sk-estimator-id-10\" class=\"sk-toggleable__label sk-toggleable__label-arrow\">RandomForestClassifier</label><div class=\"sk-toggleable__content\"><pre>RandomForestClassifier(random_state=42)</pre></div></div></div></div></div>"
            ]
          },
          "metadata": {},
          "execution_count": 102
        }
      ],
      "source": [
        "rfc = RandomForestClassifier(random_state=42)\n",
        "\n",
        "rfc.fit(X_train, y_train.values.ravel())"
      ]
    },
    {
      "cell_type": "code",
      "execution_count": 103,
      "metadata": {
        "colab": {
          "base_uri": "https://localhost:8080/"
        },
        "id": "B6GI30hW9-AR",
        "outputId": "b6902899-9393-41db-b1af-e6258365891a"
      },
      "outputs": [
        {
          "output_type": "stream",
          "name": "stdout",
          "text": [
            "              precision    recall  f1-score   support\n",
            "\n",
            "    Graduate       0.79      0.89      0.84       418\n",
            "Not graduate       0.89      0.79      0.84       467\n",
            "\n",
            "    accuracy                           0.84       885\n",
            "   macro avg       0.84      0.84      0.84       885\n",
            "weighted avg       0.84      0.84      0.84       885\n",
            "\n"
          ]
        }
      ],
      "source": [
        "y_test_pred = rfc.predict(X_test)\n",
        "\n",
        "print(classification_report(y_test, y_test_pred))"
      ]
    },
    {
      "cell_type": "code",
      "execution_count": 104,
      "metadata": {
        "colab": {
          "base_uri": "https://localhost:8080/"
        },
        "id": "7co_Me0WYaLh",
        "outputId": "097ada30-1652-4f04-a080-099e29cb22af"
      },
      "outputs": [
        {
          "output_type": "execute_result",
          "data": {
            "text/plain": [
              "{'bootstrap': True,\n",
              " 'ccp_alpha': 0.0,\n",
              " 'class_weight': None,\n",
              " 'criterion': 'gini',\n",
              " 'max_depth': None,\n",
              " 'max_features': 'sqrt',\n",
              " 'max_leaf_nodes': None,\n",
              " 'max_samples': None,\n",
              " 'min_impurity_decrease': 0.0,\n",
              " 'min_samples_leaf': 1,\n",
              " 'min_samples_split': 2,\n",
              " 'min_weight_fraction_leaf': 0.0,\n",
              " 'n_estimators': 100,\n",
              " 'n_jobs': None,\n",
              " 'oob_score': False,\n",
              " 'random_state': 42,\n",
              " 'verbose': 0,\n",
              " 'warm_start': False}"
            ]
          },
          "metadata": {},
          "execution_count": 104
        }
      ],
      "source": [
        "rfc.get_params()"
      ]
    },
    {
      "cell_type": "markdown",
      "metadata": {
        "id": "Fe2c_ooX-CZ-"
      },
      "source": [
        "##(Hyper)Parameters tuning"
      ]
    },
    {
      "cell_type": "code",
      "execution_count": 105,
      "metadata": {
        "id": "2UY9QuXB70gb"
      },
      "outputs": [],
      "source": [
        "rfc_params = {\n",
        "    'criterion': ['gini', 'entropy', 'log_loss'],\n",
        "    'max_depth': [None, 10, 20, 30],\n",
        "    'min_samples_leaf': [1, 2, 4, 8],\n",
        "    'n_estimators': [80, 90, 100, 110, 125],\n",
        "}"
      ]
    },
    {
      "cell_type": "code",
      "execution_count": 106,
      "metadata": {
        "id": "SQryJEqcxcQw"
      },
      "outputs": [],
      "source": [
        "rfc_grid_search = GridSearchCV(\n",
        "    estimator = RandomForestClassifier(random_state=42),\n",
        "    param_grid = rfc_params,\n",
        "    cv = 5,\n",
        "    n_jobs = 1,\n",
        "    scoring = scorer\n",
        ")"
      ]
    },
    {
      "cell_type": "code",
      "execution_count": null,
      "metadata": {
        "id": "ZtYAbYEx8a1k"
      },
      "outputs": [],
      "source": [
        "%%time\n",
        "\n",
        "rfc_grid_search.fit(X_train, y_train.values.ravel())"
      ]
    },
    {
      "cell_type": "code",
      "execution_count": null,
      "metadata": {
        "id": "bD94MsN4876s"
      },
      "outputs": [],
      "source": [
        "score_df = pd.DataFrame(rfc_grid_search.cv_results_)\n",
        "\n",
        "score_df.sort_values(by=\"rank_test_score\").head()"
      ]
    },
    {
      "cell_type": "markdown",
      "metadata": {
        "id": "oRHriXfkdF1v"
      },
      "source": [
        "##Best model"
      ]
    },
    {
      "cell_type": "code",
      "execution_count": null,
      "metadata": {
        "id": "Kv0B2p4o-_KU"
      },
      "outputs": [],
      "source": [
        "rfc_best = rfc_grid_search.best_estimator_\n",
        "rfc_best.get_params()"
      ]
    },
    {
      "cell_type": "code",
      "execution_count": null,
      "metadata": {
        "id": "5_foo4ZAyDnH"
      },
      "outputs": [],
      "source": [
        "disp = ConfusionMatrixDisplay.from_estimator(\n",
        "    rfc_best,\n",
        "    X_test,\n",
        "    y_test,\n",
        "    cmap = plt.cm.Blues\n",
        ")\n",
        "\n",
        "print(disp.confusion_matrix)\n",
        "plt.grid(False)\n",
        "plt.show()"
      ]
    },
    {
      "cell_type": "code",
      "execution_count": null,
      "metadata": {
        "id": "Yx7a3bCa_Mmf"
      },
      "outputs": [],
      "source": [
        "y_test_pred = rfc_best.predict(X_test)\n",
        "\n",
        "print(classification_report(y_test, y_test_pred))"
      ]
    },
    {
      "cell_type": "markdown",
      "metadata": {
        "id": "ZVapn8CGpagy"
      },
      "source": [
        "##Feature importance"
      ]
    },
    {
      "cell_type": "code",
      "execution_count": null,
      "metadata": {
        "id": "5d9p-SuypeSi"
      },
      "outputs": [],
      "source": [
        "forest_importances = pd.Series(rfc_best.feature_importances_, index = column_transformer.get_feature_names_out())\n",
        "\n",
        "fig, ax = plt.subplots(figsize = (15, 12))\n",
        "forest_importances.sort_values().plot.barh(ax=ax)\n",
        "ax.set_title(\"Feature importances using Random Forest\")\n",
        "ax.set_ylabel(\"Mean decrease in impurity\")\n",
        "fig.tight_layout()"
      ]
    },
    {
      "cell_type": "markdown",
      "source": [
        "#Support Vector Classifier"
      ],
      "metadata": {
        "id": "aZTOBi4my9po"
      }
    },
    {
      "cell_type": "code",
      "source": [
        "# Scaling perché SVC usa la distanza tra punti e le feature con scale diverse possono distorcere le distanze\n",
        "# La funzione RBF all'interno del kernel mi darabbe errore\n",
        "scaler = StandardScaler()\n",
        "X_train_scaled = scaler.fit_transform(X_train)\n",
        "X_test_scaled = scaler.transform(X_test)\n",
        "\n",
        "#Analisi delle componenti principali perché le variabili sono troppe e SVC mi dà errore\n",
        "pca = PCA(n_components=0.95)  # Riporta le componenti rappresentati il 95% della varianza\n",
        "X_train_pca = pca.fit_transform(X_train_scaled)\n",
        "X_test_pca = pca.transform(X_test_scaled)\n"
      ],
      "metadata": {
        "id": "5Iv511GfPUNH"
      },
      "execution_count": null,
      "outputs": []
    },
    {
      "cell_type": "markdown",
      "source": [
        "####Default model"
      ],
      "metadata": {
        "id": "M9HGDSiGho_U"
      }
    },
    {
      "cell_type": "code",
      "source": [
        "# Creazione e addestramento del modello SVM di base\n",
        "svm = SVC(random_state=42)\n",
        "svm.fit(X_train_pca, y_train.values.ravel())\n",
        "\n"
      ],
      "metadata": {
        "id": "MWWAcKXlysU7"
      },
      "execution_count": null,
      "outputs": []
    },
    {
      "cell_type": "code",
      "source": [
        "y_test_pred = svm.predict(X_test_pca)\n",
        "print(\"Risultati\")\n",
        "print(classification_report(y_test, y_test_pred))"
      ],
      "metadata": {
        "id": "Y7mqfpSah3Wz"
      },
      "execution_count": null,
      "outputs": []
    },
    {
      "cell_type": "code",
      "source": [
        "svm.get_params()"
      ],
      "metadata": {
        "id": "jqfzAq95i9ib"
      },
      "execution_count": null,
      "outputs": []
    },
    {
      "cell_type": "markdown",
      "source": [
        "####(Hyper)Parameters tuning"
      ],
      "metadata": {
        "id": "v8JxGnumhzxB"
      }
    },
    {
      "cell_type": "code",
      "source": [
        "# Definizione dei parametri per la ricerca randomizzata\n",
        "svm_params = {\n",
        "    'C': [0.001, 0.01, 0.1, 1, 10],\n",
        "    'kernel': ['rbf', 'poly', 'sigmoid'],\n",
        "    'gamma': ['scale', 'auto',  0.0001, 0.001, 0.1, 1]\n",
        "}"
      ],
      "metadata": {
        "id": "DjNyzYQWysK1"
      },
      "execution_count": null,
      "outputs": []
    },
    {
      "cell_type": "code",
      "source": [
        "# Creazione dell'oggetto RandomizedSearchCV\n",
        "svm_random_search = RandomizedSearchCV(\n",
        "    estimator=SVC(random_state=42),\n",
        "    param_distributions=svm_params,\n",
        "    n_iter=25,\n",
        "    cv=3,\n",
        "    n_jobs=-1,\n",
        "    scoring=scorer,\n",
        "    )"
      ],
      "metadata": {
        "id": "QeDTQV-Uyr_E"
      },
      "execution_count": null,
      "outputs": []
    },
    {
      "cell_type": "code",
      "source": [
        "%%time\n",
        "svm_random_search.fit(X_train_pca, y_train.values.ravel())"
      ],
      "metadata": {
        "id": "0RRd7c8MPa7i"
      },
      "execution_count": null,
      "outputs": []
    },
    {
      "cell_type": "code",
      "source": [
        "score_df = pd.DataFrame(svm_random_search.cv_results_)\n",
        "print(\"Risultati\")\n",
        "print(score_df.sort_values(by=\"rank_test_score\").head())"
      ],
      "metadata": {
        "id": "Np69b5GyPYfD"
      },
      "execution_count": null,
      "outputs": []
    },
    {
      "cell_type": "markdown",
      "source": [
        "####Best Model"
      ],
      "metadata": {
        "id": "qPbr-5tAky9Q"
      }
    },
    {
      "cell_type": "code",
      "source": [
        "# Come per i precedenti controllo il migliore dei modelli\n",
        "svm_best = svm_random_search.best_estimator_\n",
        "print(\"Parametri\")\n",
        "print(svm_best.get_params())\n"
      ],
      "metadata": {
        "id": "NNhFJGp539Yo"
      },
      "execution_count": null,
      "outputs": []
    },
    {
      "cell_type": "code",
      "source": [
        "# Creazione e visualizzazione della matrice di confusione\n",
        "disp = ConfusionMatrixDisplay.from_estimator(\n",
        "    svm_best,\n",
        "    X_test_pca,\n",
        "    y_test,\n",
        "    cmap=plt.cm.Blues)\n",
        "\n",
        "print(\"Matrice\")\n",
        "print(disp.confusion_matrix)\n",
        "plt.grid(False)\n",
        "plt.show()"
      ],
      "metadata": {
        "id": "3zV_al0Szb6C"
      },
      "execution_count": null,
      "outputs": []
    },
    {
      "cell_type": "code",
      "source": [
        "# Valutazione finale del modello\n",
        "y_test_pred = svm_best.predict(X_test_pca)\n",
        "print(\"Risultati_Best_Model\")\n",
        "print(classification_report(y_test, y_test_pred))"
      ],
      "metadata": {
        "id": "8fK3mO9tzbsq"
      },
      "execution_count": null,
      "outputs": []
    },
    {
      "cell_type": "markdown",
      "source": [
        "#Knn"
      ],
      "metadata": {
        "id": "dzTZAiy_Xiup"
      }
    },
    {
      "cell_type": "markdown",
      "source": [
        "##Default Model"
      ],
      "metadata": {
        "id": "d8ie_o2VjIiI"
      }
    },
    {
      "cell_type": "code",
      "source": [
        "# Creazione e addestramento del modello KNN di base\n",
        "knn = KNeighborsClassifier()\n",
        "knn.fit(X_train, y_train.values.ravel())"
      ],
      "metadata": {
        "id": "Lo4An1Me0f0Y"
      },
      "execution_count": null,
      "outputs": []
    },
    {
      "cell_type": "code",
      "source": [
        "y_test_pred = knn.predict(X_test)\n",
        "\n",
        "print(\"Modello di partenza:\")\n",
        "print(classification_report(y_test, y_test_pred))"
      ],
      "metadata": {
        "id": "01DedldR0kBn"
      },
      "execution_count": null,
      "outputs": []
    },
    {
      "cell_type": "code",
      "source": [
        "knn.get_params()"
      ],
      "metadata": {
        "id": "gYi35euIjM0i"
      },
      "execution_count": null,
      "outputs": []
    },
    {
      "cell_type": "markdown",
      "source": [
        "##(Hyper)Parameters tuning"
      ],
      "metadata": {
        "id": "3c3Jsdsqk-Rj"
      }
    },
    {
      "cell_type": "code",
      "source": [
        "# Parametri per il tuning\n",
        "knn_params = {\n",
        "    'n_neighbors': [3, 5, 7, 9, 11],\n",
        "    'weights': ['uniform', 'distance'],\n",
        "    'metric': ['euclidean', 'manhattan', 'chebyshev', 'minkowski'],\n",
        "    'p': [1, 2, 3]\n",
        "}"
      ],
      "metadata": {
        "id": "YSGluBfy0Zw6"
      },
      "execution_count": null,
      "outputs": []
    },
    {
      "cell_type": "code",
      "source": [
        "knn_grid_search = GridSearchCV(\n",
        "    estimator=KNeighborsClassifier(),\n",
        "    param_grid=knn_params,\n",
        "    cv=5,\n",
        "    n_jobs=-1,\n",
        "    scoring=scorer\n",
        ")\n"
      ],
      "metadata": {
        "id": "ayeJu_AQ0daz"
      },
      "execution_count": null,
      "outputs": []
    },
    {
      "cell_type": "code",
      "source": [
        "%%time\n",
        "knn_grid_search.fit(X_train, y_train.values.ravel())"
      ],
      "metadata": {
        "colab": {
          "base_uri": "https://localhost:8080/",
          "height": 153
        },
        "id": "XuerRouJ0LuQ",
        "outputId": "e68c8402-c159-46d1-9f2b-a83d7aa4ab2f"
      },
      "execution_count": 129,
      "outputs": [
        {
          "metadata": {
            "tags": null
          },
          "name": "stdout",
          "output_type": "stream",
          "text": [
            "CPU times: user 1.51 s, sys: 162 ms, total: 1.68 s\n",
            "Wall time: 2min 55s\n"
          ]
        },
        {
          "data": {
            "text/html": [
              "<style>#sk-container-id-11 {color: black;background-color: white;}#sk-container-id-11 pre{padding: 0;}#sk-container-id-11 div.sk-toggleable {background-color: white;}#sk-container-id-11 label.sk-toggleable__label {cursor: pointer;display: block;width: 100%;margin-bottom: 0;padding: 0.3em;box-sizing: border-box;text-align: center;}#sk-container-id-11 label.sk-toggleable__label-arrow:before {content: \"▸\";float: left;margin-right: 0.25em;color: #696969;}#sk-container-id-11 label.sk-toggleable__label-arrow:hover:before {color: black;}#sk-container-id-11 div.sk-estimator:hover label.sk-toggleable__label-arrow:before {color: black;}#sk-container-id-11 div.sk-toggleable__content {max-height: 0;max-width: 0;overflow: hidden;text-align: left;background-color: #f0f8ff;}#sk-container-id-11 div.sk-toggleable__content pre {margin: 0.2em;color: black;border-radius: 0.25em;background-color: #f0f8ff;}#sk-container-id-11 input.sk-toggleable__control:checked~div.sk-toggleable__content {max-height: 200px;max-width: 100%;overflow: auto;}#sk-container-id-11 input.sk-toggleable__control:checked~label.sk-toggleable__label-arrow:before {content: \"▾\";}#sk-container-id-11 div.sk-estimator input.sk-toggleable__control:checked~label.sk-toggleable__label {background-color: #d4ebff;}#sk-container-id-11 div.sk-label input.sk-toggleable__control:checked~label.sk-toggleable__label {background-color: #d4ebff;}#sk-container-id-11 input.sk-hidden--visually {border: 0;clip: rect(1px 1px 1px 1px);clip: rect(1px, 1px, 1px, 1px);height: 1px;margin: -1px;overflow: hidden;padding: 0;position: absolute;width: 1px;}#sk-container-id-11 div.sk-estimator {font-family: monospace;background-color: #f0f8ff;border: 1px dotted black;border-radius: 0.25em;box-sizing: border-box;margin-bottom: 0.5em;}#sk-container-id-11 div.sk-estimator:hover {background-color: #d4ebff;}#sk-container-id-11 div.sk-parallel-item::after {content: \"\";width: 100%;border-bottom: 1px solid gray;flex-grow: 1;}#sk-container-id-11 div.sk-label:hover label.sk-toggleable__label {background-color: #d4ebff;}#sk-container-id-11 div.sk-serial::before {content: \"\";position: absolute;border-left: 1px solid gray;box-sizing: border-box;top: 0;bottom: 0;left: 50%;z-index: 0;}#sk-container-id-11 div.sk-serial {display: flex;flex-direction: column;align-items: center;background-color: white;padding-right: 0.2em;padding-left: 0.2em;position: relative;}#sk-container-id-11 div.sk-item {position: relative;z-index: 1;}#sk-container-id-11 div.sk-parallel {display: flex;align-items: stretch;justify-content: center;background-color: white;position: relative;}#sk-container-id-11 div.sk-item::before, #sk-container-id-11 div.sk-parallel-item::before {content: \"\";position: absolute;border-left: 1px solid gray;box-sizing: border-box;top: 0;bottom: 0;left: 50%;z-index: -1;}#sk-container-id-11 div.sk-parallel-item {display: flex;flex-direction: column;z-index: 1;position: relative;background-color: white;}#sk-container-id-11 div.sk-parallel-item:first-child::after {align-self: flex-end;width: 50%;}#sk-container-id-11 div.sk-parallel-item:last-child::after {align-self: flex-start;width: 50%;}#sk-container-id-11 div.sk-parallel-item:only-child::after {width: 0;}#sk-container-id-11 div.sk-dashed-wrapped {border: 1px dashed gray;margin: 0 0.4em 0.5em 0.4em;box-sizing: border-box;padding-bottom: 0.4em;background-color: white;}#sk-container-id-11 div.sk-label label {font-family: monospace;font-weight: bold;display: inline-block;line-height: 1.2em;}#sk-container-id-11 div.sk-label-container {text-align: center;}#sk-container-id-11 div.sk-container {/* jupyter's `normalize.less` sets `[hidden] { display: none; }` but bootstrap.min.css set `[hidden] { display: none !important; }` so we also need the `!important` here to be able to override the default hidden behavior on the sphinx rendered scikit-learn.org. See: https://github.com/scikit-learn/scikit-learn/issues/21755 */display: inline-block !important;position: relative;}#sk-container-id-11 div.sk-text-repr-fallback {display: none;}</style><div id=\"sk-container-id-11\" class=\"sk-top-container\"><div class=\"sk-text-repr-fallback\"><pre>GridSearchCV(cv=5, estimator=KNeighborsClassifier(), n_jobs=-1,\n",
              "             param_grid={&#x27;metric&#x27;: [&#x27;euclidean&#x27;, &#x27;manhattan&#x27;, &#x27;chebyshev&#x27;,\n",
              "                                    &#x27;minkowski&#x27;],\n",
              "                         &#x27;n_neighbors&#x27;: [3, 5, 7, 9, 11], &#x27;p&#x27;: [1, 2, 3],\n",
              "                         &#x27;weights&#x27;: [&#x27;uniform&#x27;, &#x27;distance&#x27;]},\n",
              "             scoring=make_scorer(f1_score, pos_label=Not graduate))</pre><b>In a Jupyter environment, please rerun this cell to show the HTML representation or trust the notebook. <br />On GitHub, the HTML representation is unable to render, please try loading this page with nbviewer.org.</b></div><div class=\"sk-container\" hidden><div class=\"sk-item sk-dashed-wrapped\"><div class=\"sk-label-container\"><div class=\"sk-label sk-toggleable\"><input class=\"sk-toggleable__control sk-hidden--visually\" id=\"sk-estimator-id-19\" type=\"checkbox\" ><label for=\"sk-estimator-id-19\" class=\"sk-toggleable__label sk-toggleable__label-arrow\">GridSearchCV</label><div class=\"sk-toggleable__content\"><pre>GridSearchCV(cv=5, estimator=KNeighborsClassifier(), n_jobs=-1,\n",
              "             param_grid={&#x27;metric&#x27;: [&#x27;euclidean&#x27;, &#x27;manhattan&#x27;, &#x27;chebyshev&#x27;,\n",
              "                                    &#x27;minkowski&#x27;],\n",
              "                         &#x27;n_neighbors&#x27;: [3, 5, 7, 9, 11], &#x27;p&#x27;: [1, 2, 3],\n",
              "                         &#x27;weights&#x27;: [&#x27;uniform&#x27;, &#x27;distance&#x27;]},\n",
              "             scoring=make_scorer(f1_score, pos_label=Not graduate))</pre></div></div></div><div class=\"sk-parallel\"><div class=\"sk-parallel-item\"><div class=\"sk-item\"><div class=\"sk-label-container\"><div class=\"sk-label sk-toggleable\"><input class=\"sk-toggleable__control sk-hidden--visually\" id=\"sk-estimator-id-20\" type=\"checkbox\" ><label for=\"sk-estimator-id-20\" class=\"sk-toggleable__label sk-toggleable__label-arrow\">estimator: KNeighborsClassifier</label><div class=\"sk-toggleable__content\"><pre>KNeighborsClassifier()</pre></div></div></div><div class=\"sk-serial\"><div class=\"sk-item\"><div class=\"sk-estimator sk-toggleable\"><input class=\"sk-toggleable__control sk-hidden--visually\" id=\"sk-estimator-id-21\" type=\"checkbox\" ><label for=\"sk-estimator-id-21\" class=\"sk-toggleable__label sk-toggleable__label-arrow\">KNeighborsClassifier</label><div class=\"sk-toggleable__content\"><pre>KNeighborsClassifier()</pre></div></div></div></div></div></div></div></div></div></div>"
            ],
            "text/plain": [
              "GridSearchCV(cv=5, estimator=KNeighborsClassifier(), n_jobs=-1,\n",
              "             param_grid={'metric': ['euclidean', 'manhattan', 'chebyshev',\n",
              "                                    'minkowski'],\n",
              "                         'n_neighbors': [3, 5, 7, 9, 11], 'p': [1, 2, 3],\n",
              "                         'weights': ['uniform', 'distance']},\n",
              "             scoring=make_scorer(f1_score, pos_label=Not graduate))"
            ]
          },
          "execution_count": 129,
          "metadata": {},
          "output_type": "execute_result"
        }
      ]
    },
    {
      "cell_type": "code",
      "source": [
        "score_df = pd.DataFrame(knn_grid_search.cv_results_)\n",
        "print(\"Risultati\")\n",
        "print(score_df.sort_values(by=\"rank_test_score\").head())"
      ],
      "metadata": {
        "colab": {
          "base_uri": "https://localhost:8080/"
        },
        "id": "m_dtCOv70XS-",
        "outputId": "8565c36b-09ec-470d-9ac0-1bfaa7aa64d3"
      },
      "execution_count": 130,
      "outputs": [
        {
          "metadata": {
            "tags": null
          },
          "name": "stdout",
          "output_type": "stream",
          "text": [
            "Risultati\n",
            "     mean_fit_time  std_fit_time  mean_score_time  std_score_time  \\\n",
            "59        0.008195      0.003361         0.449952        0.071822   \n",
            "55        0.005361      0.000206         0.315147        0.014759   \n",
            "115       0.005541      0.000170         0.318464        0.010076   \n",
            "57        0.005422      0.000331         0.305123        0.011993   \n",
            "54        0.005320      0.000119         0.349826        0.011540   \n",
            "\n",
            "    param_metric param_n_neighbors param_p param_weights  \\\n",
            "59     manhattan                11       3      distance   \n",
            "55     manhattan                11       1      distance   \n",
            "115    minkowski                11       1      distance   \n",
            "57     manhattan                11       2      distance   \n",
            "54     manhattan                11       1       uniform   \n",
            "\n",
            "                                                params  split0_test_score  \\\n",
            "59   {'metric': 'manhattan', 'n_neighbors': 11, 'p'...           0.758621   \n",
            "55   {'metric': 'manhattan', 'n_neighbors': 11, 'p'...           0.758621   \n",
            "115  {'metric': 'minkowski', 'n_neighbors': 11, 'p'...           0.758621   \n",
            "57   {'metric': 'manhattan', 'n_neighbors': 11, 'p'...           0.758621   \n",
            "54   {'metric': 'manhattan', 'n_neighbors': 11, 'p'...           0.754887   \n",
            "\n",
            "     split1_test_score  split2_test_score  split3_test_score  \\\n",
            "59            0.730949           0.734446           0.725373   \n",
            "55            0.730949           0.734446           0.725373   \n",
            "115           0.730949           0.734446           0.725373   \n",
            "57            0.730949           0.734446           0.725373   \n",
            "54            0.727838           0.734446           0.727273   \n",
            "\n",
            "     split4_test_score  mean_test_score  std_test_score  rank_test_score  \n",
            "59            0.745455         0.738969        0.011814                1  \n",
            "55            0.745455         0.738969        0.011814                1  \n",
            "115           0.745455         0.738969        0.011814                1  \n",
            "57            0.745455         0.738969        0.011814                1  \n",
            "54            0.748115         0.738512        0.011110                5  \n"
          ]
        }
      ]
    },
    {
      "cell_type": "markdown",
      "source": [
        "##Best Model"
      ],
      "metadata": {
        "id": "2nViMJ8rlGBf"
      }
    },
    {
      "cell_type": "code",
      "source": [
        "knn_best = knn_grid_search.best_estimator_\n",
        "print(\"Parametri Tuning\")\n",
        "print(knn_best.get_params())"
      ],
      "metadata": {
        "colab": {
          "base_uri": "https://localhost:8080/"
        },
        "id": "jwqJCx0n02h2",
        "outputId": "49c6570e-cf0d-491b-d046-782a4d55849a"
      },
      "execution_count": 131,
      "outputs": [
        {
          "metadata": {
            "tags": null
          },
          "name": "stdout",
          "output_type": "stream",
          "text": [
            "Parametri Tuning\n",
            "{'algorithm': 'auto', 'leaf_size': 30, 'metric': 'manhattan', 'metric_params': None, 'n_jobs': None, 'n_neighbors': 11, 'p': 1, 'weights': 'distance'}\n"
          ]
        }
      ]
    },
    {
      "cell_type": "code",
      "source": [
        "# Plot Matrice di confusione\n",
        "disp = ConfusionMatrixDisplay.from_estimator(\n",
        "    knn_best,\n",
        "    X_test,\n",
        "    y_test,\n",
        "    cmap=plt.cm.Blues\n",
        ")\n",
        "print(\"\\nMatrice di confusione:\")\n",
        "print(disp.confusion_matrix)\n",
        "plt.grid(False)\n",
        "plt.show()\n"
      ],
      "metadata": {
        "colab": {
          "base_uri": "https://localhost:8080/",
          "height": 527
        },
        "id": "zjmr3A8t052R",
        "outputId": "cb642336-ecc6-4bff-91b6-a4c85d55a72c"
      },
      "execution_count": 132,
      "outputs": [
        {
          "metadata": {
            "tags": null
          },
          "name": "stdout",
          "output_type": "stream",
          "text": [
            "\n",
            "Matrice di confusione:\n",
            "[[344  74]\n",
            " [152 315]]\n"
          ]
        },
        {
          "data": {
            "image/png": "[encoded data removed]",
            "text/plain": [
              "<Figure size 640x480 with 2 Axes>"
            ]
          },
          "metadata": {},
          "output_type": "display_data"
        }
      ]
    },
    {
      "cell_type": "code",
      "source": [
        "# Valutazione del modello\n",
        "y_test_pred = knn_best.predict(X_test)\n",
        "print(\"\\nRisultati del miglior modello:\")\n",
        "print(classification_report(y_test, y_test_pred))"
      ],
      "metadata": {
        "colab": {
          "base_uri": "https://localhost:8080/"
        },
        "id": "n60uN77_07gf",
        "outputId": "1164473a-e191-4a15-8706-78705c2597cf"
      },
      "execution_count": 133,
      "outputs": [
        {
          "metadata": {
            "tags": null
          },
          "name": "stdout",
          "output_type": "stream",
          "text": [
            "\n",
            "Risultati del miglior modello:\n",
            "              precision    recall  f1-score   support\n",
            "\n",
            "    Graduate       0.69      0.82      0.75       418\n",
            "Not graduate       0.81      0.67      0.74       467\n",
            "\n",
            "    accuracy                           0.74       885\n",
            "   macro avg       0.75      0.75      0.74       885\n",
            "weighted avg       0.75      0.74      0.74       885\n",
            "\n"
          ]
        }
      ]
    },
    {
      "cell_type": "markdown",
      "metadata": {
        "id": "Ac-qqODbcbpW"
      },
      "source": [
        "# ROC curve"
      ]
    },
    {
      "cell_type": "code",
      "execution_count": 134,
      "metadata": {
        "colab": {
          "base_uri": "https://localhost:8080/",
          "height": 458
        },
        "id": "opK2bRgasLDk",
        "outputId": "8c16b3bc-76a0-4dd9-c165-f08cd6eb121e"
      },
      "outputs": [
        {
          "data": {
            "image/png": "[encoded data removed]",
            "text/plain": [
              "<Figure size 640x480 with 1 Axes>"
            ]
          },
          "metadata": {},
          "output_type": "display_data"
        }
      ],
      "source": [
        "plt.clf()\n",
        "ax = plt.gca()\n",
        "\n",
        "disp = RocCurveDisplay.from_estimator(dtc_best, X_test, y_test, ax=ax)\n",
        "disp = RocCurveDisplay.from_estimator(rfc_best, X_test, y_test, ax=ax, alpha=0.8)\n",
        "disp = RocCurveDisplay.from_estimator(svm_best, X_test_pca, y_test, ax=ax, alpha=0.8)\n",
        "disp = RocCurveDisplay.from_estimator(knn_best, X_test, y_test, ax=ax, alpha=0.8)\n",
        "plt.show()"
      ]
    },
    {
      "cell_type": "markdown",
      "metadata": {
        "id": "uu20zexQdUVZ"
      },
      "source": [
        "# K-means"
      ]
    },
    {
      "cell_type": "code",
      "source": [
        "# Preprocessing: standardizzazione dei dati\n",
        "scaler = MinMaxScaler()\n",
        "X_scaled = scaler.fit_transform(X)"
      ],
      "metadata": {
        "id": "JDhxPXcLEGWJ"
      },
      "execution_count": 135,
      "outputs": []
    },
    {
      "cell_type": "code",
      "source": [
        "# Funzione per valutare il clustering\n",
        "\n",
        "def evaluate_kmeans(kmeans, X):\n",
        "    labels = kmeans.labels_\n",
        "    silhouette_score = silhouette_score(X, labels)\n",
        "    return silhouette_score"
      ],
      "metadata": {
        "id": "YqhpaonAswGe"
      },
      "execution_count": 136,
      "outputs": []
    },
    {
      "cell_type": "code",
      "source": [
        "silhouette_scores = []\n",
        "inertias = []  # Per l'Elbow Method\n",
        "ari_scores = [] # Per indice ARI\n",
        "\n",
        "for clusters in range(2, 7):\n",
        "    kmeans = KMeans(n_clusters=clusters, random_state=42, n_init='auto')\n",
        "    kmeans.fit(X_scaled)\n",
        "\n",
        "    silhouette = silhouette_score(X_scaled, kmeans.labels_)\n",
        "    silhouette_scores.append(silhouette)\n",
        "    print('Silhouette:', silhouette)\n",
        "\n",
        "    inertias.append(kmeans.inertia_)\n",
        "\n",
        "    y = y.squeeze()\n",
        "\n",
        "    ari = adjusted_rand_score(y, kmeans.labels_)\n",
        "    ari_scores.append(ari)\n",
        "    print('Ari:',ari)"
      ],
      "metadata": {
        "colab": {
          "base_uri": "https://localhost:8080/"
        },
        "id": "2WFwbGYPoy77",
        "outputId": "f30fda38-a39f-4546-b9ff-deed5c16fc23"
      },
      "execution_count": 139,
      "outputs": [
        {
          "output_type": "stream",
          "name": "stdout",
          "text": [
            "Silhouette: 0.1239012819375931\n",
            "Ari: 0.042486109675345426\n",
            "Silhouette: 0.1191779992007721\n",
            "Ari: 0.05752914237487247\n",
            "Silhouette: 0.10442381161883768\n",
            "Ari: 0.059301249140028545\n",
            "Silhouette: 0.10313236706785892\n",
            "Ari: 0.05289187075700729\n",
            "Silhouette: 0.09689786030230815\n",
            "Ari: 0.04104340132470897\n"
          ]
        }
      ]
    },
    {
      "cell_type": "code",
      "source": [
        "plt.figure(figsize=(15, 5))\n",
        "# Plot Silhouette Score\n",
        "plt.subplot(1, 3, 1)\n",
        "plt.plot(range(2, 7), silhouette_scores, marker='o')\n",
        "plt.title('Silhouette Score')\n",
        "plt.xlabel('Numero di cluster')\n",
        "plt.ylabel('Silhouette Score')\n",
        "\n",
        "# Plot Elbow Method\n",
        "plt.subplot(1, 3, 2)\n",
        "plt.plot(range(2, 7), inertias, marker='o')\n",
        "plt.title('Elbow Method')\n",
        "plt.xlabel('Numero di cluster')\n",
        "plt.ylabel('Inertia')\n",
        "\n",
        "# Plot per l'Adjusted Rand Index (ARI)\n",
        "plt.subplot(1, 3, 3)\n",
        "plt.plot(range(2, 7), ari_scores, marker='o')\n",
        "plt.title('Adjusted Rand Index (ARI)')\n",
        "plt.xlabel('Numero di Cluster')\n",
        "plt.ylabel('ARI Score')\n",
        "\n",
        "\n",
        "plt.tight_layout()\n",
        "plt.show()"
      ],
      "metadata": {
        "id": "gMxDPW5dKUNd"
      },
      "execution_count": null,
      "outputs": []
    },
    {
      "cell_type": "code",
      "source": [
        "# K-means con 2 cluster\n",
        "kmeans_best = KMeans(n_clusters=4, random_state=42,n_init='auto')\n",
        "kmeans_best.fit(X_scaled)\n"
      ],
      "metadata": {
        "id": "9sozk2k55kyv",
        "colab": {
          "base_uri": "https://localhost:8080/",
          "height": 75
        },
        "outputId": "689bc9e7-9d63-4645-b096-06cec5405211"
      },
      "execution_count": 140,
      "outputs": [
        {
          "output_type": "execute_result",
          "data": {
            "text/plain": [
              "KMeans(n_clusters=4, n_init='auto', random_state=42)"
            ],
            "text/html": [
              "<style>#sk-container-id-12 {color: black;background-color: white;}#sk-container-id-12 pre{padding: 0;}#sk-container-id-12 div.sk-toggleable {background-color: white;}#sk-container-id-12 label.sk-toggleable__label {cursor: pointer;display: block;width: 100%;margin-bottom: 0;padding: 0.3em;box-sizing: border-box;text-align: center;}#sk-container-id-12 label.sk-toggleable__label-arrow:before {content: \"▸\";float: left;margin-right: 0.25em;color: #696969;}#sk-container-id-12 label.sk-toggleable__label-arrow:hover:before {color: black;}#sk-container-id-12 div.sk-estimator:hover label.sk-toggleable__label-arrow:before {color: black;}#sk-container-id-12 div.sk-toggleable__content {max-height: 0;max-width: 0;overflow: hidden;text-align: left;background-color: #f0f8ff;}#sk-container-id-12 div.sk-toggleable__content pre {margin: 0.2em;color: black;border-radius: 0.25em;background-color: #f0f8ff;}#sk-container-id-12 input.sk-toggleable__control:checked~div.sk-toggleable__content {max-height: 200px;max-width: 100%;overflow: auto;}#sk-container-id-12 input.sk-toggleable__control:checked~label.sk-toggleable__label-arrow:before {content: \"▾\";}#sk-container-id-12 div.sk-estimator input.sk-toggleable__control:checked~label.sk-toggleable__label {background-color: #d4ebff;}#sk-container-id-12 div.sk-label input.sk-toggleable__control:checked~label.sk-toggleable__label {background-color: #d4ebff;}#sk-container-id-12 input.sk-hidden--visually {border: 0;clip: rect(1px 1px 1px 1px);clip: rect(1px, 1px, 1px, 1px);height: 1px;margin: -1px;overflow: hidden;padding: 0;position: absolute;width: 1px;}#sk-container-id-12 div.sk-estimator {font-family: monospace;background-color: #f0f8ff;border: 1px dotted black;border-radius: 0.25em;box-sizing: border-box;margin-bottom: 0.5em;}#sk-container-id-12 div.sk-estimator:hover {background-color: #d4ebff;}#sk-container-id-12 div.sk-parallel-item::after {content: \"\";width: 100%;border-bottom: 1px solid gray;flex-grow: 1;}#sk-container-id-12 div.sk-label:hover label.sk-toggleable__label {background-color: #d4ebff;}#sk-container-id-12 div.sk-serial::before {content: \"\";position: absolute;border-left: 1px solid gray;box-sizing: border-box;top: 0;bottom: 0;left: 50%;z-index: 0;}#sk-container-id-12 div.sk-serial {display: flex;flex-direction: column;align-items: center;background-color: white;padding-right: 0.2em;padding-left: 0.2em;position: relative;}#sk-container-id-12 div.sk-item {position: relative;z-index: 1;}#sk-container-id-12 div.sk-parallel {display: flex;align-items: stretch;justify-content: center;background-color: white;position: relative;}#sk-container-id-12 div.sk-item::before, #sk-container-id-12 div.sk-parallel-item::before {content: \"\";position: absolute;border-left: 1px solid gray;box-sizing: border-box;top: 0;bottom: 0;left: 50%;z-index: -1;}#sk-container-id-12 div.sk-parallel-item {display: flex;flex-direction: column;z-index: 1;position: relative;background-color: white;}#sk-container-id-12 div.sk-parallel-item:first-child::after {align-self: flex-end;width: 50%;}#sk-container-id-12 div.sk-parallel-item:last-child::after {align-self: flex-start;width: 50%;}#sk-container-id-12 div.sk-parallel-item:only-child::after {width: 0;}#sk-container-id-12 div.sk-dashed-wrapped {border: 1px dashed gray;margin: 0 0.4em 0.5em 0.4em;box-sizing: border-box;padding-bottom: 0.4em;background-color: white;}#sk-container-id-12 div.sk-label label {font-family: monospace;font-weight: bold;display: inline-block;line-height: 1.2em;}#sk-container-id-12 div.sk-label-container {text-align: center;}#sk-container-id-12 div.sk-container {/* jupyter's `normalize.less` sets `[hidden] { display: none; }` but bootstrap.min.css set `[hidden] { display: none !important; }` so we also need the `!important` here to be able to override the default hidden behavior on the sphinx rendered scikit-learn.org. See: https://github.com/scikit-learn/scikit-learn/issues/21755 */display: inline-block !important;position: relative;}#sk-container-id-12 div.sk-text-repr-fallback {display: none;}</style><div id=\"sk-container-id-12\" class=\"sk-top-container\"><div class=\"sk-text-repr-fallback\"><pre>KMeans(n_clusters=4, n_init=&#x27;auto&#x27;, random_state=42)</pre><b>In a Jupyter environment, please rerun this cell to show the HTML representation or trust the notebook. <br />On GitHub, the HTML representation is unable to render, please try loading this page with nbviewer.org.</b></div><div class=\"sk-container\" hidden><div class=\"sk-item\"><div class=\"sk-estimator sk-toggleable\"><input class=\"sk-toggleable__control sk-hidden--visually\" id=\"sk-estimator-id-22\" type=\"checkbox\" checked><label for=\"sk-estimator-id-22\" class=\"sk-toggleable__label sk-toggleable__label-arrow\">KMeans</label><div class=\"sk-toggleable__content\"><pre>KMeans(n_clusters=4, n_init=&#x27;auto&#x27;, random_state=42)</pre></div></div></div></div></div>"
            ]
          },
          "metadata": {},
          "execution_count": 140
        }
      ]
    },
    {
      "cell_type": "code",
      "source": [
        "ari_best = adjusted_rand_score(y, kmeans_best.labels_)\n",
        "print(f'ARI per 4 cluster ({kmeans_best}): {ari_best}')"
      ],
      "metadata": {
        "colab": {
          "base_uri": "https://localhost:8080/"
        },
        "id": "_G-t99EhviP-",
        "outputId": "26c13efd-2b82-4d2f-b0ab-7e110765ee83"
      },
      "execution_count": 141,
      "outputs": [
        {
          "output_type": "stream",
          "name": "stdout",
          "text": [
            "ARI per 4 cluster (KMeans(n_clusters=4, n_init='auto', random_state=42)): 0.059301249140028545\n"
          ]
        }
      ]
    },
    {
      "cell_type": "markdown",
      "source": [],
      "metadata": {
        "id": "qC5gtZt0vuyQ"
      }
    }
  ],
  "metadata": {
    "colab": {
      "provenance": [],
      "toc_visible": true
    },
    "kernelspec": {
      "display_name": "Python 3",
      "name": "python3"
    },
    "language_info": {
      "name": "python"
    }
  },
  "nbformat": 4,
  "nbformat_minor": 0
}